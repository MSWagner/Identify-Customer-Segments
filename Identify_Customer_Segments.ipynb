{
 "cells": [
  {
   "cell_type": "markdown",
   "metadata": {},
   "source": [
    "# Project: Identify Customer Segments\n",
    "\n",
    "In this project, we will apply unsupervised learning techniques to identify segments of the population that form the core customer base for a mail-order sales company in Germany. \n",
    "\n",
    "These segments can then be used to direct marketing campaigns towards audiences that will have the highest expected rate of returns. The data that you will use has been provided by our partners at Bertelsmann Arvato Analytics, and represents a real-life data science task."
   ]
  },
  {
   "cell_type": "code",
   "execution_count": 1,
   "metadata": {},
   "outputs": [
    {
     "data": {
      "text/plain": [
       "'\\nImport note: The classroom currently uses sklearn version 0.19.\\nIf you need to use an imputer, it is available in sklearn.preprocessing.Imputer,\\ninstead of sklearn.impute as in newer versions of sklearn.\\n'"
      ]
     },
     "execution_count": 1,
     "metadata": {},
     "output_type": "execute_result"
    }
   ],
   "source": [
    "import numpy as np\n",
    "import pandas as pd\n",
    "import matplotlib.pyplot as plt\n",
    "import seaborn as sns\n",
    "\n",
    "from sklearn.preprocessing import StandardScaler, Imputer\n",
    "from sklearn.decomposition import PCA\n",
    "from sklearn.cluster import KMeans\n",
    "\n",
    "# magic word for producing visualizations in notebook\n",
    "%matplotlib inline\n",
    "\n",
    "'''\n",
    "Import note: The classroom currently uses sklearn version 0.19.\n",
    "If you need to use an imputer, it is available in sklearn.preprocessing.Imputer,\n",
    "instead of sklearn.impute as in newer versions of sklearn.\n",
    "'''"
   ]
  },
  {
   "cell_type": "markdown",
   "metadata": {},
   "source": [
    "### Step 0: Load the Data\n",
    "\n",
    "There are four files associated with this project (not including this one):\n",
    "\n",
    "- `Udacity_AZDIAS_Subset.csv`: Demographics data for the general population of Germany; 891211 persons (rows) x 85 features (columns).\n",
    "- `Udacity_CUSTOMERS_Subset.csv`: Demographics data for customers of a mail-order company; 191652 persons (rows) x 85 features (columns).\n",
    "- `Data_Dictionary.md`: Detailed information file about the features in the provided datasets.\n",
    "- `AZDIAS_Feature_Summary.csv`: Summary of feature attributes for demographics data; 85 features (rows) x 4 columns\n",
    "\n",
    "Each row of the demographics files represents a single person, but also includes information outside of individuals, including information about their household, building, and neighborhood. You will use this information to cluster the general population into groups with similar demographic properties. Then, you will see how the people in the customers dataset fit into those created clusters. The hope here is that certain clusters are over-represented in the customers data, as compared to the general population; those over-represented clusters will be assumed to be part of the core userbase. This information can then be used for further applications, such as targeting for a marketing campaign.\n",
    "\n",
    "To start off with, load in the demographics data for the general population into a pandas DataFrame, and do the same for the feature attributes summary. Note for all of the `.csv` data files in this project: they're semicolon (`;`) delimited, so you'll need an additional argument in your [`read_csv()`](https://pandas.pydata.org/pandas-docs/stable/generated/pandas.read_csv.html) call to read in the data properly. Also, considering the size of the main dataset, it may take some time for it to load completely.\n",
    "\n",
    "Once the dataset is loaded, it's recommended that you take a little bit of time just browsing the general structure of the dataset and feature summary file. You'll be getting deep into the innards of the cleaning in the first major step of the project, so gaining some general familiarity can help you get your bearings."
   ]
  },
  {
   "cell_type": "code",
   "execution_count": 2,
   "metadata": {},
   "outputs": [],
   "source": [
    "# Load in the general demographics data.\n",
    "azdias = pd.read_csv(\"Udacity_AZDIAS_Subset.csv\", sep=';')\n",
    "\n",
    "# Load in the feature summary file.\n",
    "feat_info = pd.read_csv(\"AZDIAS_Feature_Summary.csv\", sep=';')"
   ]
  },
  {
   "cell_type": "code",
   "execution_count": 3,
   "metadata": {},
   "outputs": [
    {
     "name": "stdout",
     "output_type": "stream",
     "text": [
      "Rows: 891221, Columns: 85\n"
     ]
    }
   ],
   "source": [
    "# Check the structure of the data after it's loaded (e.g. print the number of\n",
    "# rows and columns, print the first few rows).\n",
    "\n",
    "print(\"Rows: {}, Columns: {}\".format(azdias.shape[0], azdias.shape[1]))"
   ]
  },
  {
   "cell_type": "code",
   "execution_count": 4,
   "metadata": {},
   "outputs": [
    {
     "data": {
      "text/html": [
       "<div>\n",
       "<style scoped>\n",
       "    .dataframe tbody tr th:only-of-type {\n",
       "        vertical-align: middle;\n",
       "    }\n",
       "\n",
       "    .dataframe tbody tr th {\n",
       "        vertical-align: top;\n",
       "    }\n",
       "\n",
       "    .dataframe thead th {\n",
       "        text-align: right;\n",
       "    }\n",
       "</style>\n",
       "<table border=\"1\" class=\"dataframe\">\n",
       "  <thead>\n",
       "    <tr style=\"text-align: right;\">\n",
       "      <th></th>\n",
       "      <th>AGER_TYP</th>\n",
       "      <th>ALTERSKATEGORIE_GROB</th>\n",
       "      <th>ANREDE_KZ</th>\n",
       "      <th>CJT_GESAMTTYP</th>\n",
       "      <th>FINANZ_MINIMALIST</th>\n",
       "      <th>FINANZ_SPARER</th>\n",
       "      <th>FINANZ_VORSORGER</th>\n",
       "      <th>FINANZ_ANLEGER</th>\n",
       "      <th>FINANZ_UNAUFFAELLIGER</th>\n",
       "      <th>FINANZ_HAUSBAUER</th>\n",
       "      <th>...</th>\n",
       "      <th>PLZ8_ANTG1</th>\n",
       "      <th>PLZ8_ANTG2</th>\n",
       "      <th>PLZ8_ANTG3</th>\n",
       "      <th>PLZ8_ANTG4</th>\n",
       "      <th>PLZ8_BAUMAX</th>\n",
       "      <th>PLZ8_HHZ</th>\n",
       "      <th>PLZ8_GBZ</th>\n",
       "      <th>ARBEIT</th>\n",
       "      <th>ORTSGR_KLS9</th>\n",
       "      <th>RELAT_AB</th>\n",
       "    </tr>\n",
       "  </thead>\n",
       "  <tbody>\n",
       "    <tr>\n",
       "      <th>0</th>\n",
       "      <td>-1</td>\n",
       "      <td>2</td>\n",
       "      <td>1</td>\n",
       "      <td>2.0</td>\n",
       "      <td>3</td>\n",
       "      <td>4</td>\n",
       "      <td>3</td>\n",
       "      <td>5</td>\n",
       "      <td>5</td>\n",
       "      <td>3</td>\n",
       "      <td>...</td>\n",
       "      <td>NaN</td>\n",
       "      <td>NaN</td>\n",
       "      <td>NaN</td>\n",
       "      <td>NaN</td>\n",
       "      <td>NaN</td>\n",
       "      <td>NaN</td>\n",
       "      <td>NaN</td>\n",
       "      <td>NaN</td>\n",
       "      <td>NaN</td>\n",
       "      <td>NaN</td>\n",
       "    </tr>\n",
       "    <tr>\n",
       "      <th>1</th>\n",
       "      <td>-1</td>\n",
       "      <td>1</td>\n",
       "      <td>2</td>\n",
       "      <td>5.0</td>\n",
       "      <td>1</td>\n",
       "      <td>5</td>\n",
       "      <td>2</td>\n",
       "      <td>5</td>\n",
       "      <td>4</td>\n",
       "      <td>5</td>\n",
       "      <td>...</td>\n",
       "      <td>2.0</td>\n",
       "      <td>3.0</td>\n",
       "      <td>2.0</td>\n",
       "      <td>1.0</td>\n",
       "      <td>1.0</td>\n",
       "      <td>5.0</td>\n",
       "      <td>4.0</td>\n",
       "      <td>3.0</td>\n",
       "      <td>5.0</td>\n",
       "      <td>4.0</td>\n",
       "    </tr>\n",
       "    <tr>\n",
       "      <th>2</th>\n",
       "      <td>-1</td>\n",
       "      <td>3</td>\n",
       "      <td>2</td>\n",
       "      <td>3.0</td>\n",
       "      <td>1</td>\n",
       "      <td>4</td>\n",
       "      <td>1</td>\n",
       "      <td>2</td>\n",
       "      <td>3</td>\n",
       "      <td>5</td>\n",
       "      <td>...</td>\n",
       "      <td>3.0</td>\n",
       "      <td>3.0</td>\n",
       "      <td>1.0</td>\n",
       "      <td>0.0</td>\n",
       "      <td>1.0</td>\n",
       "      <td>4.0</td>\n",
       "      <td>4.0</td>\n",
       "      <td>3.0</td>\n",
       "      <td>5.0</td>\n",
       "      <td>2.0</td>\n",
       "    </tr>\n",
       "    <tr>\n",
       "      <th>3</th>\n",
       "      <td>2</td>\n",
       "      <td>4</td>\n",
       "      <td>2</td>\n",
       "      <td>2.0</td>\n",
       "      <td>4</td>\n",
       "      <td>2</td>\n",
       "      <td>5</td>\n",
       "      <td>2</td>\n",
       "      <td>1</td>\n",
       "      <td>2</td>\n",
       "      <td>...</td>\n",
       "      <td>2.0</td>\n",
       "      <td>2.0</td>\n",
       "      <td>2.0</td>\n",
       "      <td>0.0</td>\n",
       "      <td>1.0</td>\n",
       "      <td>3.0</td>\n",
       "      <td>4.0</td>\n",
       "      <td>2.0</td>\n",
       "      <td>3.0</td>\n",
       "      <td>3.0</td>\n",
       "    </tr>\n",
       "    <tr>\n",
       "      <th>4</th>\n",
       "      <td>-1</td>\n",
       "      <td>3</td>\n",
       "      <td>1</td>\n",
       "      <td>5.0</td>\n",
       "      <td>4</td>\n",
       "      <td>3</td>\n",
       "      <td>4</td>\n",
       "      <td>1</td>\n",
       "      <td>3</td>\n",
       "      <td>2</td>\n",
       "      <td>...</td>\n",
       "      <td>2.0</td>\n",
       "      <td>4.0</td>\n",
       "      <td>2.0</td>\n",
       "      <td>1.0</td>\n",
       "      <td>2.0</td>\n",
       "      <td>3.0</td>\n",
       "      <td>3.0</td>\n",
       "      <td>4.0</td>\n",
       "      <td>6.0</td>\n",
       "      <td>5.0</td>\n",
       "    </tr>\n",
       "  </tbody>\n",
       "</table>\n",
       "<p>5 rows × 85 columns</p>\n",
       "</div>"
      ],
      "text/plain": [
       "   AGER_TYP  ALTERSKATEGORIE_GROB  ANREDE_KZ  CJT_GESAMTTYP  \\\n",
       "0        -1                     2          1            2.0   \n",
       "1        -1                     1          2            5.0   \n",
       "2        -1                     3          2            3.0   \n",
       "3         2                     4          2            2.0   \n",
       "4        -1                     3          1            5.0   \n",
       "\n",
       "   FINANZ_MINIMALIST  FINANZ_SPARER  FINANZ_VORSORGER  FINANZ_ANLEGER  \\\n",
       "0                  3              4                 3               5   \n",
       "1                  1              5                 2               5   \n",
       "2                  1              4                 1               2   \n",
       "3                  4              2                 5               2   \n",
       "4                  4              3                 4               1   \n",
       "\n",
       "   FINANZ_UNAUFFAELLIGER  FINANZ_HAUSBAUER    ...     PLZ8_ANTG1  PLZ8_ANTG2  \\\n",
       "0                      5                 3    ...            NaN         NaN   \n",
       "1                      4                 5    ...            2.0         3.0   \n",
       "2                      3                 5    ...            3.0         3.0   \n",
       "3                      1                 2    ...            2.0         2.0   \n",
       "4                      3                 2    ...            2.0         4.0   \n",
       "\n",
       "   PLZ8_ANTG3  PLZ8_ANTG4  PLZ8_BAUMAX  PLZ8_HHZ  PLZ8_GBZ  ARBEIT  \\\n",
       "0         NaN         NaN          NaN       NaN       NaN     NaN   \n",
       "1         2.0         1.0          1.0       5.0       4.0     3.0   \n",
       "2         1.0         0.0          1.0       4.0       4.0     3.0   \n",
       "3         2.0         0.0          1.0       3.0       4.0     2.0   \n",
       "4         2.0         1.0          2.0       3.0       3.0     4.0   \n",
       "\n",
       "   ORTSGR_KLS9  RELAT_AB  \n",
       "0          NaN       NaN  \n",
       "1          5.0       4.0  \n",
       "2          5.0       2.0  \n",
       "3          3.0       3.0  \n",
       "4          6.0       5.0  \n",
       "\n",
       "[5 rows x 85 columns]"
      ]
     },
     "execution_count": 4,
     "metadata": {},
     "output_type": "execute_result"
    }
   ],
   "source": [
    "azdias.head()"
   ]
  },
  {
   "cell_type": "code",
   "execution_count": 5,
   "metadata": {},
   "outputs": [
    {
     "name": "stdout",
     "output_type": "stream",
     "text": [
      "<class 'pandas.core.frame.DataFrame'>\n",
      "RangeIndex: 891221 entries, 0 to 891220\n",
      "Data columns (total 85 columns):\n",
      "AGER_TYP                 891221 non-null int64\n",
      "ALTERSKATEGORIE_GROB     891221 non-null int64\n",
      "ANREDE_KZ                891221 non-null int64\n",
      "CJT_GESAMTTYP            886367 non-null float64\n",
      "FINANZ_MINIMALIST        891221 non-null int64\n",
      "FINANZ_SPARER            891221 non-null int64\n",
      "FINANZ_VORSORGER         891221 non-null int64\n",
      "FINANZ_ANLEGER           891221 non-null int64\n",
      "FINANZ_UNAUFFAELLIGER    891221 non-null int64\n",
      "FINANZ_HAUSBAUER         891221 non-null int64\n",
      "FINANZTYP                891221 non-null int64\n",
      "GEBURTSJAHR              891221 non-null int64\n",
      "GFK_URLAUBERTYP          886367 non-null float64\n",
      "GREEN_AVANTGARDE         891221 non-null int64\n",
      "HEALTH_TYP               891221 non-null int64\n",
      "LP_LEBENSPHASE_FEIN      886367 non-null float64\n",
      "LP_LEBENSPHASE_GROB      886367 non-null float64\n",
      "LP_FAMILIE_FEIN          886367 non-null float64\n",
      "LP_FAMILIE_GROB          886367 non-null float64\n",
      "LP_STATUS_FEIN           886367 non-null float64\n",
      "LP_STATUS_GROB           886367 non-null float64\n",
      "NATIONALITAET_KZ         891221 non-null int64\n",
      "PRAEGENDE_JUGENDJAHRE    891221 non-null int64\n",
      "RETOURTYP_BK_S           886367 non-null float64\n",
      "SEMIO_SOZ                891221 non-null int64\n",
      "SEMIO_FAM                891221 non-null int64\n",
      "SEMIO_REL                891221 non-null int64\n",
      "SEMIO_MAT                891221 non-null int64\n",
      "SEMIO_VERT               891221 non-null int64\n",
      "SEMIO_LUST               891221 non-null int64\n",
      "SEMIO_ERL                891221 non-null int64\n",
      "SEMIO_KULT               891221 non-null int64\n",
      "SEMIO_RAT                891221 non-null int64\n",
      "SEMIO_KRIT               891221 non-null int64\n",
      "SEMIO_DOM                891221 non-null int64\n",
      "SEMIO_KAEM               891221 non-null int64\n",
      "SEMIO_PFLICHT            891221 non-null int64\n",
      "SEMIO_TRADV              891221 non-null int64\n",
      "SHOPPER_TYP              891221 non-null int64\n",
      "SOHO_KZ                  817722 non-null float64\n",
      "TITEL_KZ                 817722 non-null float64\n",
      "VERS_TYP                 891221 non-null int64\n",
      "ZABEOTYP                 891221 non-null int64\n",
      "ALTER_HH                 817722 non-null float64\n",
      "ANZ_PERSONEN             817722 non-null float64\n",
      "ANZ_TITEL                817722 non-null float64\n",
      "HH_EINKOMMEN_SCORE       872873 non-null float64\n",
      "KK_KUNDENTYP             306609 non-null float64\n",
      "W_KEIT_KIND_HH           783619 non-null float64\n",
      "WOHNDAUER_2008           817722 non-null float64\n",
      "ANZ_HAUSHALTE_AKTIV      798073 non-null float64\n",
      "ANZ_HH_TITEL             794213 non-null float64\n",
      "GEBAEUDETYP              798073 non-null float64\n",
      "KONSUMNAEHE              817252 non-null float64\n",
      "MIN_GEBAEUDEJAHR         798073 non-null float64\n",
      "OST_WEST_KZ              798073 non-null object\n",
      "WOHNLAGE                 798073 non-null float64\n",
      "CAMEO_DEUG_2015          792242 non-null object\n",
      "CAMEO_DEU_2015           792242 non-null object\n",
      "CAMEO_INTL_2015          792242 non-null object\n",
      "KBA05_ANTG1              757897 non-null float64\n",
      "KBA05_ANTG2              757897 non-null float64\n",
      "KBA05_ANTG3              757897 non-null float64\n",
      "KBA05_ANTG4              757897 non-null float64\n",
      "KBA05_BAUMAX             757897 non-null float64\n",
      "KBA05_GBZ                757897 non-null float64\n",
      "BALLRAUM                 797481 non-null float64\n",
      "EWDICHTE                 797481 non-null float64\n",
      "INNENSTADT               797481 non-null float64\n",
      "GEBAEUDETYP_RASTER       798066 non-null float64\n",
      "KKK                      770025 non-null float64\n",
      "MOBI_REGIO               757897 non-null float64\n",
      "ONLINE_AFFINITAET        886367 non-null float64\n",
      "REGIOTYP                 770025 non-null float64\n",
      "KBA13_ANZAHL_PKW         785421 non-null float64\n",
      "PLZ8_ANTG1               774706 non-null float64\n",
      "PLZ8_ANTG2               774706 non-null float64\n",
      "PLZ8_ANTG3               774706 non-null float64\n",
      "PLZ8_ANTG4               774706 non-null float64\n",
      "PLZ8_BAUMAX              774706 non-null float64\n",
      "PLZ8_HHZ                 774706 non-null float64\n",
      "PLZ8_GBZ                 774706 non-null float64\n",
      "ARBEIT                   794005 non-null float64\n",
      "ORTSGR_KLS9              794005 non-null float64\n",
      "RELAT_AB                 794005 non-null float64\n",
      "dtypes: float64(49), int64(32), object(4)\n",
      "memory usage: 578.0+ MB\n"
     ]
    }
   ],
   "source": [
    "azdias.info()"
   ]
  },
  {
   "cell_type": "code",
   "execution_count": 6,
   "metadata": {},
   "outputs": [
    {
     "data": {
      "text/html": [
       "<div>\n",
       "<style scoped>\n",
       "    .dataframe tbody tr th:only-of-type {\n",
       "        vertical-align: middle;\n",
       "    }\n",
       "\n",
       "    .dataframe tbody tr th {\n",
       "        vertical-align: top;\n",
       "    }\n",
       "\n",
       "    .dataframe thead th {\n",
       "        text-align: right;\n",
       "    }\n",
       "</style>\n",
       "<table border=\"1\" class=\"dataframe\">\n",
       "  <thead>\n",
       "    <tr style=\"text-align: right;\">\n",
       "      <th></th>\n",
       "      <th>AGER_TYP</th>\n",
       "      <th>ALTERSKATEGORIE_GROB</th>\n",
       "      <th>ANREDE_KZ</th>\n",
       "      <th>CJT_GESAMTTYP</th>\n",
       "      <th>FINANZ_MINIMALIST</th>\n",
       "      <th>FINANZ_SPARER</th>\n",
       "      <th>FINANZ_VORSORGER</th>\n",
       "      <th>FINANZ_ANLEGER</th>\n",
       "      <th>FINANZ_UNAUFFAELLIGER</th>\n",
       "      <th>FINANZ_HAUSBAUER</th>\n",
       "      <th>...</th>\n",
       "      <th>PLZ8_ANTG1</th>\n",
       "      <th>PLZ8_ANTG2</th>\n",
       "      <th>PLZ8_ANTG3</th>\n",
       "      <th>PLZ8_ANTG4</th>\n",
       "      <th>PLZ8_BAUMAX</th>\n",
       "      <th>PLZ8_HHZ</th>\n",
       "      <th>PLZ8_GBZ</th>\n",
       "      <th>ARBEIT</th>\n",
       "      <th>ORTSGR_KLS9</th>\n",
       "      <th>RELAT_AB</th>\n",
       "    </tr>\n",
       "  </thead>\n",
       "  <tbody>\n",
       "    <tr>\n",
       "      <th>count</th>\n",
       "      <td>891221.000000</td>\n",
       "      <td>891221.000000</td>\n",
       "      <td>891221.000000</td>\n",
       "      <td>886367.000000</td>\n",
       "      <td>891221.000000</td>\n",
       "      <td>891221.000000</td>\n",
       "      <td>891221.000000</td>\n",
       "      <td>891221.000000</td>\n",
       "      <td>891221.000000</td>\n",
       "      <td>891221.000000</td>\n",
       "      <td>...</td>\n",
       "      <td>774706.000000</td>\n",
       "      <td>774706.000000</td>\n",
       "      <td>774706.000000</td>\n",
       "      <td>774706.000000</td>\n",
       "      <td>774706.000000</td>\n",
       "      <td>774706.000000</td>\n",
       "      <td>774706.000000</td>\n",
       "      <td>794005.000000</td>\n",
       "      <td>794005.000000</td>\n",
       "      <td>794005.00000</td>\n",
       "    </tr>\n",
       "    <tr>\n",
       "      <th>mean</th>\n",
       "      <td>-0.358435</td>\n",
       "      <td>2.777398</td>\n",
       "      <td>1.522098</td>\n",
       "      <td>3.632838</td>\n",
       "      <td>3.074528</td>\n",
       "      <td>2.821039</td>\n",
       "      <td>3.401106</td>\n",
       "      <td>3.033328</td>\n",
       "      <td>2.874167</td>\n",
       "      <td>3.075121</td>\n",
       "      <td>...</td>\n",
       "      <td>2.253330</td>\n",
       "      <td>2.801858</td>\n",
       "      <td>1.595426</td>\n",
       "      <td>0.699166</td>\n",
       "      <td>1.943913</td>\n",
       "      <td>3.612821</td>\n",
       "      <td>3.381087</td>\n",
       "      <td>3.167854</td>\n",
       "      <td>5.293002</td>\n",
       "      <td>3.07222</td>\n",
       "    </tr>\n",
       "    <tr>\n",
       "      <th>std</th>\n",
       "      <td>1.198724</td>\n",
       "      <td>1.068775</td>\n",
       "      <td>0.499512</td>\n",
       "      <td>1.595021</td>\n",
       "      <td>1.321055</td>\n",
       "      <td>1.464749</td>\n",
       "      <td>1.322134</td>\n",
       "      <td>1.529603</td>\n",
       "      <td>1.486731</td>\n",
       "      <td>1.353248</td>\n",
       "      <td>...</td>\n",
       "      <td>0.972008</td>\n",
       "      <td>0.920309</td>\n",
       "      <td>0.986736</td>\n",
       "      <td>0.727137</td>\n",
       "      <td>1.459654</td>\n",
       "      <td>0.973967</td>\n",
       "      <td>1.111598</td>\n",
       "      <td>1.002376</td>\n",
       "      <td>2.303739</td>\n",
       "      <td>1.36298</td>\n",
       "    </tr>\n",
       "    <tr>\n",
       "      <th>min</th>\n",
       "      <td>-1.000000</td>\n",
       "      <td>1.000000</td>\n",
       "      <td>1.000000</td>\n",
       "      <td>1.000000</td>\n",
       "      <td>1.000000</td>\n",
       "      <td>1.000000</td>\n",
       "      <td>1.000000</td>\n",
       "      <td>1.000000</td>\n",
       "      <td>1.000000</td>\n",
       "      <td>1.000000</td>\n",
       "      <td>...</td>\n",
       "      <td>0.000000</td>\n",
       "      <td>0.000000</td>\n",
       "      <td>0.000000</td>\n",
       "      <td>0.000000</td>\n",
       "      <td>1.000000</td>\n",
       "      <td>1.000000</td>\n",
       "      <td>1.000000</td>\n",
       "      <td>1.000000</td>\n",
       "      <td>0.000000</td>\n",
       "      <td>1.00000</td>\n",
       "    </tr>\n",
       "    <tr>\n",
       "      <th>25%</th>\n",
       "      <td>-1.000000</td>\n",
       "      <td>2.000000</td>\n",
       "      <td>1.000000</td>\n",
       "      <td>2.000000</td>\n",
       "      <td>2.000000</td>\n",
       "      <td>1.000000</td>\n",
       "      <td>3.000000</td>\n",
       "      <td>2.000000</td>\n",
       "      <td>2.000000</td>\n",
       "      <td>2.000000</td>\n",
       "      <td>...</td>\n",
       "      <td>1.000000</td>\n",
       "      <td>2.000000</td>\n",
       "      <td>1.000000</td>\n",
       "      <td>0.000000</td>\n",
       "      <td>1.000000</td>\n",
       "      <td>3.000000</td>\n",
       "      <td>3.000000</td>\n",
       "      <td>3.000000</td>\n",
       "      <td>4.000000</td>\n",
       "      <td>2.00000</td>\n",
       "    </tr>\n",
       "    <tr>\n",
       "      <th>50%</th>\n",
       "      <td>-1.000000</td>\n",
       "      <td>3.000000</td>\n",
       "      <td>2.000000</td>\n",
       "      <td>4.000000</td>\n",
       "      <td>3.000000</td>\n",
       "      <td>3.000000</td>\n",
       "      <td>3.000000</td>\n",
       "      <td>3.000000</td>\n",
       "      <td>3.000000</td>\n",
       "      <td>3.000000</td>\n",
       "      <td>...</td>\n",
       "      <td>2.000000</td>\n",
       "      <td>3.000000</td>\n",
       "      <td>2.000000</td>\n",
       "      <td>1.000000</td>\n",
       "      <td>1.000000</td>\n",
       "      <td>4.000000</td>\n",
       "      <td>3.000000</td>\n",
       "      <td>3.000000</td>\n",
       "      <td>5.000000</td>\n",
       "      <td>3.00000</td>\n",
       "    </tr>\n",
       "    <tr>\n",
       "      <th>75%</th>\n",
       "      <td>-1.000000</td>\n",
       "      <td>4.000000</td>\n",
       "      <td>2.000000</td>\n",
       "      <td>5.000000</td>\n",
       "      <td>4.000000</td>\n",
       "      <td>4.000000</td>\n",
       "      <td>5.000000</td>\n",
       "      <td>5.000000</td>\n",
       "      <td>4.000000</td>\n",
       "      <td>4.000000</td>\n",
       "      <td>...</td>\n",
       "      <td>3.000000</td>\n",
       "      <td>3.000000</td>\n",
       "      <td>2.000000</td>\n",
       "      <td>1.000000</td>\n",
       "      <td>3.000000</td>\n",
       "      <td>4.000000</td>\n",
       "      <td>4.000000</td>\n",
       "      <td>4.000000</td>\n",
       "      <td>7.000000</td>\n",
       "      <td>4.00000</td>\n",
       "    </tr>\n",
       "    <tr>\n",
       "      <th>max</th>\n",
       "      <td>3.000000</td>\n",
       "      <td>9.000000</td>\n",
       "      <td>2.000000</td>\n",
       "      <td>6.000000</td>\n",
       "      <td>5.000000</td>\n",
       "      <td>5.000000</td>\n",
       "      <td>5.000000</td>\n",
       "      <td>5.000000</td>\n",
       "      <td>5.000000</td>\n",
       "      <td>5.000000</td>\n",
       "      <td>...</td>\n",
       "      <td>4.000000</td>\n",
       "      <td>4.000000</td>\n",
       "      <td>3.000000</td>\n",
       "      <td>2.000000</td>\n",
       "      <td>5.000000</td>\n",
       "      <td>5.000000</td>\n",
       "      <td>5.000000</td>\n",
       "      <td>9.000000</td>\n",
       "      <td>9.000000</td>\n",
       "      <td>9.00000</td>\n",
       "    </tr>\n",
       "  </tbody>\n",
       "</table>\n",
       "<p>8 rows × 81 columns</p>\n",
       "</div>"
      ],
      "text/plain": [
       "            AGER_TYP  ALTERSKATEGORIE_GROB      ANREDE_KZ  CJT_GESAMTTYP  \\\n",
       "count  891221.000000         891221.000000  891221.000000  886367.000000   \n",
       "mean       -0.358435              2.777398       1.522098       3.632838   \n",
       "std         1.198724              1.068775       0.499512       1.595021   \n",
       "min        -1.000000              1.000000       1.000000       1.000000   \n",
       "25%        -1.000000              2.000000       1.000000       2.000000   \n",
       "50%        -1.000000              3.000000       2.000000       4.000000   \n",
       "75%        -1.000000              4.000000       2.000000       5.000000   \n",
       "max         3.000000              9.000000       2.000000       6.000000   \n",
       "\n",
       "       FINANZ_MINIMALIST  FINANZ_SPARER  FINANZ_VORSORGER  FINANZ_ANLEGER  \\\n",
       "count      891221.000000  891221.000000     891221.000000   891221.000000   \n",
       "mean            3.074528       2.821039          3.401106        3.033328   \n",
       "std             1.321055       1.464749          1.322134        1.529603   \n",
       "min             1.000000       1.000000          1.000000        1.000000   \n",
       "25%             2.000000       1.000000          3.000000        2.000000   \n",
       "50%             3.000000       3.000000          3.000000        3.000000   \n",
       "75%             4.000000       4.000000          5.000000        5.000000   \n",
       "max             5.000000       5.000000          5.000000        5.000000   \n",
       "\n",
       "       FINANZ_UNAUFFAELLIGER  FINANZ_HAUSBAUER      ...          PLZ8_ANTG1  \\\n",
       "count          891221.000000     891221.000000      ...       774706.000000   \n",
       "mean                2.874167          3.075121      ...            2.253330   \n",
       "std                 1.486731          1.353248      ...            0.972008   \n",
       "min                 1.000000          1.000000      ...            0.000000   \n",
       "25%                 2.000000          2.000000      ...            1.000000   \n",
       "50%                 3.000000          3.000000      ...            2.000000   \n",
       "75%                 4.000000          4.000000      ...            3.000000   \n",
       "max                 5.000000          5.000000      ...            4.000000   \n",
       "\n",
       "          PLZ8_ANTG2     PLZ8_ANTG3     PLZ8_ANTG4    PLZ8_BAUMAX  \\\n",
       "count  774706.000000  774706.000000  774706.000000  774706.000000   \n",
       "mean        2.801858       1.595426       0.699166       1.943913   \n",
       "std         0.920309       0.986736       0.727137       1.459654   \n",
       "min         0.000000       0.000000       0.000000       1.000000   \n",
       "25%         2.000000       1.000000       0.000000       1.000000   \n",
       "50%         3.000000       2.000000       1.000000       1.000000   \n",
       "75%         3.000000       2.000000       1.000000       3.000000   \n",
       "max         4.000000       3.000000       2.000000       5.000000   \n",
       "\n",
       "            PLZ8_HHZ       PLZ8_GBZ         ARBEIT    ORTSGR_KLS9  \\\n",
       "count  774706.000000  774706.000000  794005.000000  794005.000000   \n",
       "mean        3.612821       3.381087       3.167854       5.293002   \n",
       "std         0.973967       1.111598       1.002376       2.303739   \n",
       "min         1.000000       1.000000       1.000000       0.000000   \n",
       "25%         3.000000       3.000000       3.000000       4.000000   \n",
       "50%         4.000000       3.000000       3.000000       5.000000   \n",
       "75%         4.000000       4.000000       4.000000       7.000000   \n",
       "max         5.000000       5.000000       9.000000       9.000000   \n",
       "\n",
       "           RELAT_AB  \n",
       "count  794005.00000  \n",
       "mean        3.07222  \n",
       "std         1.36298  \n",
       "min         1.00000  \n",
       "25%         2.00000  \n",
       "50%         3.00000  \n",
       "75%         4.00000  \n",
       "max         9.00000  \n",
       "\n",
       "[8 rows x 81 columns]"
      ]
     },
     "execution_count": 6,
     "metadata": {},
     "output_type": "execute_result"
    }
   ],
   "source": [
    "azdias.describe()"
   ]
  },
  {
   "cell_type": "code",
   "execution_count": 7,
   "metadata": {},
   "outputs": [
    {
     "data": {
      "text/html": [
       "<div>\n",
       "<style scoped>\n",
       "    .dataframe tbody tr th:only-of-type {\n",
       "        vertical-align: middle;\n",
       "    }\n",
       "\n",
       "    .dataframe tbody tr th {\n",
       "        vertical-align: top;\n",
       "    }\n",
       "\n",
       "    .dataframe thead th {\n",
       "        text-align: right;\n",
       "    }\n",
       "</style>\n",
       "<table border=\"1\" class=\"dataframe\">\n",
       "  <thead>\n",
       "    <tr style=\"text-align: right;\">\n",
       "      <th></th>\n",
       "      <th>attribute</th>\n",
       "      <th>information_level</th>\n",
       "      <th>type</th>\n",
       "      <th>missing_or_unknown</th>\n",
       "    </tr>\n",
       "  </thead>\n",
       "  <tbody>\n",
       "    <tr>\n",
       "      <th>0</th>\n",
       "      <td>AGER_TYP</td>\n",
       "      <td>person</td>\n",
       "      <td>categorical</td>\n",
       "      <td>[-1,0]</td>\n",
       "    </tr>\n",
       "    <tr>\n",
       "      <th>1</th>\n",
       "      <td>ALTERSKATEGORIE_GROB</td>\n",
       "      <td>person</td>\n",
       "      <td>ordinal</td>\n",
       "      <td>[-1,0,9]</td>\n",
       "    </tr>\n",
       "    <tr>\n",
       "      <th>2</th>\n",
       "      <td>ANREDE_KZ</td>\n",
       "      <td>person</td>\n",
       "      <td>categorical</td>\n",
       "      <td>[-1,0]</td>\n",
       "    </tr>\n",
       "    <tr>\n",
       "      <th>3</th>\n",
       "      <td>CJT_GESAMTTYP</td>\n",
       "      <td>person</td>\n",
       "      <td>categorical</td>\n",
       "      <td>[0]</td>\n",
       "    </tr>\n",
       "    <tr>\n",
       "      <th>4</th>\n",
       "      <td>FINANZ_MINIMALIST</td>\n",
       "      <td>person</td>\n",
       "      <td>ordinal</td>\n",
       "      <td>[-1]</td>\n",
       "    </tr>\n",
       "  </tbody>\n",
       "</table>\n",
       "</div>"
      ],
      "text/plain": [
       "              attribute information_level         type missing_or_unknown\n",
       "0              AGER_TYP            person  categorical             [-1,0]\n",
       "1  ALTERSKATEGORIE_GROB            person      ordinal           [-1,0,9]\n",
       "2             ANREDE_KZ            person  categorical             [-1,0]\n",
       "3         CJT_GESAMTTYP            person  categorical                [0]\n",
       "4     FINANZ_MINIMALIST            person      ordinal               [-1]"
      ]
     },
     "execution_count": 7,
     "metadata": {},
     "output_type": "execute_result"
    }
   ],
   "source": [
    "feat_info.head()"
   ]
  },
  {
   "cell_type": "code",
   "execution_count": 8,
   "metadata": {},
   "outputs": [
    {
     "name": "stdout",
     "output_type": "stream",
     "text": [
      "<class 'pandas.core.frame.DataFrame'>\n",
      "RangeIndex: 85 entries, 0 to 84\n",
      "Data columns (total 4 columns):\n",
      "attribute             85 non-null object\n",
      "information_level     85 non-null object\n",
      "type                  85 non-null object\n",
      "missing_or_unknown    85 non-null object\n",
      "dtypes: object(4)\n",
      "memory usage: 2.7+ KB\n"
     ]
    }
   ],
   "source": [
    "feat_info.info()"
   ]
  },
  {
   "cell_type": "code",
   "execution_count": 9,
   "metadata": {},
   "outputs": [
    {
     "data": {
      "text/html": [
       "<div>\n",
       "<style scoped>\n",
       "    .dataframe tbody tr th:only-of-type {\n",
       "        vertical-align: middle;\n",
       "    }\n",
       "\n",
       "    .dataframe tbody tr th {\n",
       "        vertical-align: top;\n",
       "    }\n",
       "\n",
       "    .dataframe thead th {\n",
       "        text-align: right;\n",
       "    }\n",
       "</style>\n",
       "<table border=\"1\" class=\"dataframe\">\n",
       "  <thead>\n",
       "    <tr style=\"text-align: right;\">\n",
       "      <th></th>\n",
       "      <th>attribute</th>\n",
       "      <th>information_level</th>\n",
       "      <th>type</th>\n",
       "      <th>missing_or_unknown</th>\n",
       "    </tr>\n",
       "  </thead>\n",
       "  <tbody>\n",
       "    <tr>\n",
       "      <th>count</th>\n",
       "      <td>85</td>\n",
       "      <td>85</td>\n",
       "      <td>85</td>\n",
       "      <td>85</td>\n",
       "    </tr>\n",
       "    <tr>\n",
       "      <th>unique</th>\n",
       "      <td>85</td>\n",
       "      <td>9</td>\n",
       "      <td>5</td>\n",
       "      <td>9</td>\n",
       "    </tr>\n",
       "    <tr>\n",
       "      <th>top</th>\n",
       "      <td>GREEN_AVANTGARDE</td>\n",
       "      <td>person</td>\n",
       "      <td>ordinal</td>\n",
       "      <td>[-1]</td>\n",
       "    </tr>\n",
       "    <tr>\n",
       "      <th>freq</th>\n",
       "      <td>1</td>\n",
       "      <td>43</td>\n",
       "      <td>49</td>\n",
       "      <td>26</td>\n",
       "    </tr>\n",
       "  </tbody>\n",
       "</table>\n",
       "</div>"
      ],
      "text/plain": [
       "               attribute information_level     type missing_or_unknown\n",
       "count                 85                85       85                 85\n",
       "unique                85                 9        5                  9\n",
       "top     GREEN_AVANTGARDE            person  ordinal               [-1]\n",
       "freq                   1                43       49                 26"
      ]
     },
     "execution_count": 9,
     "metadata": {},
     "output_type": "execute_result"
    }
   ],
   "source": [
    "feat_info.describe()"
   ]
  },
  {
   "cell_type": "markdown",
   "metadata": {},
   "source": [
    "## Step 1: Preprocessing\n",
    "\n",
    "### Step 1.1: Assess Missing Data\n",
    "\n",
    "The feature summary file contains a summary of properties for each demographics data column.\n",
    "\n",
    "#### Step 1.1.1: Convert Missing Value Codes to NaNs\n",
    "The fourth column of the feature attributes summary (loaded in above as `feat_info`) documents the codes from the data dictionary that indicate missing or unknown data. While the file encodes this as a list (e.g. `[-1,0]`), this will get read in as a string object. You'll need to do a little bit of parsing to make use of it to identify and clean the data. Convert data that matches a 'missing' or 'unknown' value code into a numpy NaN value. You might want to see how much data takes on a 'missing' or 'unknown' code, and how much data is naturally missing, as a point of interest.\n",
    "\n",
    "**As one more reminder, you are encouraged to add additional cells to break up your analysis into manageable chunks.**"
   ]
  },
  {
   "cell_type": "code",
   "execution_count": 10,
   "metadata": {},
   "outputs": [
    {
     "data": {
      "text/plain": [
       "array(['[-1,0]', '[-1,0,9]', '[0]', '[-1]', '[]', '[-1,9]', '[-1,X]',\n",
       "       '[XX]', '[-1,XX]'], dtype=object)"
      ]
     },
     "execution_count": 10,
     "metadata": {},
     "output_type": "execute_result"
    }
   ],
   "source": [
    "feat_info.missing_or_unknown.unique()"
   ]
  },
  {
   "cell_type": "code",
   "execution_count": 11,
   "metadata": {},
   "outputs": [
    {
     "data": {
      "text/html": [
       "<div>\n",
       "<style scoped>\n",
       "    .dataframe tbody tr th:only-of-type {\n",
       "        vertical-align: middle;\n",
       "    }\n",
       "\n",
       "    .dataframe tbody tr th {\n",
       "        vertical-align: top;\n",
       "    }\n",
       "\n",
       "    .dataframe thead th {\n",
       "        text-align: right;\n",
       "    }\n",
       "</style>\n",
       "<table border=\"1\" class=\"dataframe\">\n",
       "  <thead>\n",
       "    <tr style=\"text-align: right;\">\n",
       "      <th></th>\n",
       "      <th>attribute</th>\n",
       "      <th>information_level</th>\n",
       "      <th>type</th>\n",
       "      <th>missing_or_unknown</th>\n",
       "    </tr>\n",
       "  </thead>\n",
       "  <tbody>\n",
       "    <tr>\n",
       "      <th>58</th>\n",
       "      <td>CAMEO_DEU_2015</td>\n",
       "      <td>microcell_rr4</td>\n",
       "      <td>categorical</td>\n",
       "      <td>[XX]</td>\n",
       "    </tr>\n",
       "  </tbody>\n",
       "</table>\n",
       "</div>"
      ],
      "text/plain": [
       "         attribute information_level         type missing_or_unknown\n",
       "58  CAMEO_DEU_2015     microcell_rr4  categorical               [XX]"
      ]
     },
     "execution_count": 11,
     "metadata": {},
     "output_type": "execute_result"
    }
   ],
   "source": [
    "feat_info[feat_info.missing_or_unknown == \"[XX]\"]"
   ]
  },
  {
   "cell_type": "code",
   "execution_count": 12,
   "metadata": {},
   "outputs": [
    {
     "data": {
      "text/plain": [
       "373"
      ]
     },
     "execution_count": 12,
     "metadata": {},
     "output_type": "execute_result"
    }
   ],
   "source": [
    "azdias.CAMEO_DEU_2015[azdias.CAMEO_DEU_2015 == \"XX\"].count()"
   ]
  },
  {
   "cell_type": "code",
   "execution_count": 13,
   "metadata": {},
   "outputs": [
    {
     "data": {
      "text/html": [
       "<div>\n",
       "<style scoped>\n",
       "    .dataframe tbody tr th:only-of-type {\n",
       "        vertical-align: middle;\n",
       "    }\n",
       "\n",
       "    .dataframe tbody tr th {\n",
       "        vertical-align: top;\n",
       "    }\n",
       "\n",
       "    .dataframe thead th {\n",
       "        text-align: right;\n",
       "    }\n",
       "</style>\n",
       "<table border=\"1\" class=\"dataframe\">\n",
       "  <thead>\n",
       "    <tr style=\"text-align: right;\">\n",
       "      <th></th>\n",
       "      <th>attribute</th>\n",
       "      <th>information_level</th>\n",
       "      <th>type</th>\n",
       "      <th>missing_or_unknown</th>\n",
       "    </tr>\n",
       "  </thead>\n",
       "  <tbody>\n",
       "    <tr>\n",
       "      <th>84</th>\n",
       "      <td>RELAT_AB</td>\n",
       "      <td>community</td>\n",
       "      <td>ordinal</td>\n",
       "      <td>[-1,9]</td>\n",
       "    </tr>\n",
       "  </tbody>\n",
       "</table>\n",
       "</div>"
      ],
      "text/plain": [
       "   attribute information_level     type missing_or_unknown\n",
       "84  RELAT_AB         community  ordinal             [-1,9]"
      ]
     },
     "execution_count": 13,
     "metadata": {},
     "output_type": "execute_result"
    }
   ],
   "source": [
    "feat_info[feat_info.missing_or_unknown == \"[-1,9]\"].tail(1)"
   ]
  },
  {
   "cell_type": "code",
   "execution_count": 14,
   "metadata": {},
   "outputs": [
    {
     "data": {
      "text/plain": [
       "159"
      ]
     },
     "execution_count": 14,
     "metadata": {},
     "output_type": "execute_result"
    }
   ],
   "source": [
    "azdias.RELAT_AB[azdias.RELAT_AB == 9].count()"
   ]
  },
  {
   "cell_type": "markdown",
   "metadata": {},
   "source": [
    "Besides integer values (0, -1, 9) there are obviously also the string values \"X\" and \"XX\" which stand for missing or unknow values. We also have to consider these values for parsing."
   ]
  },
  {
   "cell_type": "code",
   "execution_count": 15,
   "metadata": {},
   "outputs": [],
   "source": [
    "def missing_into_nan(df):\n",
    "    nan_values_before = df.isnull().sum().sum()\n",
    "    \n",
    "    df_cleaned = df.copy()\n",
    "    \n",
    "    for index in range(len(feat_info)):\n",
    "        missing_or_unknown = feat_info.iloc[index].missing_or_unknown\n",
    "    \n",
    "        missing_or_unknown = missing_or_unknown.replace(\"[\", \"\")\n",
    "        missing_or_unknown = missing_or_unknown.replace(\"]\", \"\")\n",
    "    \n",
    "        missing_or_unknown = missing_or_unknown.split(',')\n",
    "    \n",
    "        for nan_placeholder in missing_or_unknown:\n",
    "            if nan_placeholder == \"X\" or nan_placeholder == \"XX\":\n",
    "                df_cleaned = df_cleaned.replace({feat_info.iloc[index].attribute: nan_placeholder}, np.nan)\n",
    "            elif nan_placeholder != \"\":\n",
    "                df_cleaned = df_cleaned.replace({feat_info.iloc[index].attribute: int(nan_placeholder)}, np.nan)\n",
    "           \n",
    "    nan_values_after = df_cleaned.isnull().sum().sum()\n",
    "    \n",
    "    print(\"Numpy NaN values before parsing: {}\".format(nan_values_before))\n",
    "    print(\"Numpy NaN values after parsing: {}\".format(nan_values_after))\n",
    "    print(\"{} new NaN values\".format(nan_values_after - nan_values_before))\n",
    "\n",
    "    return df_cleaned"
   ]
  },
  {
   "cell_type": "code",
   "execution_count": 16,
   "metadata": {},
   "outputs": [
    {
     "name": "stdout",
     "output_type": "stream",
     "text": [
      "Numpy NaN values before parsing: 4896838\n",
      "Numpy NaN values after parsing: 8373929\n",
      "3477091 new NaN values\n"
     ]
    }
   ],
   "source": [
    "azdias_nan_parsed = missing_into_nan(azdias)"
   ]
  },
  {
   "cell_type": "markdown",
   "metadata": {},
   "source": [
    "Beside the brackets we also have to parse out the invalid character X. Missing or unknown values were converted to nan values in the process"
   ]
  },
  {
   "cell_type": "code",
   "execution_count": 17,
   "metadata": {},
   "outputs": [
    {
     "name": "stdout",
     "output_type": "stream",
     "text": [
      "Should be 0: True\n"
     ]
    }
   ],
   "source": [
    "print(\"Should be 0: {}\".format(azdias_nan_parsed.RELAT_AB[azdias.RELAT_AB == 9].count() == 0))"
   ]
  },
  {
   "cell_type": "code",
   "execution_count": 18,
   "metadata": {},
   "outputs": [
    {
     "name": "stdout",
     "output_type": "stream",
     "text": [
      "Should be 0: True\n"
     ]
    }
   ],
   "source": [
    "print(\"Should be 0: {}\".format(azdias_nan_parsed.CAMEO_DEU_2015[azdias.CAMEO_DEU_2015 == \"XX\"].count() == 0))"
   ]
  },
  {
   "cell_type": "markdown",
   "metadata": {},
   "source": [
    "#### Step 1.1.2: Assess Missing Data in Each Column\n",
    "\n",
    "How much missing data is present in each column? There are a few columns that are outliers in terms of the proportion of values that are missing. You will want to use matplotlib's [`hist()`](https://matplotlib.org/api/_as_gen/matplotlib.pyplot.hist.html) function to visualize the distribution of missing value counts to find these columns. Identify and document these columns. While some of these columns might have justifications for keeping or re-encoding the data, for this project you should just remove them from the dataframe. (Feel free to make remarks about these outlier columns in the discussion, however!)\n",
    "\n",
    "For the remaining features, are there any patterns in which columns have, or share, missing data?"
   ]
  },
  {
   "cell_type": "code",
   "execution_count": 19,
   "metadata": {},
   "outputs": [
    {
     "data": {
      "text/plain": [
       "ZABEOTYP                      0\n",
       "SEMIO_TRADV                   0\n",
       "SEMIO_PFLICHT                 0\n",
       "SEMIO_KAEM                    0\n",
       "SEMIO_DOM                     0\n",
       "SEMIO_KRIT                    0\n",
       "SEMIO_RAT                     0\n",
       "SEMIO_KULT                    0\n",
       "SEMIO_ERL                     0\n",
       "SEMIO_LUST                    0\n",
       "SEMIO_VERT                    0\n",
       "SEMIO_MAT                     0\n",
       "SEMIO_REL                     0\n",
       "SEMIO_SOZ                     0\n",
       "SEMIO_FAM                     0\n",
       "FINANZ_VORSORGER              0\n",
       "ANREDE_KZ                     0\n",
       "FINANZ_MINIMALIST             0\n",
       "FINANZ_SPARER                 0\n",
       "FINANZ_ANLEGER                0\n",
       "FINANZ_UNAUFFAELLIGER         0\n",
       "FINANZ_HAUSBAUER              0\n",
       "GREEN_AVANTGARDE              0\n",
       "FINANZTYP                     0\n",
       "ALTERSKATEGORIE_GROB       2881\n",
       "GFK_URLAUBERTYP            4854\n",
       "LP_STATUS_GROB             4854\n",
       "LP_STATUS_FEIN             4854\n",
       "ONLINE_AFFINITAET          4854\n",
       "RETOURTYP_BK_S             4854\n",
       "                          ...  \n",
       "CAMEO_INTL_2015           99352\n",
       "ANZ_HAUSHALTE_AKTIV       99611\n",
       "KBA13_ANZAHL_PKW         105800\n",
       "PRAEGENDE_JUGENDJAHRE    108164\n",
       "NATIONALITAET_KZ         108315\n",
       "HEALTH_TYP               111196\n",
       "VERS_TYP                 111196\n",
       "SHOPPER_TYP              111196\n",
       "PLZ8_ANTG2               116515\n",
       "PLZ8_ANTG3               116515\n",
       "PLZ8_ANTG1               116515\n",
       "PLZ8_ANTG4               116515\n",
       "PLZ8_BAUMAX              116515\n",
       "PLZ8_HHZ                 116515\n",
       "PLZ8_GBZ                 116515\n",
       "KBA05_ANTG3              133324\n",
       "KBA05_ANTG2              133324\n",
       "KBA05_ANTG1              133324\n",
       "MOBI_REGIO               133324\n",
       "KBA05_GBZ                133324\n",
       "KBA05_ANTG4              133324\n",
       "W_KEIT_KIND_HH           147988\n",
       "KKK                      158064\n",
       "REGIOTYP                 158064\n",
       "ALTER_HH                 310267\n",
       "GEBURTSJAHR              392318\n",
       "KBA05_BAUMAX             476524\n",
       "KK_KUNDENTYP             584612\n",
       "AGER_TYP                 685843\n",
       "TITEL_KZ                 889061\n",
       "Length: 85, dtype: int64"
      ]
     },
     "execution_count": 19,
     "metadata": {},
     "output_type": "execute_result"
    }
   ],
   "source": [
    "# Perform an assessment of how much missing data there is in each column of the\n",
    "# dataset.\n",
    "\n",
    "nan_per_column = azdias_nan_parsed.isnull().sum()\n",
    "nan_per_column.sort_values(inplace=True)\n",
    "\n",
    "nan_per_column"
   ]
  },
  {
   "cell_type": "code",
   "execution_count": 20,
   "metadata": {},
   "outputs": [
    {
     "data": {
      "text/plain": [
       "count        85.000000\n",
       "mean      98516.811765\n",
       "std      146604.203317\n",
       "min           0.000000\n",
       "25%           0.000000\n",
       "50%       93148.000000\n",
       "75%      116515.000000\n",
       "max      889061.000000\n",
       "dtype: float64"
      ]
     },
     "execution_count": 20,
     "metadata": {},
     "output_type": "execute_result"
    }
   ],
   "source": [
    "# Investigate patterns in the amount of missing data in each column.\n",
    "\n",
    "nan_per_column.describe()"
   ]
  },
  {
   "cell_type": "code",
   "execution_count": 21,
   "metadata": {},
   "outputs": [
    {
     "data": {
      "image/png": "[encoded data removed]",
      "text/plain": [
       "<matplotlib.figure.Figure at 0x7f0aa08b5c50>"
      ]
     },
     "metadata": {
      "needs_background": "light"
     },
     "output_type": "display_data"
    }
   ],
   "source": [
    "plt.figure(figsize=(16,6))\n",
    "plt.hist(nan_per_column, bins=50)\n",
    "plt.ylabel('Columns count')\n",
    "plt.xlabel('Missing values')\n",
    "plt.show()"
   ]
  },
  {
   "cell_type": "code",
   "execution_count": 22,
   "metadata": {},
   "outputs": [],
   "source": [
    "def show_percent_per_column(nan_per_column_percent):\n",
    "    nan_per_column_percent.sort_values(inplace=True)\n",
    "\n",
    "    nan_per_column_percent.plot.bar(figsize=(16,10), facecolor='blue')\n",
    "\n",
    "    plt.xlabel('Column name')\n",
    "    plt.ylabel('Missing values in %')\n",
    "\n",
    "    plt.show()"
   ]
  },
  {
   "cell_type": "code",
   "execution_count": 23,
   "metadata": {},
   "outputs": [
    {
     "data": {
      "image/png": "[encoded data removed]",
      "text/plain": [
       "<matplotlib.figure.Figure at 0x7f0ac877c898>"
      ]
     },
     "metadata": {
      "needs_background": "light"
     },
     "output_type": "display_data"
    }
   ],
   "source": [
    "nan_per_column_percent = nan_per_column/(azdias_nan_parsed.shape[0]) * 100\n",
    "\n",
    "show_percent_per_column(nan_per_column_percent)"
   ]
  },
  {
   "cell_type": "code",
   "execution_count": 24,
   "metadata": {},
   "outputs": [
    {
     "name": "stdout",
     "output_type": "stream",
     "text": [
      "24 columns\n",
      "ZABEOTYP                 0.0\n",
      "FINANZTYP                0.0\n",
      "GREEN_AVANTGARDE         0.0\n",
      "FINANZ_HAUSBAUER         0.0\n",
      "FINANZ_UNAUFFAELLIGER    0.0\n",
      "FINANZ_SPARER            0.0\n",
      "FINANZ_MINIMALIST        0.0\n",
      "ANREDE_KZ                0.0\n",
      "FINANZ_VORSORGER         0.0\n",
      "SEMIO_FAM                0.0\n",
      "SEMIO_SOZ                0.0\n",
      "SEMIO_REL                0.0\n",
      "FINANZ_ANLEGER           0.0\n",
      "SEMIO_VERT               0.0\n",
      "SEMIO_LUST               0.0\n",
      "SEMIO_ERL                0.0\n",
      "SEMIO_KULT               0.0\n",
      "SEMIO_RAT                0.0\n",
      "SEMIO_KRIT               0.0\n",
      "SEMIO_DOM                0.0\n",
      "SEMIO_KAEM               0.0\n",
      "SEMIO_PFLICHT            0.0\n",
      "SEMIO_TRADV              0.0\n",
      "SEMIO_MAT                0.0\n",
      "dtype: float64\n"
     ]
    }
   ],
   "source": [
    "null_nan_columns = nan_per_column_percent[nan_per_column_percent == 0]\n",
    "\n",
    "print(\"{} columns\".format(null_nan_columns.count()))\n",
    "print(null_nan_columns)"
   ]
  },
  {
   "cell_type": "markdown",
   "metadata": {},
   "source": [
    "These columns have 0 NaN values and can be kept in the dataset."
   ]
  },
  {
   "cell_type": "code",
   "execution_count": 25,
   "metadata": {},
   "outputs": [
    {
     "name": "stdout",
     "output_type": "stream",
     "text": [
      "55 columns\n",
      "ALTERSKATEGORIE_GROB      0.323264\n",
      "CJT_GESAMTTYP             0.544646\n",
      "RETOURTYP_BK_S            0.544646\n",
      "ONLINE_AFFINITAET         0.544646\n",
      "LP_STATUS_GROB            0.544646\n",
      "GFK_URLAUBERTYP           0.544646\n",
      "LP_STATUS_FEIN            0.544646\n",
      "HH_EINKOMMEN_SCORE        2.058749\n",
      "WOHNDAUER_2008            8.247000\n",
      "ANZ_TITEL                 8.247000\n",
      "SOHO_KZ                   8.247000\n",
      "ANZ_PERSONEN              8.247000\n",
      "KONSUMNAEHE               8.299737\n",
      "LP_FAMILIE_FEIN           8.728699\n",
      "LP_FAMILIE_GROB           8.728699\n",
      "GEBAEUDETYP              10.451729\n",
      "MIN_GEBAEUDEJAHR         10.451729\n",
      "OST_WEST_KZ              10.451729\n",
      "WOHNLAGE                 10.451729\n",
      "GEBAEUDETYP_RASTER       10.452514\n",
      "BALLRAUM                 10.518154\n",
      "EWDICHTE                 10.518154\n",
      "INNENSTADT               10.518154\n",
      "LP_LEBENSPHASE_GROB      10.611509\n",
      "ANZ_HH_TITEL             10.884842\n",
      "ORTSGR_KLS9              10.914689\n",
      "RELAT_AB                 10.926022\n",
      "ARBEIT                   10.926022\n",
      "LP_LEBENSPHASE_FEIN      10.954859\n",
      "CAMEO_DEUG_2015          11.147852\n",
      "CAMEO_DEU_2015           11.147852\n",
      "CAMEO_INTL_2015          11.147852\n",
      "ANZ_HAUSHALTE_AKTIV      11.176913\n",
      "KBA13_ANZAHL_PKW         11.871354\n",
      "PRAEGENDE_JUGENDJAHRE    12.136608\n",
      "NATIONALITAET_KZ         12.153551\n",
      "VERS_TYP                 12.476816\n",
      "SHOPPER_TYP              12.476816\n",
      "HEALTH_TYP               12.476816\n",
      "PLZ8_ANTG2               13.073637\n",
      "PLZ8_ANTG3               13.073637\n",
      "PLZ8_ANTG1               13.073637\n",
      "PLZ8_ANTG4               13.073637\n",
      "PLZ8_BAUMAX              13.073637\n",
      "PLZ8_HHZ                 13.073637\n",
      "PLZ8_GBZ                 13.073637\n",
      "MOBI_REGIO               14.959701\n",
      "KBA05_ANTG4              14.959701\n",
      "KBA05_GBZ                14.959701\n",
      "KBA05_ANTG1              14.959701\n",
      "KBA05_ANTG2              14.959701\n",
      "KBA05_ANTG3              14.959701\n",
      "W_KEIT_KIND_HH           16.605084\n",
      "KKK                      17.735668\n",
      "REGIOTYP                 17.735668\n",
      "dtype: float64\n"
     ]
    }
   ],
   "source": [
    "below_20_percent_nan_columns = nan_per_column_percent[(nan_per_column_percent > 0) & (nan_per_column_percent < 20)]\n",
    "\n",
    "print(\"{} columns\".format(below_20_percent_nan_columns.count()))\n",
    "print(below_20_percent_nan_columns)"
   ]
  },
  {
   "cell_type": "markdown",
   "metadata": {},
   "source": [
    "These columns have < 20% NaN values and can be kept also in the dataset."
   ]
  },
  {
   "cell_type": "code",
   "execution_count": 26,
   "metadata": {},
   "outputs": [
    {
     "name": "stdout",
     "output_type": "stream",
     "text": [
      "6 columns\n",
      "ALTER_HH        34.813699\n",
      "GEBURTSJAHR     44.020282\n",
      "KBA05_BAUMAX    53.468668\n",
      "KK_KUNDENTYP    65.596749\n",
      "AGER_TYP        76.955435\n",
      "TITEL_KZ        99.757636\n",
      "dtype: float64\n"
     ]
    }
   ],
   "source": [
    "over_20_percent_nan_columns = nan_per_column_percent[nan_per_column_percent > 20]\n",
    "\n",
    "print(\"{} columns\".format(over_20_percent_nan_columns.count()))\n",
    "print(over_20_percent_nan_columns)"
   ]
  },
  {
   "cell_type": "markdown",
   "metadata": {},
   "source": [
    "These 6 columns have > 20% NaN values and should be removed as outliers."
   ]
  },
  {
   "cell_type": "code",
   "execution_count": 27,
   "metadata": {},
   "outputs": [],
   "source": [
    "# Remove the outlier columns from the dataset. (You'll perform other data\n",
    "# engineering tasks such as re-encoding and imputation later.)\n",
    "\n",
    "def drop_outliers(df):\n",
    "    column_count_before = df.shape[1]\n",
    "    \n",
    "    df_cleaned = df.drop(over_20_percent_nan_columns.index, axis=1)\n",
    "    \n",
    "    column_count_after = df_cleaned.shape[1]\n",
    "\n",
    "    print(\"{} Columns dropped\".format(column_count_before - column_count_after))\n",
    "    \n",
    "    return df_cleaned"
   ]
  },
  {
   "cell_type": "code",
   "execution_count": 28,
   "metadata": {},
   "outputs": [
    {
     "name": "stdout",
     "output_type": "stream",
     "text": [
      "6 Columns dropped\n"
     ]
    }
   ],
   "source": [
    "azdias_column_dopped = drop_outliers(azdias_nan_parsed)"
   ]
  },
  {
   "cell_type": "code",
   "execution_count": 29,
   "metadata": {},
   "outputs": [],
   "source": [
    "# Create a feat_info without the dropped columns\n",
    "\n",
    "feat_info_column_dropped = feat_info.copy()\n",
    "for column_name in over_20_percent_nan_columns.index:\n",
    "    feat_info_column_dropped = feat_info_column_dropped[feat_info_column_dropped.attribute != column_name]"
   ]
  },
  {
   "cell_type": "code",
   "execution_count": 30,
   "metadata": {},
   "outputs": [
    {
     "data": {
      "image/png": "[encoded data removed]",
      "text/plain": [
       "<matplotlib.figure.Figure at 0x7f0aacfdf080>"
      ]
     },
     "metadata": {
      "needs_background": "light"
     },
     "output_type": "display_data"
    }
   ],
   "source": [
    "nan_per_column = azdias_column_dopped.isnull().sum()\n",
    "\n",
    "show_percent_per_column(nan_per_column/(azdias_column_dopped.shape[0]) * 100)"
   ]
  },
  {
   "cell_type": "code",
   "execution_count": 31,
   "metadata": {},
   "outputs": [
    {
     "data": {
      "text/plain": [
       "count        79.000000\n",
       "mean      63738.025316\n",
       "std       54253.866391\n",
       "min           0.000000\n",
       "25%           0.000000\n",
       "50%       93148.000000\n",
       "75%      108239.500000\n",
       "max      158064.000000\n",
       "dtype: float64"
      ]
     },
     "execution_count": 31,
     "metadata": {},
     "output_type": "execute_result"
    }
   ],
   "source": [
    "nan_per_column.describe()"
   ]
  },
  {
   "cell_type": "markdown",
   "metadata": {},
   "source": [
    "#### Discussion 1.1.2: Assess Missing Data in Each Column"
   ]
  },
  {
   "cell_type": "markdown",
   "metadata": {},
   "source": [
    "24 columns have zero NaN values. Most of them are personality and financial typology columns. These columns are themselves classifications that have been created based on different, similar or perhaps even the same data. It seems logical that therefore no NaN values are included, but the accuracy of the classification is not known. We should keep this in mind.\n",
    "\n",
    "55 columns have 0 > x < 20 NaN values. The percentage number of nan values is manageable.\n",
    "\n",
    "6 columns have > 20% NaN values and I removed all off them as outlies."
   ]
  },
  {
   "cell_type": "markdown",
   "metadata": {},
   "source": [
    "#### Step 1.1.3: Assess Missing Data in Each Row\n",
    "\n",
    "Now, you'll perform a similar assessment for the rows of the dataset. How much data is missing in each row? As with the columns, you should see some groups of points that have a very different numbers of missing values. Divide the data into two subsets: one for data points that are above some threshold for missing values, and a second subset for points below that threshold.\n",
    "\n",
    "In order to know what to do with the outlier rows, we should see if the distribution of data values on columns that are not missing data (or are missing very little data) are similar or different between the two groups. Select at least five of these columns and compare the distribution of values.\n",
    "- You can use seaborn's [`countplot()`](https://seaborn.pydata.org/generated/seaborn.countplot.html) function to create a bar chart of code frequencies and matplotlib's [`subplot()`](https://matplotlib.org/api/_as_gen/matplotlib.pyplot.subplot.html) function to put bar charts for the two subplots side by side.\n",
    "- To reduce repeated code, you might want to write a function that can perform this comparison, taking as one of its arguments a column to be compared.\n",
    "\n",
    "Depending on what you observe in your comparison, this will have implications on how you approach your conclusions later in the analysis. If the distributions of non-missing features look similar between the data with many missing values and the data with few or no missing values, then we could argue that simply dropping those points from the analysis won't present a major issue. On the other hand, if the data with many missing values looks very different from the data with few or no missing values, then we should make a note on those data as special. We'll revisit these data later on. **Either way, you should continue your analysis for now using just the subset of the data with few or no missing values.**"
   ]
  },
  {
   "cell_type": "code",
   "execution_count": 32,
   "metadata": {},
   "outputs": [],
   "source": [
    "# How much data is missing in each row of the dataset?\n",
    "rows_with_nan_sum = azdias_column_dopped.isnull().sum(axis=1)\n",
    "rows_with_nan_sum.sort_values(inplace=True)\n",
    "\n",
    "rows_with_percent_of_nan = rows_with_nan_sum/(azdias_column_dopped.shape[1]) * 100"
   ]
  },
  {
   "cell_type": "code",
   "execution_count": 33,
   "metadata": {},
   "outputs": [
    {
     "data": {
      "image/png": "[encoded data removed]",
      "text/plain": [
       "<matplotlib.figure.Figure at 0x7f0a9c486710>"
      ]
     },
     "metadata": {
      "needs_background": "light"
     },
     "output_type": "display_data"
    }
   ],
   "source": [
    "plt.figure(figsize=(16,6))\n",
    "plt.hist(rows_with_percent_of_nan, bins=50)\n",
    "plt.ylabel('Count of rows')\n",
    "plt.xlabel('Missing values in %')\n",
    "plt.show()"
   ]
  },
  {
   "cell_type": "code",
   "execution_count": 34,
   "metadata": {},
   "outputs": [
    {
     "data": {
      "text/plain": [
       "count    891221.000000\n",
       "mean          5.649894\n",
       "std          13.234687\n",
       "min           0.000000\n",
       "25%           0.000000\n",
       "50%           0.000000\n",
       "75%           3.000000\n",
       "max          49.000000\n",
       "dtype: float64"
      ]
     },
     "execution_count": 34,
     "metadata": {},
     "output_type": "execute_result"
    }
   ],
   "source": [
    "rows_with_nan_sum.describe()"
   ]
  },
  {
   "cell_type": "markdown",
   "metadata": {},
   "source": [
    "More then 50% have no NaN values. 75% have <= 3 NaN values. I use this 75% percent of the rows for one subset and the rest for the other subset"
   ]
  },
  {
   "cell_type": "code",
   "execution_count": 35,
   "metadata": {},
   "outputs": [],
   "source": [
    "def get_few_nan_subset(df):\n",
    "    return df[df.isnull().sum(axis=1) <= 3]\n",
    "\n",
    "def get_many_nan_subset(df):\n",
    "    return df[df.isnull().sum(axis=1) > 3]"
   ]
  },
  {
   "cell_type": "code",
   "execution_count": 36,
   "metadata": {},
   "outputs": [],
   "source": [
    "# Write code to divide the data into two subsets based on the number of missing\n",
    "# values in each row.\n",
    "\n",
    "azdias_75_percent_lte_3 = get_few_nan_subset(azdias_column_dopped)\n",
    "azdias_25_percent_gt_3 = get_many_nan_subset(azdias_column_dopped)"
   ]
  },
  {
   "cell_type": "code",
   "execution_count": 37,
   "metadata": {},
   "outputs": [],
   "source": [
    "# Compare the distribution of values for at least five columns where there are\n",
    "# no or few missing values, between the two subsets."
   ]
  },
  {
   "cell_type": "code",
   "execution_count": 38,
   "metadata": {},
   "outputs": [
    {
     "data": {
      "text/plain": [
       "(684502, 79)"
      ]
     },
     "execution_count": 38,
     "metadata": {},
     "output_type": "execute_result"
    }
   ],
   "source": [
    "azdias_75_percent_lte_3.shape"
   ]
  },
  {
   "cell_type": "code",
   "execution_count": 39,
   "metadata": {},
   "outputs": [
    {
     "data": {
      "text/plain": [
       "(206719, 79)"
      ]
     },
     "execution_count": 39,
     "metadata": {},
     "output_type": "execute_result"
    }
   ],
   "source": [
    "azdias_25_percent_gt_3.shape"
   ]
  },
  {
   "cell_type": "markdown",
   "metadata": {},
   "source": [
    "Both subsets contain all columns."
   ]
  },
  {
   "cell_type": "code",
   "execution_count": 40,
   "metadata": {},
   "outputs": [],
   "source": [
    "def show_countplot(column_names):\n",
    "    name_count = len(column_names)\n",
    "    \n",
    "    fig, axs = plt.subplots(name_count, 2, figsize=(15, 3), facecolor='w', edgecolor='k')\n",
    "    fig.subplots_adjust(hspace = 2 , wspace = .2)\n",
    "    axs = axs.ravel()\n",
    "    \n",
    "    i = 0\n",
    "    for column_name in column_names:    \n",
    "        sns.countplot(azdias_75_percent_lte_3[column_name], ax=axs[i*2])\n",
    "        axs[i*2].set_title('0-3 Missing Values')\n",
    "        \n",
    "        sns.countplot(azdias_25_percent_gt_3[column_name], ax=axs[i*2+1])\n",
    "        axs[i*2+1].set_title('>3 Missing Values')\n",
    "        \n",
    "        i += 1"
   ]
  },
  {
   "cell_type": "code",
   "execution_count": 41,
   "metadata": {},
   "outputs": [
    {
     "data": {
      "image/png": "[encoded data removed]",
      "text/plain": [
       "<matplotlib.figure.Figure at 0x7f0a9c537f28>"
      ]
     },
     "metadata": {},
     "output_type": "display_data"
    }
   ],
   "source": [
    "columns_to_compare = null_nan_columns.index[:2]\n",
    "\n",
    "show_countplot(columns_to_compare)"
   ]
  },
  {
   "cell_type": "code",
   "execution_count": 42,
   "metadata": {},
   "outputs": [
    {
     "data": {
      "image/png": "[encoded data removed]",
      "text/plain": [
       "<matplotlib.figure.Figure at 0x7f0a9c2e76d8>"
      ]
     },
     "metadata": {},
     "output_type": "display_data"
    }
   ],
   "source": [
    "columns_to_compare = null_nan_columns.index[-2:]\n",
    "\n",
    "show_countplot(columns_to_compare)"
   ]
  },
  {
   "cell_type": "code",
   "execution_count": 43,
   "metadata": {},
   "outputs": [
    {
     "data": {
      "image/png": "[encoded data removed]",
      "text/plain": [
       "<matplotlib.figure.Figure at 0x7f0a9de3f6a0>"
      ]
     },
     "metadata": {},
     "output_type": "display_data"
    }
   ],
   "source": [
    "columns_to_compare = below_20_percent_nan_columns.index[:2]\n",
    "\n",
    "show_countplot(columns_to_compare)"
   ]
  },
  {
   "cell_type": "code",
   "execution_count": 44,
   "metadata": {},
   "outputs": [
    {
     "data": {
      "image/png": "[encoded data removed]",
      "text/plain": [
       "<matplotlib.figure.Figure at 0x7f0aa08d3438>"
      ]
     },
     "metadata": {},
     "output_type": "display_data"
    }
   ],
   "source": [
    "columns_to_compare = below_20_percent_nan_columns.index[-2:]\n",
    "\n",
    "show_countplot(columns_to_compare)"
   ]
  },
  {
   "cell_type": "markdown",
   "metadata": {},
   "source": [
    "#### Discussion 1.1.3: Assess Missing Data in Each Row"
   ]
  },
  {
   "cell_type": "markdown",
   "metadata": {},
   "source": [
    "The majority of 75% of the rows have a maximum of 3 NaN values. 50% of the rows do not have a single NaN value. 25% (206719 rows) have more than 3 NaN values, with a maximum of 49 NaN values per row.\n",
    "\n",
    "With this information I have created two subsets. One with a maximum of 3 NaN values per row (75% of the data) and one subset with more than 3 NaN values per row (25% of the data).\n",
    "\n",
    "Then I looked at how the NaN values are distributed between the subsets and individual columns.\n",
    "\n",
    "For a few columns, like ALTERSKATEGORIE_GROB, KKK, REGIOTYP and ZABEOTYP, there doesn't seem to be much difference between the subsets.\n",
    "\n",
    "For the other lines, however, there seem to be significant differences. We should keep this in mind."
   ]
  },
  {
   "cell_type": "markdown",
   "metadata": {},
   "source": [
    "### Step 1.2: Select and Re-Encode Features\n",
    "\n",
    "Checking for missing data isn't the only way in which you can prepare a dataset for analysis. Since the unsupervised learning techniques to be used will only work on data that is encoded numerically, you need to make a few encoding changes or additional assumptions to be able to make progress. In addition, while almost all of the values in the dataset are encoded using numbers, not all of them represent numeric values. Check the third column of the feature summary (`feat_info`) for a summary of types of measurement.\n",
    "- For numeric and interval data, these features can be kept without changes.\n",
    "- Most of the variables in the dataset are ordinal in nature. While ordinal values may technically be non-linear in spacing, make the simplifying assumption that the ordinal variables can be treated as being interval in nature (that is, kept without any changes).\n",
    "- Special handling may be necessary for the remaining two variable types: categorical, and 'mixed'.\n",
    "\n",
    "In the first two parts of this sub-step, you will perform an investigation of the categorical and mixed-type features and make a decision on each of them, whether you will keep, drop, or re-encode each. Then, in the last part, you will create a new data frame with only the selected and engineered columns.\n",
    "\n",
    "Data wrangling is often the trickiest part of the data analysis process, and there's a lot of it to be done here. But stick with it: once you're done with this step, you'll be ready to get to the machine learning parts of the project!"
   ]
  },
  {
   "cell_type": "code",
   "execution_count": 45,
   "metadata": {},
   "outputs": [
    {
     "data": {
      "text/plain": [
       "ordinal        49\n",
       "categorical    18\n",
       "numeric         6\n",
       "mixed           6\n",
       "Name: type, dtype: int64"
      ]
     },
     "execution_count": 45,
     "metadata": {},
     "output_type": "execute_result"
    }
   ],
   "source": [
    "# How many features are there of each data type?\n",
    "\n",
    "feat_info_column_dropped.type.value_counts()"
   ]
  },
  {
   "cell_type": "markdown",
   "metadata": {},
   "source": [
    "#### Step 1.2.1: Re-Encode Categorical Features\n",
    "\n",
    "For categorical data, you would ordinarily need to encode the levels as dummy variables. Depending on the number of categories, perform one of the following:\n",
    "- For binary (two-level) categoricals that take numeric values, you can keep them without needing to do anything.\n",
    "- There is one binary variable that takes on non-numeric values. For this one, you need to re-encode the values as numbers or create a dummy variable.\n",
    "- For multi-level categoricals (three or more values), you can choose to encode the values using multiple dummy variables (e.g. via [OneHotEncoder](http://scikit-learn.org/stable/modules/generated/sklearn.preprocessing.OneHotEncoder.html)), or (to keep things straightforward) just drop them from the analysis. As always, document your choices in the Discussion section."
   ]
  },
  {
   "cell_type": "code",
   "execution_count": 46,
   "metadata": {
    "scrolled": true
   },
   "outputs": [
    {
     "data": {
      "text/html": [
       "<div>\n",
       "<style scoped>\n",
       "    .dataframe tbody tr th:only-of-type {\n",
       "        vertical-align: middle;\n",
       "    }\n",
       "\n",
       "    .dataframe tbody tr th {\n",
       "        vertical-align: top;\n",
       "    }\n",
       "\n",
       "    .dataframe thead th {\n",
       "        text-align: right;\n",
       "    }\n",
       "</style>\n",
       "<table border=\"1\" class=\"dataframe\">\n",
       "  <thead>\n",
       "    <tr style=\"text-align: right;\">\n",
       "      <th></th>\n",
       "      <th>attribute</th>\n",
       "      <th>information_level</th>\n",
       "      <th>type</th>\n",
       "      <th>missing_or_unknown</th>\n",
       "    </tr>\n",
       "  </thead>\n",
       "  <tbody>\n",
       "    <tr>\n",
       "      <th>2</th>\n",
       "      <td>ANREDE_KZ</td>\n",
       "      <td>person</td>\n",
       "      <td>categorical</td>\n",
       "      <td>[-1,0]</td>\n",
       "    </tr>\n",
       "    <tr>\n",
       "      <th>3</th>\n",
       "      <td>CJT_GESAMTTYP</td>\n",
       "      <td>person</td>\n",
       "      <td>categorical</td>\n",
       "      <td>[0]</td>\n",
       "    </tr>\n",
       "    <tr>\n",
       "      <th>10</th>\n",
       "      <td>FINANZTYP</td>\n",
       "      <td>person</td>\n",
       "      <td>categorical</td>\n",
       "      <td>[-1]</td>\n",
       "    </tr>\n",
       "    <tr>\n",
       "      <th>12</th>\n",
       "      <td>GFK_URLAUBERTYP</td>\n",
       "      <td>person</td>\n",
       "      <td>categorical</td>\n",
       "      <td>[]</td>\n",
       "    </tr>\n",
       "    <tr>\n",
       "      <th>13</th>\n",
       "      <td>GREEN_AVANTGARDE</td>\n",
       "      <td>person</td>\n",
       "      <td>categorical</td>\n",
       "      <td>[]</td>\n",
       "    </tr>\n",
       "    <tr>\n",
       "      <th>17</th>\n",
       "      <td>LP_FAMILIE_FEIN</td>\n",
       "      <td>person</td>\n",
       "      <td>categorical</td>\n",
       "      <td>[0]</td>\n",
       "    </tr>\n",
       "    <tr>\n",
       "      <th>18</th>\n",
       "      <td>LP_FAMILIE_GROB</td>\n",
       "      <td>person</td>\n",
       "      <td>categorical</td>\n",
       "      <td>[0]</td>\n",
       "    </tr>\n",
       "    <tr>\n",
       "      <th>19</th>\n",
       "      <td>LP_STATUS_FEIN</td>\n",
       "      <td>person</td>\n",
       "      <td>categorical</td>\n",
       "      <td>[0]</td>\n",
       "    </tr>\n",
       "    <tr>\n",
       "      <th>20</th>\n",
       "      <td>LP_STATUS_GROB</td>\n",
       "      <td>person</td>\n",
       "      <td>categorical</td>\n",
       "      <td>[0]</td>\n",
       "    </tr>\n",
       "    <tr>\n",
       "      <th>21</th>\n",
       "      <td>NATIONALITAET_KZ</td>\n",
       "      <td>person</td>\n",
       "      <td>categorical</td>\n",
       "      <td>[-1,0]</td>\n",
       "    </tr>\n",
       "    <tr>\n",
       "      <th>38</th>\n",
       "      <td>SHOPPER_TYP</td>\n",
       "      <td>person</td>\n",
       "      <td>categorical</td>\n",
       "      <td>[-1]</td>\n",
       "    </tr>\n",
       "    <tr>\n",
       "      <th>39</th>\n",
       "      <td>SOHO_KZ</td>\n",
       "      <td>person</td>\n",
       "      <td>categorical</td>\n",
       "      <td>[-1]</td>\n",
       "    </tr>\n",
       "    <tr>\n",
       "      <th>41</th>\n",
       "      <td>VERS_TYP</td>\n",
       "      <td>person</td>\n",
       "      <td>categorical</td>\n",
       "      <td>[-1]</td>\n",
       "    </tr>\n",
       "    <tr>\n",
       "      <th>42</th>\n",
       "      <td>ZABEOTYP</td>\n",
       "      <td>person</td>\n",
       "      <td>categorical</td>\n",
       "      <td>[-1,9]</td>\n",
       "    </tr>\n",
       "    <tr>\n",
       "      <th>52</th>\n",
       "      <td>GEBAEUDETYP</td>\n",
       "      <td>building</td>\n",
       "      <td>categorical</td>\n",
       "      <td>[-1,0]</td>\n",
       "    </tr>\n",
       "    <tr>\n",
       "      <th>55</th>\n",
       "      <td>OST_WEST_KZ</td>\n",
       "      <td>building</td>\n",
       "      <td>categorical</td>\n",
       "      <td>[-1]</td>\n",
       "    </tr>\n",
       "    <tr>\n",
       "      <th>57</th>\n",
       "      <td>CAMEO_DEUG_2015</td>\n",
       "      <td>microcell_rr4</td>\n",
       "      <td>categorical</td>\n",
       "      <td>[-1,X]</td>\n",
       "    </tr>\n",
       "    <tr>\n",
       "      <th>58</th>\n",
       "      <td>CAMEO_DEU_2015</td>\n",
       "      <td>microcell_rr4</td>\n",
       "      <td>categorical</td>\n",
       "      <td>[XX]</td>\n",
       "    </tr>\n",
       "  </tbody>\n",
       "</table>\n",
       "</div>"
      ],
      "text/plain": [
       "           attribute information_level         type missing_or_unknown\n",
       "2          ANREDE_KZ            person  categorical             [-1,0]\n",
       "3      CJT_GESAMTTYP            person  categorical                [0]\n",
       "10         FINANZTYP            person  categorical               [-1]\n",
       "12   GFK_URLAUBERTYP            person  categorical                 []\n",
       "13  GREEN_AVANTGARDE            person  categorical                 []\n",
       "17   LP_FAMILIE_FEIN            person  categorical                [0]\n",
       "18   LP_FAMILIE_GROB            person  categorical                [0]\n",
       "19    LP_STATUS_FEIN            person  categorical                [0]\n",
       "20    LP_STATUS_GROB            person  categorical                [0]\n",
       "21  NATIONALITAET_KZ            person  categorical             [-1,0]\n",
       "38       SHOPPER_TYP            person  categorical               [-1]\n",
       "39           SOHO_KZ            person  categorical               [-1]\n",
       "41          VERS_TYP            person  categorical               [-1]\n",
       "42          ZABEOTYP            person  categorical             [-1,9]\n",
       "52       GEBAEUDETYP          building  categorical             [-1,0]\n",
       "55       OST_WEST_KZ          building  categorical               [-1]\n",
       "57   CAMEO_DEUG_2015     microcell_rr4  categorical             [-1,X]\n",
       "58    CAMEO_DEU_2015     microcell_rr4  categorical               [XX]"
      ]
     },
     "execution_count": 46,
     "metadata": {},
     "output_type": "execute_result"
    }
   ],
   "source": [
    "# Assess categorical variables: which are binary, which are multi-level, and\n",
    "# which one needs to be re-encoded?\n",
    "\n",
    "categorical_feat_infos = feat_info_column_dropped[feat_info_column_dropped.type == \"categorical\"]\n",
    "\n",
    "categorical_feat_infos"
   ]
  },
  {
   "cell_type": "code",
   "execution_count": 47,
   "metadata": {},
   "outputs": [],
   "source": [
    "binary_categories = []\n",
    "multi_level_categories = []\n",
    "\n",
    "for column_name in categorical_feat_infos.attribute.values:\n",
    "    categories = azdias_75_percent_lte_3[column_name].unique()\n",
    "    cat_count = len(categories)\n",
    "    \n",
    "    if cat_count == 2:\n",
    "        binary_categories.append(column_name)\n",
    "        \n",
    "        if categories.dtype == object:\n",
    "            binary_category_to_re_encode = column_name\n",
    "    elif cat_count > 2:\n",
    "        multi_level_categories.append(column_name)\n",
    "    else:\n",
    "        print(\"Error - This should not happen!\")"
   ]
  },
  {
   "cell_type": "code",
   "execution_count": 48,
   "metadata": {},
   "outputs": [
    {
     "data": {
      "text/plain": [
       "['ANREDE_KZ', 'GREEN_AVANTGARDE', 'SOHO_KZ', 'VERS_TYP', 'OST_WEST_KZ']"
      ]
     },
     "execution_count": 48,
     "metadata": {},
     "output_type": "execute_result"
    }
   ],
   "source": [
    "binary_categories"
   ]
  },
  {
   "cell_type": "code",
   "execution_count": 49,
   "metadata": {},
   "outputs": [
    {
     "data": {
      "text/plain": [
       "'OST_WEST_KZ'"
      ]
     },
     "execution_count": 49,
     "metadata": {},
     "output_type": "execute_result"
    }
   ],
   "source": [
    "binary_category_to_re_encode"
   ]
  },
  {
   "cell_type": "code",
   "execution_count": 50,
   "metadata": {},
   "outputs": [
    {
     "data": {
      "text/plain": [
       "['CJT_GESAMTTYP',\n",
       " 'FINANZTYP',\n",
       " 'GFK_URLAUBERTYP',\n",
       " 'LP_FAMILIE_FEIN',\n",
       " 'LP_FAMILIE_GROB',\n",
       " 'LP_STATUS_FEIN',\n",
       " 'LP_STATUS_GROB',\n",
       " 'NATIONALITAET_KZ',\n",
       " 'SHOPPER_TYP',\n",
       " 'ZABEOTYP',\n",
       " 'GEBAEUDETYP',\n",
       " 'CAMEO_DEUG_2015',\n",
       " 'CAMEO_DEU_2015']"
      ]
     },
     "execution_count": 50,
     "metadata": {},
     "output_type": "execute_result"
    }
   ],
   "source": [
    "multi_level_categories"
   ]
  },
  {
   "cell_type": "code",
   "execution_count": 51,
   "metadata": {},
   "outputs": [
    {
     "data": {
      "text/plain": [
       "array(['W', 'O'], dtype=object)"
      ]
     },
     "execution_count": 51,
     "metadata": {},
     "output_type": "execute_result"
    }
   ],
   "source": [
    "azdias_75_percent_lte_3[binary_category_to_re_encode].unique()"
   ]
  },
  {
   "cell_type": "code",
   "execution_count": 52,
   "metadata": {},
   "outputs": [],
   "source": [
    "def re_encode_binary(df):\n",
    "    return df.replace({binary_category_to_re_encode: {\"W\": 0, \"O\": 1}})"
   ]
  },
  {
   "cell_type": "code",
   "execution_count": 53,
   "metadata": {},
   "outputs": [],
   "source": [
    "# Re-encode binary object type to integer\n",
    "azdias_75_percent_lte_3_re_encode = re_encode_binary(azdias_75_percent_lte_3)"
   ]
  },
  {
   "cell_type": "code",
   "execution_count": 54,
   "metadata": {},
   "outputs": [
    {
     "data": {
      "text/plain": [
       "array([0, 1])"
      ]
     },
     "execution_count": 54,
     "metadata": {},
     "output_type": "execute_result"
    }
   ],
   "source": [
    "azdias_75_percent_lte_3_re_encode[binary_category_to_re_encode].unique()"
   ]
  },
  {
   "cell_type": "code",
   "execution_count": 55,
   "metadata": {},
   "outputs": [],
   "source": [
    "# Drop multi-level features\n",
    "\n",
    "def drop_multi_level(df):\n",
    "    count_before = df.shape[1]\n",
    "    \n",
    "    df_cleaned = df.copy()\n",
    "\n",
    "    for category in multi_level_categories:\n",
    "        df_cleaned = df_cleaned.drop(category, axis=1)\n",
    "\n",
    "    count_after = df_cleaned.shape[1]\n",
    "\n",
    "    print(\"{} Columns dropped.\".format(count_before - count_after))\n",
    "    \n",
    "    return df_cleaned"
   ]
  },
  {
   "cell_type": "code",
   "execution_count": 56,
   "metadata": {},
   "outputs": [
    {
     "name": "stdout",
     "output_type": "stream",
     "text": [
      "13 Columns dropped.\n"
     ]
    }
   ],
   "source": [
    "# Drop multi-level features\n",
    "\n",
    "azdias_75_percent_lte_3_re_encode_dropped = drop_multi_level(azdias_75_percent_lte_3_re_encode)"
   ]
  },
  {
   "cell_type": "markdown",
   "metadata": {},
   "source": [
    "#### Discussion 1.2.1: Re-Encode Categorical Features"
   ]
  },
  {
   "cell_type": "markdown",
   "metadata": {},
   "source": [
    "5 columns have categorical values. In the column OST_WEST_KZ I converted \"W\" (west germany) to 0 and \"O\" (east germany) to 1. All other categorical binary columns have remained unchanged.\n",
    "\n",
    "I have dropped the 13 multi-level category columns to keep things straightforward."
   ]
  },
  {
   "cell_type": "markdown",
   "metadata": {},
   "source": [
    "#### Step 1.2.2: Engineer Mixed-Type Features\n",
    "\n",
    "There are a handful of features that are marked as \"mixed\" in the feature summary that require special treatment in order to be included in the analysis. There are two in particular that deserve attention; the handling of the rest are up to your own choices:\n",
    "- \"PRAEGENDE_JUGENDJAHRE\" combines information on three dimensions: generation by decade, movement (mainstream vs. avantgarde), and nation (east vs. west). While there aren't enough levels to disentangle east from west, you should create two new variables to capture the other two dimensions: an interval-type variable for decade, and a binary variable for movement.\n",
    "- \"CAMEO_INTL_2015\" combines information on two axes: wealth and life stage. Break up the two-digit codes by their 'tens'-place and 'ones'-place digits into two new ordinal variables (which, for the purposes of this project, is equivalent to just treating them as their raw numeric values).\n",
    "- If you decide to keep or engineer new features around the other mixed-type features, make sure you note your steps in the Discussion section.\n",
    "\n",
    "Be sure to check `Data_Dictionary.md` for the details needed to finish these tasks."
   ]
  },
  {
   "cell_type": "code",
   "execution_count": 57,
   "metadata": {},
   "outputs": [],
   "source": [
    "azdias_mixed_features = azdias_75_percent_lte_3_re_encode_dropped.copy()"
   ]
  },
  {
   "cell_type": "code",
   "execution_count": 58,
   "metadata": {},
   "outputs": [
    {
     "data": {
      "text/plain": [
       "array([ 14.,  15.,   8.,   3.,  10.,  11.,   9.,   6.,   5.,   4.,  nan,\n",
       "         2.,   1.,  12.,  13.,   7.])"
      ]
     },
     "execution_count": 58,
     "metadata": {},
     "output_type": "execute_result"
    }
   ],
   "source": [
    "# Investigate \"PRAEGENDE_JUGENDJAHRE\" and engineer two new variables.\n",
    "\n",
    "azdias_mixed_features[\"PRAEGENDE_JUGENDJAHRE\"].unique()"
   ]
  },
  {
   "cell_type": "code",
   "execution_count": 59,
   "metadata": {},
   "outputs": [],
   "source": [
    "def get_decade(value):\n",
    "    if value in (1, 2):\n",
    "        return 1\n",
    "    if value in (3, 4):\n",
    "        return 2\n",
    "    if value in (5, 6, 7):\n",
    "        return 3\n",
    "    if value in (8, 9):\n",
    "        return 4\n",
    "    if value in (10, 11, 12, 13):\n",
    "        return 5\n",
    "    if value in (14, 15):\n",
    "        return 6\n",
    "    \n",
    "    return np.nan"
   ]
  },
  {
   "cell_type": "code",
   "execution_count": 60,
   "metadata": {},
   "outputs": [],
   "source": [
    "def get_movement(value):\n",
    "    if value in (1, 3, 5, 8, 10, 12, 14):\n",
    "        return 0\n",
    "    if value in (2, 4, 6, 7, 9, 11, 13, 15):\n",
    "        return 1\n",
    "    \n",
    "    return np.nan"
   ]
  },
  {
   "cell_type": "code",
   "execution_count": 61,
   "metadata": {},
   "outputs": [],
   "source": [
    "def engineer_features_praegende_jugendjahre(df):\n",
    "    df_engineered = df.copy()\n",
    "    \n",
    "    df_engineered['DECADE'] = df_engineered['PRAEGENDE_JUGENDJAHRE'].apply(get_decade)\n",
    "    df_engineered['MOVEMENT'] = df_engineered['PRAEGENDE_JUGENDJAHRE'].apply(get_movement)\n",
    "    \n",
    "    return df_engineered"
   ]
  },
  {
   "cell_type": "code",
   "execution_count": 62,
   "metadata": {},
   "outputs": [],
   "source": [
    "azdias_mixed_features = engineer_features_praegende_jugendjahre(azdias_mixed_features)"
   ]
  },
  {
   "cell_type": "code",
   "execution_count": 63,
   "metadata": {},
   "outputs": [
    {
     "data": {
      "text/plain": [
       "array([  6.,   4.,   2.,   5.,   3.,  nan,   1.])"
      ]
     },
     "execution_count": 63,
     "metadata": {},
     "output_type": "execute_result"
    }
   ],
   "source": [
    "azdias_mixed_features['DECADE'].unique()"
   ]
  },
  {
   "cell_type": "code",
   "execution_count": 64,
   "metadata": {},
   "outputs": [
    {
     "data": {
      "text/plain": [
       "array([  0.,   1.,  nan])"
      ]
     },
     "execution_count": 64,
     "metadata": {},
     "output_type": "execute_result"
    }
   ],
   "source": [
    "azdias_mixed_features['MOVEMENT'].unique()"
   ]
  },
  {
   "cell_type": "code",
   "execution_count": 65,
   "metadata": {},
   "outputs": [
    {
     "data": {
      "text/plain": [
       "array(['51', '24', '43', '54', '22', '14', '13', '15', '34', '55', '12',\n",
       "       '41', '25', '23', '31', '52', '35', '45', '33', '44', '32', nan], dtype=object)"
      ]
     },
     "execution_count": 65,
     "metadata": {},
     "output_type": "execute_result"
    }
   ],
   "source": [
    "# Investigate \"CAMEO_INTL_2015\" and engineer two new variables.\n",
    "\n",
    "azdias_mixed_features[\"CAMEO_INTL_2015\"].unique()"
   ]
  },
  {
   "cell_type": "code",
   "execution_count": 66,
   "metadata": {},
   "outputs": [],
   "source": [
    "def get_wealth(value):\n",
    "    if value == np.nan:\n",
    "        return value\n",
    "    \n",
    "    numberValue = float(value)\n",
    "    if numberValue in range(11, 15+1):\n",
    "        return 1\n",
    "    if numberValue in range(21, 25+1):\n",
    "        return 2\n",
    "    if numberValue in range(31, 35+1):\n",
    "        return 3\n",
    "    if numberValue in range(41, 45+1):\n",
    "        return 4\n",
    "    if numberValue in range(51, 55+1):\n",
    "        return 5\n",
    "    \n",
    "    return np.nan"
   ]
  },
  {
   "cell_type": "code",
   "execution_count": 67,
   "metadata": {},
   "outputs": [],
   "source": [
    "def get_life_stage(value):\n",
    "    if value == np.nan:\n",
    "        return value\n",
    "    \n",
    "    numberValue = float(value)\n",
    "    if numberValue % 10 == 1:\n",
    "        return 1\n",
    "    if numberValue % 10 == 2:\n",
    "        return 2\n",
    "    if numberValue % 10 == 3:\n",
    "        return 3\n",
    "    if numberValue % 10 == 4:\n",
    "        return 4\n",
    "    if numberValue % 10 == 5:\n",
    "        return 5\n",
    "    \n",
    "    return np.nan"
   ]
  },
  {
   "cell_type": "code",
   "execution_count": 68,
   "metadata": {},
   "outputs": [],
   "source": [
    "def engineer_features_cameo_intl_2015(df):\n",
    "    df_engineered = df.copy()\n",
    "    \n",
    "    df_engineered['WEALTH'] = df_engineered['CAMEO_INTL_2015'].apply(get_wealth)\n",
    "    df_engineered['LIFE_STAGE'] = df_engineered['CAMEO_INTL_2015'].apply(get_life_stage)\n",
    "    \n",
    "    return df_engineered"
   ]
  },
  {
   "cell_type": "code",
   "execution_count": 69,
   "metadata": {},
   "outputs": [],
   "source": [
    "azdias_mixed_features = engineer_features_cameo_intl_2015(azdias_mixed_features)"
   ]
  },
  {
   "cell_type": "code",
   "execution_count": 70,
   "metadata": {},
   "outputs": [
    {
     "data": {
      "text/plain": [
       "array([  5.,   2.,   4.,   1.,   3.,  nan])"
      ]
     },
     "execution_count": 70,
     "metadata": {},
     "output_type": "execute_result"
    }
   ],
   "source": [
    "azdias_mixed_features['WEALTH'].unique()"
   ]
  },
  {
   "cell_type": "code",
   "execution_count": 71,
   "metadata": {},
   "outputs": [
    {
     "data": {
      "text/plain": [
       "array([  1.,   4.,   3.,   2.,   5.,  nan])"
      ]
     },
     "execution_count": 71,
     "metadata": {},
     "output_type": "execute_result"
    }
   ],
   "source": [
    "azdias_mixed_features['LIFE_STAGE'].unique()"
   ]
  },
  {
   "cell_type": "code",
   "execution_count": 72,
   "metadata": {},
   "outputs": [
    {
     "data": {
      "text/html": [
       "<div>\n",
       "<style scoped>\n",
       "    .dataframe tbody tr th:only-of-type {\n",
       "        vertical-align: middle;\n",
       "    }\n",
       "\n",
       "    .dataframe tbody tr th {\n",
       "        vertical-align: top;\n",
       "    }\n",
       "\n",
       "    .dataframe thead th {\n",
       "        text-align: right;\n",
       "    }\n",
       "</style>\n",
       "<table border=\"1\" class=\"dataframe\">\n",
       "  <thead>\n",
       "    <tr style=\"text-align: right;\">\n",
       "      <th></th>\n",
       "      <th>attribute</th>\n",
       "      <th>information_level</th>\n",
       "      <th>type</th>\n",
       "      <th>missing_or_unknown</th>\n",
       "    </tr>\n",
       "  </thead>\n",
       "  <tbody>\n",
       "    <tr>\n",
       "      <th>15</th>\n",
       "      <td>LP_LEBENSPHASE_FEIN</td>\n",
       "      <td>person</td>\n",
       "      <td>mixed</td>\n",
       "      <td>[0]</td>\n",
       "    </tr>\n",
       "    <tr>\n",
       "      <th>16</th>\n",
       "      <td>LP_LEBENSPHASE_GROB</td>\n",
       "      <td>person</td>\n",
       "      <td>mixed</td>\n",
       "      <td>[0]</td>\n",
       "    </tr>\n",
       "    <tr>\n",
       "      <th>22</th>\n",
       "      <td>PRAEGENDE_JUGENDJAHRE</td>\n",
       "      <td>person</td>\n",
       "      <td>mixed</td>\n",
       "      <td>[-1,0]</td>\n",
       "    </tr>\n",
       "    <tr>\n",
       "      <th>56</th>\n",
       "      <td>WOHNLAGE</td>\n",
       "      <td>building</td>\n",
       "      <td>mixed</td>\n",
       "      <td>[-1]</td>\n",
       "    </tr>\n",
       "    <tr>\n",
       "      <th>59</th>\n",
       "      <td>CAMEO_INTL_2015</td>\n",
       "      <td>microcell_rr4</td>\n",
       "      <td>mixed</td>\n",
       "      <td>[-1,XX]</td>\n",
       "    </tr>\n",
       "    <tr>\n",
       "      <th>79</th>\n",
       "      <td>PLZ8_BAUMAX</td>\n",
       "      <td>macrocell_plz8</td>\n",
       "      <td>mixed</td>\n",
       "      <td>[-1,0]</td>\n",
       "    </tr>\n",
       "  </tbody>\n",
       "</table>\n",
       "</div>"
      ],
      "text/plain": [
       "                attribute information_level   type missing_or_unknown\n",
       "15    LP_LEBENSPHASE_FEIN            person  mixed                [0]\n",
       "16    LP_LEBENSPHASE_GROB            person  mixed                [0]\n",
       "22  PRAEGENDE_JUGENDJAHRE            person  mixed             [-1,0]\n",
       "56               WOHNLAGE          building  mixed               [-1]\n",
       "59        CAMEO_INTL_2015     microcell_rr4  mixed            [-1,XX]\n",
       "79            PLZ8_BAUMAX    macrocell_plz8  mixed             [-1,0]"
      ]
     },
     "execution_count": 72,
     "metadata": {},
     "output_type": "execute_result"
    }
   ],
   "source": [
    "mixed_feat_infos = feat_info_column_dropped[feat_info_column_dropped.type == \"mixed\"]\n",
    "\n",
    "mixed_feat_infos"
   ]
  },
  {
   "cell_type": "code",
   "execution_count": 73,
   "metadata": {},
   "outputs": [],
   "source": [
    "def drop_mixed_features(df):\n",
    "    df_cleaned = df.copy()\n",
    "    \n",
    "    count_before = df_cleaned.shape[1]\n",
    "    \n",
    "    df_cleaned = df_cleaned.drop(mixed_feat_infos.attribute.values, axis=1)\n",
    "\n",
    "    count_after = df_cleaned.shape[1]\n",
    "\n",
    "    print(\"{} Columns dropped.\".format(count_before - count_after))\n",
    "    \n",
    "    return df_cleaned\n"
   ]
  },
  {
   "cell_type": "code",
   "execution_count": 74,
   "metadata": {},
   "outputs": [
    {
     "name": "stdout",
     "output_type": "stream",
     "text": [
      "6 Columns dropped.\n"
     ]
    }
   ],
   "source": [
    "azdias_mixed_features_dopped = drop_mixed_features(azdias_mixed_features) "
   ]
  },
  {
   "cell_type": "markdown",
   "metadata": {},
   "source": [
    "#### Discussion 1.2.2: Engineer Mixed-Type Features"
   ]
  },
  {
   "cell_type": "markdown",
   "metadata": {},
   "source": [
    "As formulated in the task, two new columns were created from the PRAEGENDE_JUGENDJAHRE column and two from the CAMEO_INTL_2015 column. \n",
    "\n",
    "One new column from the PRAEGENDE_JUGENDJAHRE data is the DECADE column with 6 different categories for the decades 1940-1990. The other new column is MOVEMENT. It has 2 different categories with 0 for mainstream and 1 for avantgarde.\n",
    "\n",
    "The new columns generated from the CAMEO_INTL_2015 data are WEALTH and LIFE_STAGE. WEALTH has 5 catagories from 1 (wealthy) to 5 (poorer) and LIFE_STAGE has also 5 categories from 1 (Pre-Family Couples & Singles) to 5 (Elders In Retirement).\n",
    "\n",
    "All mixed type columns were dropped."
   ]
  },
  {
   "cell_type": "markdown",
   "metadata": {},
   "source": [
    "#### Step 1.2.3: Complete Feature Selection\n",
    "\n",
    "In order to finish this step up, you need to make sure that your data frame now only has the columns that you want to keep. To summarize, the dataframe should consist of the following:\n",
    "- All numeric, interval, and ordinal type columns from the original dataset.\n",
    "- Binary categorical features (all numerically-encoded).\n",
    "- Engineered features from other multi-level categorical features and mixed features.\n",
    "\n",
    "Make sure that for any new columns that you have engineered, that you've excluded the original columns from the final dataset. Otherwise, their values will interfere with the analysis later on the project. For example, you should not keep \"PRAEGENDE_JUGENDJAHRE\", since its values won't be useful for the algorithm: only the values derived from it in the engineered features you created should be retained. As a reminder, your data should only be from **the subset with few or no missing values**."
   ]
  },
  {
   "cell_type": "code",
   "execution_count": 75,
   "metadata": {},
   "outputs": [
    {
     "data": {
      "text/html": [
       "<div>\n",
       "<style scoped>\n",
       "    .dataframe tbody tr th:only-of-type {\n",
       "        vertical-align: middle;\n",
       "    }\n",
       "\n",
       "    .dataframe tbody tr th {\n",
       "        vertical-align: top;\n",
       "    }\n",
       "\n",
       "    .dataframe thead th {\n",
       "        text-align: right;\n",
       "    }\n",
       "</style>\n",
       "<table border=\"1\" class=\"dataframe\">\n",
       "  <thead>\n",
       "    <tr style=\"text-align: right;\">\n",
       "      <th></th>\n",
       "      <th>ALTERSKATEGORIE_GROB</th>\n",
       "      <th>ANREDE_KZ</th>\n",
       "      <th>FINANZ_MINIMALIST</th>\n",
       "      <th>FINANZ_SPARER</th>\n",
       "      <th>FINANZ_VORSORGER</th>\n",
       "      <th>FINANZ_ANLEGER</th>\n",
       "      <th>FINANZ_UNAUFFAELLIGER</th>\n",
       "      <th>FINANZ_HAUSBAUER</th>\n",
       "      <th>GREEN_AVANTGARDE</th>\n",
       "      <th>HEALTH_TYP</th>\n",
       "      <th>...</th>\n",
       "      <th>PLZ8_ANTG4</th>\n",
       "      <th>PLZ8_HHZ</th>\n",
       "      <th>PLZ8_GBZ</th>\n",
       "      <th>ARBEIT</th>\n",
       "      <th>ORTSGR_KLS9</th>\n",
       "      <th>RELAT_AB</th>\n",
       "      <th>DECADE</th>\n",
       "      <th>MOVEMENT</th>\n",
       "      <th>WEALTH</th>\n",
       "      <th>LIFE_STAGE</th>\n",
       "    </tr>\n",
       "  </thead>\n",
       "  <tbody>\n",
       "    <tr>\n",
       "      <th>1</th>\n",
       "      <td>1.0</td>\n",
       "      <td>2</td>\n",
       "      <td>1</td>\n",
       "      <td>5</td>\n",
       "      <td>2</td>\n",
       "      <td>5</td>\n",
       "      <td>4</td>\n",
       "      <td>5</td>\n",
       "      <td>0</td>\n",
       "      <td>3.0</td>\n",
       "      <td>...</td>\n",
       "      <td>1.0</td>\n",
       "      <td>5.0</td>\n",
       "      <td>4.0</td>\n",
       "      <td>3.0</td>\n",
       "      <td>5.0</td>\n",
       "      <td>4.0</td>\n",
       "      <td>6.0</td>\n",
       "      <td>0.0</td>\n",
       "      <td>5.0</td>\n",
       "      <td>1.0</td>\n",
       "    </tr>\n",
       "    <tr>\n",
       "      <th>2</th>\n",
       "      <td>3.0</td>\n",
       "      <td>2</td>\n",
       "      <td>1</td>\n",
       "      <td>4</td>\n",
       "      <td>1</td>\n",
       "      <td>2</td>\n",
       "      <td>3</td>\n",
       "      <td>5</td>\n",
       "      <td>1</td>\n",
       "      <td>3.0</td>\n",
       "      <td>...</td>\n",
       "      <td>0.0</td>\n",
       "      <td>4.0</td>\n",
       "      <td>4.0</td>\n",
       "      <td>3.0</td>\n",
       "      <td>5.0</td>\n",
       "      <td>2.0</td>\n",
       "      <td>6.0</td>\n",
       "      <td>1.0</td>\n",
       "      <td>2.0</td>\n",
       "      <td>4.0</td>\n",
       "    </tr>\n",
       "    <tr>\n",
       "      <th>4</th>\n",
       "      <td>3.0</td>\n",
       "      <td>1</td>\n",
       "      <td>4</td>\n",
       "      <td>3</td>\n",
       "      <td>4</td>\n",
       "      <td>1</td>\n",
       "      <td>3</td>\n",
       "      <td>2</td>\n",
       "      <td>0</td>\n",
       "      <td>3.0</td>\n",
       "      <td>...</td>\n",
       "      <td>1.0</td>\n",
       "      <td>3.0</td>\n",
       "      <td>3.0</td>\n",
       "      <td>4.0</td>\n",
       "      <td>6.0</td>\n",
       "      <td>5.0</td>\n",
       "      <td>4.0</td>\n",
       "      <td>0.0</td>\n",
       "      <td>4.0</td>\n",
       "      <td>3.0</td>\n",
       "    </tr>\n",
       "    <tr>\n",
       "      <th>5</th>\n",
       "      <td>1.0</td>\n",
       "      <td>2</td>\n",
       "      <td>3</td>\n",
       "      <td>1</td>\n",
       "      <td>5</td>\n",
       "      <td>2</td>\n",
       "      <td>2</td>\n",
       "      <td>5</td>\n",
       "      <td>0</td>\n",
       "      <td>3.0</td>\n",
       "      <td>...</td>\n",
       "      <td>1.0</td>\n",
       "      <td>5.0</td>\n",
       "      <td>5.0</td>\n",
       "      <td>2.0</td>\n",
       "      <td>3.0</td>\n",
       "      <td>3.0</td>\n",
       "      <td>2.0</td>\n",
       "      <td>0.0</td>\n",
       "      <td>5.0</td>\n",
       "      <td>4.0</td>\n",
       "    </tr>\n",
       "    <tr>\n",
       "      <th>6</th>\n",
       "      <td>2.0</td>\n",
       "      <td>2</td>\n",
       "      <td>1</td>\n",
       "      <td>5</td>\n",
       "      <td>1</td>\n",
       "      <td>5</td>\n",
       "      <td>4</td>\n",
       "      <td>3</td>\n",
       "      <td>0</td>\n",
       "      <td>2.0</td>\n",
       "      <td>...</td>\n",
       "      <td>0.0</td>\n",
       "      <td>5.0</td>\n",
       "      <td>5.0</td>\n",
       "      <td>4.0</td>\n",
       "      <td>6.0</td>\n",
       "      <td>3.0</td>\n",
       "      <td>5.0</td>\n",
       "      <td>0.0</td>\n",
       "      <td>2.0</td>\n",
       "      <td>2.0</td>\n",
       "    </tr>\n",
       "  </tbody>\n",
       "</table>\n",
       "<p>5 rows × 64 columns</p>\n",
       "</div>"
      ],
      "text/plain": [
       "   ALTERSKATEGORIE_GROB  ANREDE_KZ  FINANZ_MINIMALIST  FINANZ_SPARER  \\\n",
       "1                   1.0          2                  1              5   \n",
       "2                   3.0          2                  1              4   \n",
       "4                   3.0          1                  4              3   \n",
       "5                   1.0          2                  3              1   \n",
       "6                   2.0          2                  1              5   \n",
       "\n",
       "   FINANZ_VORSORGER  FINANZ_ANLEGER  FINANZ_UNAUFFAELLIGER  FINANZ_HAUSBAUER  \\\n",
       "1                 2               5                      4                 5   \n",
       "2                 1               2                      3                 5   \n",
       "4                 4               1                      3                 2   \n",
       "5                 5               2                      2                 5   \n",
       "6                 1               5                      4                 3   \n",
       "\n",
       "   GREEN_AVANTGARDE  HEALTH_TYP     ...      PLZ8_ANTG4  PLZ8_HHZ  PLZ8_GBZ  \\\n",
       "1                 0         3.0     ...             1.0       5.0       4.0   \n",
       "2                 1         3.0     ...             0.0       4.0       4.0   \n",
       "4                 0         3.0     ...             1.0       3.0       3.0   \n",
       "5                 0         3.0     ...             1.0       5.0       5.0   \n",
       "6                 0         2.0     ...             0.0       5.0       5.0   \n",
       "\n",
       "   ARBEIT  ORTSGR_KLS9  RELAT_AB  DECADE  MOVEMENT  WEALTH  LIFE_STAGE  \n",
       "1     3.0          5.0       4.0     6.0       0.0     5.0         1.0  \n",
       "2     3.0          5.0       2.0     6.0       1.0     2.0         4.0  \n",
       "4     4.0          6.0       5.0     4.0       0.0     4.0         3.0  \n",
       "5     2.0          3.0       3.0     2.0       0.0     5.0         4.0  \n",
       "6     4.0          6.0       3.0     5.0       0.0     2.0         2.0  \n",
       "\n",
       "[5 rows x 64 columns]"
      ]
     },
     "execution_count": 75,
     "metadata": {},
     "output_type": "execute_result"
    }
   ],
   "source": [
    "azdias_mixed_features_dopped.head()"
   ]
  },
  {
   "cell_type": "code",
   "execution_count": 76,
   "metadata": {},
   "outputs": [
    {
     "name": "stdout",
     "output_type": "stream",
     "text": [
      "<class 'pandas.core.frame.DataFrame'>\n",
      "Int64Index: 684502 entries, 1 to 891220\n",
      "Data columns (total 64 columns):\n",
      "ALTERSKATEGORIE_GROB     684502 non-null float64\n",
      "ANREDE_KZ                684502 non-null int64\n",
      "FINANZ_MINIMALIST        684502 non-null int64\n",
      "FINANZ_SPARER            684502 non-null int64\n",
      "FINANZ_VORSORGER         684502 non-null int64\n",
      "FINANZ_ANLEGER           684502 non-null int64\n",
      "FINANZ_UNAUFFAELLIGER    684502 non-null int64\n",
      "FINANZ_HAUSBAUER         684502 non-null int64\n",
      "GREEN_AVANTGARDE         684502 non-null int64\n",
      "HEALTH_TYP               684502 non-null float64\n",
      "RETOURTYP_BK_S           684502 non-null float64\n",
      "SEMIO_SOZ                684502 non-null int64\n",
      "SEMIO_FAM                684502 non-null int64\n",
      "SEMIO_REL                684502 non-null int64\n",
      "SEMIO_MAT                684502 non-null int64\n",
      "SEMIO_VERT               684502 non-null int64\n",
      "SEMIO_LUST               684502 non-null int64\n",
      "SEMIO_ERL                684502 non-null int64\n",
      "SEMIO_KULT               684502 non-null int64\n",
      "SEMIO_RAT                684502 non-null int64\n",
      "SEMIO_KRIT               684502 non-null int64\n",
      "SEMIO_DOM                684502 non-null int64\n",
      "SEMIO_KAEM               684502 non-null int64\n",
      "SEMIO_PFLICHT            684502 non-null int64\n",
      "SEMIO_TRADV              684502 non-null int64\n",
      "SOHO_KZ                  684502 non-null float64\n",
      "VERS_TYP                 684502 non-null float64\n",
      "ANZ_PERSONEN             684502 non-null float64\n",
      "ANZ_TITEL                684502 non-null float64\n",
      "HH_EINKOMMEN_SCORE       684502 non-null float64\n",
      "W_KEIT_KIND_HH           666425 non-null float64\n",
      "WOHNDAUER_2008           684502 non-null float64\n",
      "ANZ_HAUSHALTE_AKTIV      682041 non-null float64\n",
      "ANZ_HH_TITEL             683945 non-null float64\n",
      "KONSUMNAEHE              684466 non-null float64\n",
      "MIN_GEBAEUDEJAHR         684502 non-null float64\n",
      "OST_WEST_KZ              684502 non-null int64\n",
      "KBA05_ANTG1              684502 non-null float64\n",
      "KBA05_ANTG2              684502 non-null float64\n",
      "KBA05_ANTG3              684502 non-null float64\n",
      "KBA05_ANTG4              684502 non-null float64\n",
      "KBA05_GBZ                684502 non-null float64\n",
      "BALLRAUM                 684099 non-null float64\n",
      "EWDICHTE                 684099 non-null float64\n",
      "INNENSTADT               684099 non-null float64\n",
      "GEBAEUDETYP_RASTER       684500 non-null float64\n",
      "KKK                      646176 non-null float64\n",
      "MOBI_REGIO               684502 non-null float64\n",
      "ONLINE_AFFINITAET        684502 non-null float64\n",
      "REGIOTYP                 646176 non-null float64\n",
      "KBA13_ANZAHL_PKW         683949 non-null float64\n",
      "PLZ8_ANTG1               684502 non-null float64\n",
      "PLZ8_ANTG2               684502 non-null float64\n",
      "PLZ8_ANTG3               684502 non-null float64\n",
      "PLZ8_ANTG4               684502 non-null float64\n",
      "PLZ8_HHZ                 684502 non-null float64\n",
      "PLZ8_GBZ                 684502 non-null float64\n",
      "ARBEIT                   681074 non-null float64\n",
      "ORTSGR_KLS9              681144 non-null float64\n",
      "RELAT_AB                 681074 non-null float64\n",
      "DECADE                   677706 non-null float64\n",
      "MOVEMENT                 677706 non-null float64\n",
      "WEALTH                   681863 non-null float64\n",
      "LIFE_STAGE               681863 non-null float64\n",
      "dtypes: float64(41), int64(23)\n",
      "memory usage: 339.5 MB\n"
     ]
    }
   ],
   "source": [
    "azdias_mixed_features_dopped.info()"
   ]
  },
  {
   "cell_type": "markdown",
   "metadata": {},
   "source": [
    "### Step 1.3: Create a Cleaning Function\n",
    "\n",
    "Even though you've finished cleaning up the general population demographics data, it's important to look ahead to the future and realize that you'll need to perform the same cleaning steps on the customer demographics data. In this substep, complete the function below to execute the main feature selection, encoding, and re-engineering steps you performed above. Then, when it comes to looking at the customer data in Step 3, you can just run this function on that DataFrame to get the trimmed dataset in a single step."
   ]
  },
  {
   "cell_type": "code",
   "execution_count": 77,
   "metadata": {},
   "outputs": [],
   "source": [
    "def clean_data(df):\n",
    "    \"\"\"\n",
    "    Perform feature trimming, re-encoding, and engineering for demographics\n",
    "    data\n",
    "    \n",
    "    INPUT: Demographics DataFrame\n",
    "    OUTPUT: Trimmed and cleaned demographics DataFrame\n",
    "    \"\"\"\n",
    "    \n",
    "    # Put in code here to execute all main cleaning steps:\n",
    "    # convert missing value codes into NaNs, ...\n",
    "    \n",
    "    df_cleaned = missing_into_nan(df)\n",
    "    \n",
    "    # remove selected columns and rows, ...\n",
    "    \n",
    "    df_cleaned = drop_outliers(df_cleaned)\n",
    "    df_cleaned = get_few_nan_subset(df_cleaned)\n",
    "\n",
    "    # select, re-encode, and engineer column values.\n",
    "\n",
    "    df_cleaned = re_encode_binary(df_cleaned)\n",
    "    df_cleaned = drop_multi_level(df_cleaned)\n",
    "    \n",
    "    df_cleaned = engineer_features_praegende_jugendjahre(df_cleaned)\n",
    "    df_cleaned = engineer_features_cameo_intl_2015(df_cleaned)\n",
    "    \n",
    "    df_cleaned = drop_mixed_features(df_cleaned) \n",
    "    \n",
    "    # Return the cleaned dataframe.\n",
    "    \n",
    "    return df_cleaned"
   ]
  },
  {
   "cell_type": "markdown",
   "metadata": {},
   "source": [
    "## Step 2: Feature Transformation\n",
    "\n",
    "### Step 2.1: Apply Feature Scaling\n",
    "\n",
    "Before we apply dimensionality reduction techniques to the data, we need to perform feature scaling so that the principal component vectors are not influenced by the natural differences in scale for features. Starting from this part of the project, you'll want to keep an eye on the [API reference page for sklearn](http://scikit-learn.org/stable/modules/classes.html) to help you navigate to all of the classes and functions that you'll need. In this substep, you'll need to check the following:\n",
    "\n",
    "- sklearn requires that data not have missing values in order for its estimators to work properly. So, before applying the scaler to your data, make sure that you've cleaned the DataFrame of the remaining missing values. This can be as simple as just removing all data points with missing data, or applying an [Imputer](http://scikit-learn.org/stable/modules/generated/sklearn.preprocessing.Imputer.html) to replace all missing values. You might also try a more complicated procedure where you temporarily remove missing values in order to compute the scaling parameters before re-introducing those missing values and applying imputation. Think about how much missing data you have and what possible effects each approach might have on your analysis, and justify your decision in the discussion section below.\n",
    "- For the actual scaling function, a [StandardScaler](http://scikit-learn.org/stable/modules/generated/sklearn.preprocessing.StandardScaler.html) instance is suggested, scaling each feature to mean 0 and standard deviation 1.\n",
    "- For these classes, you can make use of the `.fit_transform()` method to both fit a procedure to the data as well as apply the transformation to the data at the same time. Don't forget to keep the fit sklearn objects handy, since you'll be applying them to the customer demographics data towards the end of the project."
   ]
  },
  {
   "cell_type": "code",
   "execution_count": 78,
   "metadata": {},
   "outputs": [
    {
     "name": "stdout",
     "output_type": "stream",
     "text": [
      "Count of NaN values: 128631\n",
      "Count of values: 684502\n",
      "18.792% of values are NaN\n"
     ]
    }
   ],
   "source": [
    "# If you've not yet cleaned the dataset of all NaN values, then investigate and\n",
    "# do that now.\n",
    "\n",
    "nan_value_count = azdias_mixed_features_dopped.isnull().sum().sum()\n",
    "\n",
    "print(\"Count of NaN values: {}\".format(nan_value_count))\n",
    "print(\"Count of values: {}\".format(azdias_mixed_features_dopped.shape[0]))\n",
    "\n",
    "print(\"{0:.3f}% of values are NaN\".format(nan_value_count / azdias_mixed_features_dopped.shape[0] * 100))"
   ]
  },
  {
   "cell_type": "code",
   "execution_count": 79,
   "metadata": {},
   "outputs": [],
   "source": [
    "# Apply feature scaling to the general population demographics data.\n",
    "\n",
    "scaler = StandardScaler()\n",
    "scaler.fit(azdias_mixed_features_dopped.dropna())\n",
    "    \n",
    "imputer = Imputer()\n",
    "azdias_imputed = imputer.fit_transform(azdias_mixed_features_dopped)\n",
    "    \n",
    "azdias_scaled = scaler.fit_transform(azdias_imputed)"
   ]
  },
  {
   "cell_type": "markdown",
   "metadata": {},
   "source": [
    "### Discussion 2.1: Apply Feature Scaling\n",
    "\n",
    "(Double-click this cell and replace this text with your own text, reporting your decisions regarding feature scaling.)"
   ]
  },
  {
   "cell_type": "markdown",
   "metadata": {},
   "source": [
    "18.792% of the values have the type NaN. Dropping the lines would therefore lead to a considerable loss of data.\n",
    "\n",
    "To prevent this I first temporarily removed missing values in order to compute the scaling parameters before re-introducing those missing values and applying imputation."
   ]
  },
  {
   "cell_type": "markdown",
   "metadata": {},
   "source": [
    "### Step 2.2: Perform Dimensionality Reduction\n",
    "\n",
    "On your scaled data, you are now ready to apply dimensionality reduction techniques.\n",
    "\n",
    "- Use sklearn's [PCA](http://scikit-learn.org/stable/modules/generated/sklearn.decomposition.PCA.html) class to apply principal component analysis on the data, thus finding the vectors of maximal variance in the data. To start, you should not set any parameters (so all components are computed) or set a number of components that is at least half the number of features (so there's enough features to see the general trend in variability).\n",
    "- Check out the ratio of variance explained by each principal component as well as the cumulative variance explained. Try plotting the cumulative or sequential values using matplotlib's [`plot()`](https://matplotlib.org/api/_as_gen/matplotlib.pyplot.plot.html) function. Based on what you find, select a value for the number of transformed features you'll retain for the clustering part of the project.\n",
    "- Once you've made a choice for the number of components to keep, make sure you re-fit a PCA instance to perform the decided-on transformation."
   ]
  },
  {
   "cell_type": "code",
   "execution_count": 80,
   "metadata": {},
   "outputs": [],
   "source": [
    "# Apply PCA to the data.\n",
    "\n",
    "pca = PCA()\n",
    "azdias_pca = pca.fit_transform(azdias_scaled)"
   ]
  },
  {
   "cell_type": "code",
   "execution_count": 81,
   "metadata": {},
   "outputs": [],
   "source": [
    "# Investigate the variance accounted for by each principal component.\n",
    "\n",
    "def scree_plot(pca):\n",
    "    '''\n",
    "    Creates a scree plot associated with the principal components \n",
    "    \n",
    "    INPUT: pca - the result of instantian of PCA in scikit learn\n",
    "            \n",
    "    OUTPUT:\n",
    "            None\n",
    "    '''\n",
    "    num_components = len(pca.explained_variance_ratio_)\n",
    "    ind = np.arange(num_components)\n",
    "    vals = pca.explained_variance_ratio_\n",
    "    \n",
    " \n",
    "    plt.figure(figsize=(16, 10))\n",
    "    ax = plt.subplot(111)\n",
    "    cumvals = np.cumsum(vals)\n",
    "    ax.bar(ind, vals)\n",
    "    ax.plot(ind, cumvals)\n",
    "\n",
    "    ax.xaxis.set_tick_params(width=0)\n",
    "    ax.yaxis.set_tick_params(width=2, length=12)\n",
    " \n",
    "    ax.set_xlabel(\"Principal Component\")\n",
    "    ax.set_ylabel(\"Variance Explained (%)\")\n",
    "    plt.title('Explained Variance Per Principal Component')"
   ]
  },
  {
   "cell_type": "code",
   "execution_count": 82,
   "metadata": {},
   "outputs": [
    {
     "data": {
      "image/png": "[encoded data removed]",
      "text/plain": [
       "<matplotlib.figure.Figure at 0x7f0a9deab208>"
      ]
     },
     "metadata": {
      "needs_background": "light"
     },
     "output_type": "display_data"
    }
   ],
   "source": [
    "scree_plot(pca)"
   ]
  },
  {
   "cell_type": "code",
   "execution_count": 83,
   "metadata": {},
   "outputs": [
    {
     "name": "stdout",
     "output_type": "stream",
     "text": [
      "First 5 components explained variance: 0.49740260204455217\n",
      "First 10 components explained variance: 0.6269400953404195\n",
      "First 20 components explained variance: 0.788716811796906\n",
      "First 30 components explained variance: 0.8847583600039544\n",
      "First 40 components explained variance: 0.9417284740546432\n",
      "First 50 components explained variance: 0.9756807657275968\n"
     ]
    }
   ],
   "source": [
    "print(\"First 5 components explained variance: {}\".format(pca.explained_variance_ratio_[:5].sum()))\n",
    "print(\"First 10 components explained variance: {}\".format(pca.explained_variance_ratio_[:10].sum()))\n",
    "print(\"First 20 components explained variance: {}\".format(pca.explained_variance_ratio_[:20].sum()))\n",
    "print(\"First 30 components explained variance: {}\".format(pca.explained_variance_ratio_[:30].sum()))\n",
    "print(\"First 40 components explained variance: {}\".format(pca.explained_variance_ratio_[:40].sum()))\n",
    "print(\"First 50 components explained variance: {}\".format(pca.explained_variance_ratio_[:50].sum()))"
   ]
  },
  {
   "cell_type": "code",
   "execution_count": 84,
   "metadata": {},
   "outputs": [],
   "source": [
    "# Re-apply PCA to the data while selecting for number of components to retain.\n",
    "\n",
    "pca_30 = PCA(30)\n",
    "azdias_pca_30 = pca_30.fit_transform(azdias_scaled)"
   ]
  },
  {
   "cell_type": "markdown",
   "metadata": {},
   "source": [
    "### Discussion 2.2: Perform Dimensionality Reduction"
   ]
  },
  {
   "cell_type": "markdown",
   "metadata": {},
   "source": [
    "The first 5 pricipal components have already explained about 50% of variance.\n",
    "\n",
    "I decided to keep the first 30 components, which explain about 88% of the variance and reduce the number of features by 50%."
   ]
  },
  {
   "cell_type": "markdown",
   "metadata": {},
   "source": [
    "### Step 2.3: Interpret Principal Components\n",
    "\n",
    "Now that we have our transformed principal components, it's a nice idea to check out the weight of each variable on the first few components to see if they can be interpreted in some fashion.\n",
    "\n",
    "As a reminder, each principal component is a unit vector that points in the direction of highest variance (after accounting for the variance captured by earlier principal components). The further a weight is from zero, the more the principal component is in the direction of the corresponding feature. If two features have large weights of the same sign (both positive or both negative), then increases in one tend expect to be associated with increases in the other. To contrast, features with different signs can be expected to show a negative correlation: increases in one variable should result in a decrease in the other.\n",
    "\n",
    "- To investigate the features, you should map each weight to their corresponding feature name, then sort the features according to weight. The most interesting features for each principal component, then, will be those at the beginning and end of the sorted list. Use the data dictionary document to help you understand these most prominent features, their relationships, and what a positive or negative value on the principal component might indicate.\n",
    "- You should investigate and interpret feature associations from the first three principal components in this substep. To help facilitate this, you should write a function that you can call at any time to print the sorted list of feature weights, for the *i*-th principal component. This might come in handy in the next step of the project, when you interpret the tendencies of the discovered clusters."
   ]
  },
  {
   "cell_type": "code",
   "execution_count": 85,
   "metadata": {},
   "outputs": [],
   "source": [
    "def pca_results(full_dataset, pca):\n",
    "    '''\n",
    "    Create a DataFrame of the PCA results\n",
    "    Includes dimension feature weights and explained variance\n",
    "    Visualizes the PCA results\n",
    "    '''\n",
    "\n",
    "    # Dimension indexing\n",
    "    dimensions = ['Dimension {}'.format(i) for i in range(1,len(pca.components_)+1)]\n",
    "\n",
    "    # PCA components\n",
    "    components = pd.DataFrame(np.round(pca.components_, 4), columns = full_dataset.columns)\n",
    "    components.index = dimensions\n",
    "\n",
    "    # PCA explained variance\n",
    "    ratios = pca.explained_variance_ratio_.reshape(len(pca.components_), 1)\n",
    "    variance_ratios = pd.DataFrame(np.round(ratios, 4), columns = ['Explained Variance'])\n",
    "    variance_ratios.index = dimensions\n",
    "\n",
    "    # Return a concatenated DataFrame\n",
    "    return pd.concat([variance_ratios, components], axis = 1)"
   ]
  },
  {
   "cell_type": "code",
   "execution_count": 86,
   "metadata": {},
   "outputs": [],
   "source": [
    "def show_pca(full_dataset, pca, component_number):\n",
    "    '''\n",
    "    Create a DataFrame of the PCA results\n",
    "    Includes dimension feature weights and explained variance\n",
    "    Visualizes the PCA results\n",
    "    '''\n",
    "\n",
    "    # Dimension indexing\n",
    "    dimensions = ['Dimension {}'.format(i) for i in range(1,len(pca.components_)+1)]\n",
    "\n",
    "    # PCA components\n",
    "    components = pd.DataFrame(np.round(pca.components_, 4), columns = full_dataset.columns).iloc[component_number-1]\n",
    "    components.sort_values(ascending=False, inplace=True)\n",
    "    components = pd.concat([components.head(4), components.tail(4)])\n",
    "    \n",
    "    # Create a bar plot visualization\n",
    "    fig, ax = plt.subplots(figsize = (10,8))\n",
    "    \n",
    "    title = \"Component \" + str(component_number)\n",
    "\n",
    "    # Plot the feature weights as a function of the components\n",
    "    components.plot(ax = ax, kind = \"bar \", title=title);\n",
    "    ax.set_ylabel(\"Feature Weights\")"
   ]
  },
  {
   "cell_type": "code",
   "execution_count": 87,
   "metadata": {},
   "outputs": [
    {
     "data": {
      "text/html": [
       "<div>\n",
       "<style scoped>\n",
       "    .dataframe tbody tr th:only-of-type {\n",
       "        vertical-align: middle;\n",
       "    }\n",
       "\n",
       "    .dataframe tbody tr th {\n",
       "        vertical-align: top;\n",
       "    }\n",
       "\n",
       "    .dataframe thead th {\n",
       "        text-align: right;\n",
       "    }\n",
       "</style>\n",
       "<table border=\"1\" class=\"dataframe\">\n",
       "  <thead>\n",
       "    <tr style=\"text-align: right;\">\n",
       "      <th></th>\n",
       "      <th>Explained Variance</th>\n",
       "      <th>ALTERSKATEGORIE_GROB</th>\n",
       "      <th>ANREDE_KZ</th>\n",
       "      <th>FINANZ_MINIMALIST</th>\n",
       "      <th>FINANZ_SPARER</th>\n",
       "      <th>FINANZ_VORSORGER</th>\n",
       "      <th>FINANZ_ANLEGER</th>\n",
       "      <th>FINANZ_UNAUFFAELLIGER</th>\n",
       "      <th>FINANZ_HAUSBAUER</th>\n",
       "      <th>GREEN_AVANTGARDE</th>\n",
       "      <th>...</th>\n",
       "      <th>PLZ8_ANTG4</th>\n",
       "      <th>PLZ8_HHZ</th>\n",
       "      <th>PLZ8_GBZ</th>\n",
       "      <th>ARBEIT</th>\n",
       "      <th>ORTSGR_KLS9</th>\n",
       "      <th>RELAT_AB</th>\n",
       "      <th>DECADE</th>\n",
       "      <th>MOVEMENT</th>\n",
       "      <th>WEALTH</th>\n",
       "      <th>LIFE_STAGE</th>\n",
       "    </tr>\n",
       "  </thead>\n",
       "  <tbody>\n",
       "    <tr>\n",
       "      <th>Dimension 1</th>\n",
       "      <td>0.1716</td>\n",
       "      <td>-0.1349</td>\n",
       "      <td>-0.0012</td>\n",
       "      <td>-0.2209</td>\n",
       "      <td>0.1545</td>\n",
       "      <td>-0.1240</td>\n",
       "      <td>0.0736</td>\n",
       "      <td>0.0850</td>\n",
       "      <td>0.1532</td>\n",
       "      <td>-0.1115</td>\n",
       "      <td>...</td>\n",
       "      <td>0.2139</td>\n",
       "      <td>0.0405</td>\n",
       "      <td>-0.1638</td>\n",
       "      <td>0.1400</td>\n",
       "      <td>0.1909</td>\n",
       "      <td>0.1300</td>\n",
       "      <td>0.1151</td>\n",
       "      <td>-0.1113</td>\n",
       "      <td>0.2026</td>\n",
       "      <td>-0.1241</td>\n",
       "    </tr>\n",
       "    <tr>\n",
       "      <th>Dimension 2</th>\n",
       "      <td>0.1388</td>\n",
       "      <td>0.2529</td>\n",
       "      <td>0.0894</td>\n",
       "      <td>0.0531</td>\n",
       "      <td>-0.2271</td>\n",
       "      <td>0.2222</td>\n",
       "      <td>-0.2010</td>\n",
       "      <td>-0.2208</td>\n",
       "      <td>0.1245</td>\n",
       "      <td>-0.0230</td>\n",
       "      <td>...</td>\n",
       "      <td>0.1007</td>\n",
       "      <td>0.0155</td>\n",
       "      <td>-0.0803</td>\n",
       "      <td>0.0738</td>\n",
       "      <td>0.0993</td>\n",
       "      <td>0.0704</td>\n",
       "      <td>-0.2411</td>\n",
       "      <td>-0.0207</td>\n",
       "      <td>0.0841</td>\n",
       "      <td>-0.0070</td>\n",
       "    </tr>\n",
       "    <tr>\n",
       "      <th>Dimension 3</th>\n",
       "      <td>0.0957</td>\n",
       "      <td>0.0829</td>\n",
       "      <td>-0.3686</td>\n",
       "      <td>0.1575</td>\n",
       "      <td>-0.1024</td>\n",
       "      <td>0.0993</td>\n",
       "      <td>-0.1884</td>\n",
       "      <td>-0.0933</td>\n",
       "      <td>-0.0462</td>\n",
       "      <td>0.0496</td>\n",
       "      <td>...</td>\n",
       "      <td>0.0441</td>\n",
       "      <td>0.0059</td>\n",
       "      <td>-0.0359</td>\n",
       "      <td>0.0314</td>\n",
       "      <td>0.0460</td>\n",
       "      <td>0.0301</td>\n",
       "      <td>-0.1083</td>\n",
       "      <td>0.0502</td>\n",
       "      <td>0.0244</td>\n",
       "      <td>-0.0082</td>\n",
       "    </tr>\n",
       "    <tr>\n",
       "      <th>Dimension 4</th>\n",
       "      <td>0.0533</td>\n",
       "      <td>-0.0410</td>\n",
       "      <td>0.0392</td>\n",
       "      <td>0.0612</td>\n",
       "      <td>-0.0008</td>\n",
       "      <td>-0.0168</td>\n",
       "      <td>-0.1277</td>\n",
       "      <td>0.0903</td>\n",
       "      <td>-0.1053</td>\n",
       "      <td>0.3967</td>\n",
       "      <td>...</td>\n",
       "      <td>0.0840</td>\n",
       "      <td>0.1412</td>\n",
       "      <td>0.0353</td>\n",
       "      <td>0.0477</td>\n",
       "      <td>0.2495</td>\n",
       "      <td>0.0933</td>\n",
       "      <td>0.0384</td>\n",
       "      <td>0.3960</td>\n",
       "      <td>-0.1246</td>\n",
       "      <td>0.0591</td>\n",
       "    </tr>\n",
       "    <tr>\n",
       "      <th>Dimension 5</th>\n",
       "      <td>0.0379</td>\n",
       "      <td>0.0012</td>\n",
       "      <td>0.0073</td>\n",
       "      <td>0.0856</td>\n",
       "      <td>-0.0036</td>\n",
       "      <td>-0.0604</td>\n",
       "      <td>0.0427</td>\n",
       "      <td>-0.0474</td>\n",
       "      <td>-0.0854</td>\n",
       "      <td>0.0620</td>\n",
       "      <td>...</td>\n",
       "      <td>0.0192</td>\n",
       "      <td>-0.4901</td>\n",
       "      <td>-0.4041</td>\n",
       "      <td>0.2181</td>\n",
       "      <td>0.0953</td>\n",
       "      <td>0.1484</td>\n",
       "      <td>0.0255</td>\n",
       "      <td>0.0607</td>\n",
       "      <td>-0.0099</td>\n",
       "      <td>0.0274</td>\n",
       "    </tr>\n",
       "    <tr>\n",
       "      <th>Dimension 6</th>\n",
       "      <td>0.0318</td>\n",
       "      <td>-0.0060</td>\n",
       "      <td>0.0216</td>\n",
       "      <td>-0.0327</td>\n",
       "      <td>0.0014</td>\n",
       "      <td>-0.0290</td>\n",
       "      <td>0.0206</td>\n",
       "      <td>-0.0366</td>\n",
       "      <td>0.0494</td>\n",
       "      <td>0.0080</td>\n",
       "      <td>...</td>\n",
       "      <td>0.0878</td>\n",
       "      <td>-0.0324</td>\n",
       "      <td>-0.0830</td>\n",
       "      <td>-0.1727</td>\n",
       "      <td>-0.0789</td>\n",
       "      <td>-0.2129</td>\n",
       "      <td>0.0062</td>\n",
       "      <td>0.0107</td>\n",
       "      <td>-0.0720</td>\n",
       "      <td>0.0560</td>\n",
       "    </tr>\n",
       "    <tr>\n",
       "      <th>Dimension 7</th>\n",
       "      <td>0.0282</td>\n",
       "      <td>0.0221</td>\n",
       "      <td>-0.0583</td>\n",
       "      <td>0.0529</td>\n",
       "      <td>0.0594</td>\n",
       "      <td>-0.0132</td>\n",
       "      <td>0.0752</td>\n",
       "      <td>0.0455</td>\n",
       "      <td>-0.1935</td>\n",
       "      <td>-0.0271</td>\n",
       "      <td>...</td>\n",
       "      <td>0.0501</td>\n",
       "      <td>0.1999</td>\n",
       "      <td>0.1147</td>\n",
       "      <td>-0.0097</td>\n",
       "      <td>0.1075</td>\n",
       "      <td>0.0138</td>\n",
       "      <td>0.1006</td>\n",
       "      <td>-0.0277</td>\n",
       "      <td>0.0203</td>\n",
       "      <td>-0.0758</td>\n",
       "    </tr>\n",
       "    <tr>\n",
       "      <th>Dimension 8</th>\n",
       "      <td>0.0246</td>\n",
       "      <td>0.1264</td>\n",
       "      <td>-0.0053</td>\n",
       "      <td>-0.0657</td>\n",
       "      <td>0.0879</td>\n",
       "      <td>-0.1329</td>\n",
       "      <td>0.1519</td>\n",
       "      <td>0.0050</td>\n",
       "      <td>0.0476</td>\n",
       "      <td>0.0414</td>\n",
       "      <td>...</td>\n",
       "      <td>0.1102</td>\n",
       "      <td>0.1221</td>\n",
       "      <td>0.0028</td>\n",
       "      <td>0.0742</td>\n",
       "      <td>-0.1007</td>\n",
       "      <td>-0.0074</td>\n",
       "      <td>0.1003</td>\n",
       "      <td>0.0410</td>\n",
       "      <td>0.0746</td>\n",
       "      <td>-0.0226</td>\n",
       "    </tr>\n",
       "    <tr>\n",
       "      <th>Dimension 9</th>\n",
       "      <td>0.0234</td>\n",
       "      <td>-0.0131</td>\n",
       "      <td>0.0946</td>\n",
       "      <td>0.0652</td>\n",
       "      <td>-0.1259</td>\n",
       "      <td>0.0924</td>\n",
       "      <td>-0.0377</td>\n",
       "      <td>-0.1309</td>\n",
       "      <td>0.0540</td>\n",
       "      <td>0.0005</td>\n",
       "      <td>...</td>\n",
       "      <td>0.0334</td>\n",
       "      <td>0.1659</td>\n",
       "      <td>0.0974</td>\n",
       "      <td>0.1546</td>\n",
       "      <td>0.0723</td>\n",
       "      <td>0.0719</td>\n",
       "      <td>-0.1443</td>\n",
       "      <td>0.0010</td>\n",
       "      <td>0.0160</td>\n",
       "      <td>0.0408</td>\n",
       "    </tr>\n",
       "    <tr>\n",
       "      <th>Dimension 10</th>\n",
       "      <td>0.0216</td>\n",
       "      <td>0.0666</td>\n",
       "      <td>0.0203</td>\n",
       "      <td>-0.0526</td>\n",
       "      <td>0.0273</td>\n",
       "      <td>0.0820</td>\n",
       "      <td>-0.0524</td>\n",
       "      <td>0.1382</td>\n",
       "      <td>-0.0226</td>\n",
       "      <td>0.0000</td>\n",
       "      <td>...</td>\n",
       "      <td>-0.0506</td>\n",
       "      <td>-0.2436</td>\n",
       "      <td>-0.1485</td>\n",
       "      <td>-0.3889</td>\n",
       "      <td>-0.0592</td>\n",
       "      <td>-0.1489</td>\n",
       "      <td>0.0216</td>\n",
       "      <td>0.0005</td>\n",
       "      <td>0.0608</td>\n",
       "      <td>-0.1591</td>\n",
       "    </tr>\n",
       "    <tr>\n",
       "      <th>Dimension 11</th>\n",
       "      <td>0.0207</td>\n",
       "      <td>-0.0818</td>\n",
       "      <td>-0.0145</td>\n",
       "      <td>0.1776</td>\n",
       "      <td>-0.1652</td>\n",
       "      <td>0.1570</td>\n",
       "      <td>-0.1457</td>\n",
       "      <td>-0.2408</td>\n",
       "      <td>-0.1592</td>\n",
       "      <td>-0.1634</td>\n",
       "      <td>...</td>\n",
       "      <td>0.0574</td>\n",
       "      <td>-0.0183</td>\n",
       "      <td>-0.0561</td>\n",
       "      <td>-0.1122</td>\n",
       "      <td>-0.0712</td>\n",
       "      <td>-0.0755</td>\n",
       "      <td>-0.1064</td>\n",
       "      <td>-0.1653</td>\n",
       "      <td>0.0385</td>\n",
       "      <td>-0.1040</td>\n",
       "    </tr>\n",
       "    <tr>\n",
       "      <th>Dimension 12</th>\n",
       "      <td>0.0191</td>\n",
       "      <td>-0.0418</td>\n",
       "      <td>-0.0010</td>\n",
       "      <td>-0.0015</td>\n",
       "      <td>-0.0212</td>\n",
       "      <td>0.0383</td>\n",
       "      <td>0.0166</td>\n",
       "      <td>-0.0425</td>\n",
       "      <td>0.0398</td>\n",
       "      <td>0.0315</td>\n",
       "      <td>...</td>\n",
       "      <td>-0.0765</td>\n",
       "      <td>0.0175</td>\n",
       "      <td>0.0623</td>\n",
       "      <td>0.1772</td>\n",
       "      <td>-0.0160</td>\n",
       "      <td>0.2085</td>\n",
       "      <td>-0.0277</td>\n",
       "      <td>0.0315</td>\n",
       "      <td>0.0345</td>\n",
       "      <td>0.0902</td>\n",
       "    </tr>\n",
       "    <tr>\n",
       "      <th>Dimension 13</th>\n",
       "      <td>0.0183</td>\n",
       "      <td>0.0770</td>\n",
       "      <td>-0.0070</td>\n",
       "      <td>0.1396</td>\n",
       "      <td>0.0028</td>\n",
       "      <td>-0.0998</td>\n",
       "      <td>0.0330</td>\n",
       "      <td>0.0159</td>\n",
       "      <td>-0.2354</td>\n",
       "      <td>-0.0424</td>\n",
       "      <td>...</td>\n",
       "      <td>0.1207</td>\n",
       "      <td>0.0655</td>\n",
       "      <td>-0.0581</td>\n",
       "      <td>-0.0680</td>\n",
       "      <td>-0.0589</td>\n",
       "      <td>-0.0568</td>\n",
       "      <td>0.0398</td>\n",
       "      <td>-0.0430</td>\n",
       "      <td>0.1159</td>\n",
       "      <td>-0.3349</td>\n",
       "    </tr>\n",
       "    <tr>\n",
       "      <th>Dimension 14</th>\n",
       "      <td>0.0169</td>\n",
       "      <td>0.0077</td>\n",
       "      <td>-0.0082</td>\n",
       "      <td>-0.0292</td>\n",
       "      <td>-0.0094</td>\n",
       "      <td>-0.0239</td>\n",
       "      <td>0.0042</td>\n",
       "      <td>-0.0399</td>\n",
       "      <td>0.0597</td>\n",
       "      <td>-0.1794</td>\n",
       "      <td>...</td>\n",
       "      <td>-0.0079</td>\n",
       "      <td>-0.0162</td>\n",
       "      <td>-0.0276</td>\n",
       "      <td>-0.1952</td>\n",
       "      <td>0.0948</td>\n",
       "      <td>-0.4193</td>\n",
       "      <td>-0.0107</td>\n",
       "      <td>-0.1812</td>\n",
       "      <td>-0.2098</td>\n",
       "      <td>0.2381</td>\n",
       "    </tr>\n",
       "    <tr>\n",
       "      <th>Dimension 15</th>\n",
       "      <td>0.0161</td>\n",
       "      <td>-0.0715</td>\n",
       "      <td>0.0446</td>\n",
       "      <td>-0.0206</td>\n",
       "      <td>0.0126</td>\n",
       "      <td>0.0110</td>\n",
       "      <td>0.1018</td>\n",
       "      <td>0.0287</td>\n",
       "      <td>0.0331</td>\n",
       "      <td>0.3395</td>\n",
       "      <td>...</td>\n",
       "      <td>0.1247</td>\n",
       "      <td>-0.0349</td>\n",
       "      <td>-0.1142</td>\n",
       "      <td>-0.2297</td>\n",
       "      <td>-0.0966</td>\n",
       "      <td>-0.2645</td>\n",
       "      <td>-0.0198</td>\n",
       "      <td>0.3408</td>\n",
       "      <td>0.0192</td>\n",
       "      <td>-0.0806</td>\n",
       "    </tr>\n",
       "    <tr>\n",
       "      <th>Dimension 16</th>\n",
       "      <td>0.0156</td>\n",
       "      <td>-0.0078</td>\n",
       "      <td>0.0021</td>\n",
       "      <td>0.0023</td>\n",
       "      <td>-0.0040</td>\n",
       "      <td>0.0022</td>\n",
       "      <td>0.0026</td>\n",
       "      <td>-0.0031</td>\n",
       "      <td>0.0090</td>\n",
       "      <td>-0.0008</td>\n",
       "      <td>...</td>\n",
       "      <td>0.0118</td>\n",
       "      <td>0.0036</td>\n",
       "      <td>-0.0071</td>\n",
       "      <td>-0.0083</td>\n",
       "      <td>-0.0041</td>\n",
       "      <td>-0.0144</td>\n",
       "      <td>-0.0041</td>\n",
       "      <td>-0.0009</td>\n",
       "      <td>-0.0046</td>\n",
       "      <td>0.0062</td>\n",
       "    </tr>\n",
       "    <tr>\n",
       "      <th>Dimension 17</th>\n",
       "      <td>0.0149</td>\n",
       "      <td>-0.1387</td>\n",
       "      <td>0.0458</td>\n",
       "      <td>-0.0351</td>\n",
       "      <td>-0.0599</td>\n",
       "      <td>0.0921</td>\n",
       "      <td>0.0551</td>\n",
       "      <td>-0.1095</td>\n",
       "      <td>0.3168</td>\n",
       "      <td>-0.0161</td>\n",
       "      <td>...</td>\n",
       "      <td>0.0534</td>\n",
       "      <td>0.0355</td>\n",
       "      <td>-0.0367</td>\n",
       "      <td>-0.0161</td>\n",
       "      <td>-0.0349</td>\n",
       "      <td>-0.1465</td>\n",
       "      <td>-0.0943</td>\n",
       "      <td>-0.0159</td>\n",
       "      <td>-0.0195</td>\n",
       "      <td>0.1247</td>\n",
       "    </tr>\n",
       "    <tr>\n",
       "      <th>Dimension 18</th>\n",
       "      <td>0.0143</td>\n",
       "      <td>-0.0693</td>\n",
       "      <td>0.0268</td>\n",
       "      <td>0.0922</td>\n",
       "      <td>-0.1698</td>\n",
       "      <td>0.2254</td>\n",
       "      <td>-0.1075</td>\n",
       "      <td>-0.1697</td>\n",
       "      <td>0.0685</td>\n",
       "      <td>0.0682</td>\n",
       "      <td>...</td>\n",
       "      <td>0.1096</td>\n",
       "      <td>0.0037</td>\n",
       "      <td>-0.0771</td>\n",
       "      <td>-0.0830</td>\n",
       "      <td>-0.0649</td>\n",
       "      <td>-0.0168</td>\n",
       "      <td>-0.1296</td>\n",
       "      <td>0.0668</td>\n",
       "      <td>0.0162</td>\n",
       "      <td>0.0771</td>\n",
       "    </tr>\n",
       "    <tr>\n",
       "      <th>Dimension 19</th>\n",
       "      <td>0.0130</td>\n",
       "      <td>0.0292</td>\n",
       "      <td>-0.0164</td>\n",
       "      <td>0.0635</td>\n",
       "      <td>0.0455</td>\n",
       "      <td>-0.1196</td>\n",
       "      <td>0.0159</td>\n",
       "      <td>0.1466</td>\n",
       "      <td>-0.2010</td>\n",
       "      <td>-0.1838</td>\n",
       "      <td>...</td>\n",
       "      <td>0.1651</td>\n",
       "      <td>0.0158</td>\n",
       "      <td>-0.1246</td>\n",
       "      <td>-0.0881</td>\n",
       "      <td>-0.0582</td>\n",
       "      <td>0.0330</td>\n",
       "      <td>0.0649</td>\n",
       "      <td>-0.1848</td>\n",
       "      <td>-0.1944</td>\n",
       "      <td>0.5854</td>\n",
       "    </tr>\n",
       "    <tr>\n",
       "      <th>Dimension 20</th>\n",
       "      <td>0.0129</td>\n",
       "      <td>0.0085</td>\n",
       "      <td>-0.0057</td>\n",
       "      <td>0.0203</td>\n",
       "      <td>0.0221</td>\n",
       "      <td>-0.0424</td>\n",
       "      <td>-0.0149</td>\n",
       "      <td>0.0194</td>\n",
       "      <td>0.0101</td>\n",
       "      <td>-0.1602</td>\n",
       "      <td>...</td>\n",
       "      <td>0.0590</td>\n",
       "      <td>0.0428</td>\n",
       "      <td>0.0151</td>\n",
       "      <td>0.0241</td>\n",
       "      <td>0.0205</td>\n",
       "      <td>0.0171</td>\n",
       "      <td>0.0203</td>\n",
       "      <td>-0.1618</td>\n",
       "      <td>0.0386</td>\n",
       "      <td>-0.2143</td>\n",
       "    </tr>\n",
       "    <tr>\n",
       "      <th>Dimension 21</th>\n",
       "      <td>0.0124</td>\n",
       "      <td>0.0713</td>\n",
       "      <td>-0.0420</td>\n",
       "      <td>0.0994</td>\n",
       "      <td>0.0122</td>\n",
       "      <td>-0.1568</td>\n",
       "      <td>0.0689</td>\n",
       "      <td>-0.1165</td>\n",
       "      <td>-0.1142</td>\n",
       "      <td>0.1647</td>\n",
       "      <td>...</td>\n",
       "      <td>0.0013</td>\n",
       "      <td>0.0193</td>\n",
       "      <td>-0.0006</td>\n",
       "      <td>0.0200</td>\n",
       "      <td>-0.0170</td>\n",
       "      <td>-0.1690</td>\n",
       "      <td>0.0486</td>\n",
       "      <td>0.1625</td>\n",
       "      <td>0.0451</td>\n",
       "      <td>0.0438</td>\n",
       "    </tr>\n",
       "    <tr>\n",
       "      <th>Dimension 22</th>\n",
       "      <td>0.0119</td>\n",
       "      <td>-0.0326</td>\n",
       "      <td>0.0210</td>\n",
       "      <td>0.0075</td>\n",
       "      <td>-0.0362</td>\n",
       "      <td>0.0666</td>\n",
       "      <td>-0.0297</td>\n",
       "      <td>0.0337</td>\n",
       "      <td>-0.0269</td>\n",
       "      <td>-0.0363</td>\n",
       "      <td>...</td>\n",
       "      <td>-0.0739</td>\n",
       "      <td>-0.0216</td>\n",
       "      <td>0.0670</td>\n",
       "      <td>0.0866</td>\n",
       "      <td>0.0093</td>\n",
       "      <td>0.2798</td>\n",
       "      <td>-0.0317</td>\n",
       "      <td>-0.0365</td>\n",
       "      <td>-0.1289</td>\n",
       "      <td>0.1560</td>\n",
       "    </tr>\n",
       "    <tr>\n",
       "      <th>Dimension 23</th>\n",
       "      <td>0.0116</td>\n",
       "      <td>-0.0557</td>\n",
       "      <td>0.0363</td>\n",
       "      <td>0.0170</td>\n",
       "      <td>-0.0056</td>\n",
       "      <td>0.0344</td>\n",
       "      <td>-0.0036</td>\n",
       "      <td>-0.0019</td>\n",
       "      <td>0.0242</td>\n",
       "      <td>-0.0939</td>\n",
       "      <td>...</td>\n",
       "      <td>0.0731</td>\n",
       "      <td>0.0474</td>\n",
       "      <td>-0.0281</td>\n",
       "      <td>-0.0502</td>\n",
       "      <td>0.0326</td>\n",
       "      <td>-0.0552</td>\n",
       "      <td>-0.0216</td>\n",
       "      <td>-0.0974</td>\n",
       "      <td>0.0878</td>\n",
       "      <td>-0.3786</td>\n",
       "    </tr>\n",
       "    <tr>\n",
       "      <th>Dimension 24</th>\n",
       "      <td>0.0109</td>\n",
       "      <td>0.0907</td>\n",
       "      <td>-0.0403</td>\n",
       "      <td>0.0676</td>\n",
       "      <td>0.0030</td>\n",
       "      <td>-0.0812</td>\n",
       "      <td>-0.0719</td>\n",
       "      <td>0.0475</td>\n",
       "      <td>-0.0489</td>\n",
       "      <td>-0.0371</td>\n",
       "      <td>...</td>\n",
       "      <td>-0.0285</td>\n",
       "      <td>0.0016</td>\n",
       "      <td>0.0306</td>\n",
       "      <td>0.0526</td>\n",
       "      <td>-0.0174</td>\n",
       "      <td>0.0195</td>\n",
       "      <td>0.0127</td>\n",
       "      <td>-0.0356</td>\n",
       "      <td>0.0070</td>\n",
       "      <td>-0.0786</td>\n",
       "    </tr>\n",
       "    <tr>\n",
       "      <th>Dimension 25</th>\n",
       "      <td>0.0106</td>\n",
       "      <td>-0.0288</td>\n",
       "      <td>0.0276</td>\n",
       "      <td>-0.0473</td>\n",
       "      <td>0.0728</td>\n",
       "      <td>-0.1200</td>\n",
       "      <td>0.1024</td>\n",
       "      <td>0.0658</td>\n",
       "      <td>-0.0716</td>\n",
       "      <td>0.0628</td>\n",
       "      <td>...</td>\n",
       "      <td>-0.0119</td>\n",
       "      <td>0.0066</td>\n",
       "      <td>0.0162</td>\n",
       "      <td>-0.0132</td>\n",
       "      <td>-0.0757</td>\n",
       "      <td>-0.0100</td>\n",
       "      <td>0.0775</td>\n",
       "      <td>0.0646</td>\n",
       "      <td>0.0400</td>\n",
       "      <td>0.0353</td>\n",
       "    </tr>\n",
       "    <tr>\n",
       "      <th>Dimension 26</th>\n",
       "      <td>0.0086</td>\n",
       "      <td>-0.0476</td>\n",
       "      <td>0.0334</td>\n",
       "      <td>-0.2384</td>\n",
       "      <td>0.0634</td>\n",
       "      <td>0.0639</td>\n",
       "      <td>0.0922</td>\n",
       "      <td>0.1492</td>\n",
       "      <td>0.3617</td>\n",
       "      <td>-0.0178</td>\n",
       "      <td>...</td>\n",
       "      <td>-0.0679</td>\n",
       "      <td>-0.0237</td>\n",
       "      <td>0.0302</td>\n",
       "      <td>0.0078</td>\n",
       "      <td>-0.0730</td>\n",
       "      <td>0.0708</td>\n",
       "      <td>-0.0207</td>\n",
       "      <td>-0.0175</td>\n",
       "      <td>-0.0813</td>\n",
       "      <td>-0.0480</td>\n",
       "    </tr>\n",
       "    <tr>\n",
       "      <th>Dimension 27</th>\n",
       "      <td>0.0078</td>\n",
       "      <td>0.0188</td>\n",
       "      <td>-0.1037</td>\n",
       "      <td>0.0115</td>\n",
       "      <td>0.0355</td>\n",
       "      <td>0.0116</td>\n",
       "      <td>0.0330</td>\n",
       "      <td>0.0048</td>\n",
       "      <td>-0.0223</td>\n",
       "      <td>0.0390</td>\n",
       "      <td>...</td>\n",
       "      <td>-0.0438</td>\n",
       "      <td>-0.0159</td>\n",
       "      <td>0.0044</td>\n",
       "      <td>0.0277</td>\n",
       "      <td>0.0082</td>\n",
       "      <td>-0.0440</td>\n",
       "      <td>0.0342</td>\n",
       "      <td>0.0417</td>\n",
       "      <td>0.0392</td>\n",
       "      <td>0.0564</td>\n",
       "    </tr>\n",
       "    <tr>\n",
       "      <th>Dimension 28</th>\n",
       "      <td>0.0075</td>\n",
       "      <td>0.0260</td>\n",
       "      <td>0.0126</td>\n",
       "      <td>-0.0935</td>\n",
       "      <td>-0.0009</td>\n",
       "      <td>0.0301</td>\n",
       "      <td>0.0068</td>\n",
       "      <td>-0.0594</td>\n",
       "      <td>0.1037</td>\n",
       "      <td>0.0949</td>\n",
       "      <td>...</td>\n",
       "      <td>-0.2800</td>\n",
       "      <td>-0.0941</td>\n",
       "      <td>0.0857</td>\n",
       "      <td>0.0519</td>\n",
       "      <td>-0.0015</td>\n",
       "      <td>-0.1081</td>\n",
       "      <td>-0.0417</td>\n",
       "      <td>0.0968</td>\n",
       "      <td>0.2291</td>\n",
       "      <td>0.1276</td>\n",
       "    </tr>\n",
       "    <tr>\n",
       "      <th>Dimension 29</th>\n",
       "      <td>0.0073</td>\n",
       "      <td>0.0302</td>\n",
       "      <td>-0.0124</td>\n",
       "      <td>-0.0782</td>\n",
       "      <td>0.0256</td>\n",
       "      <td>0.0312</td>\n",
       "      <td>-0.0115</td>\n",
       "      <td>0.0874</td>\n",
       "      <td>0.0864</td>\n",
       "      <td>-0.0049</td>\n",
       "      <td>...</td>\n",
       "      <td>0.2960</td>\n",
       "      <td>0.1083</td>\n",
       "      <td>-0.1246</td>\n",
       "      <td>-0.0530</td>\n",
       "      <td>0.0238</td>\n",
       "      <td>0.1239</td>\n",
       "      <td>-0.0101</td>\n",
       "      <td>-0.0063</td>\n",
       "      <td>-0.1600</td>\n",
       "      <td>-0.0118</td>\n",
       "    </tr>\n",
       "    <tr>\n",
       "      <th>Dimension 30</th>\n",
       "      <td>0.0072</td>\n",
       "      <td>0.0715</td>\n",
       "      <td>-0.0337</td>\n",
       "      <td>-0.1299</td>\n",
       "      <td>-0.0099</td>\n",
       "      <td>0.0483</td>\n",
       "      <td>-0.0770</td>\n",
       "      <td>0.0636</td>\n",
       "      <td>0.1859</td>\n",
       "      <td>0.0503</td>\n",
       "      <td>...</td>\n",
       "      <td>0.2747</td>\n",
       "      <td>0.0677</td>\n",
       "      <td>-0.0798</td>\n",
       "      <td>-0.1260</td>\n",
       "      <td>0.1121</td>\n",
       "      <td>-0.0190</td>\n",
       "      <td>-0.0469</td>\n",
       "      <td>0.0503</td>\n",
       "      <td>0.0137</td>\n",
       "      <td>0.1079</td>\n",
       "    </tr>\n",
       "  </tbody>\n",
       "</table>\n",
       "<p>30 rows × 65 columns</p>\n",
       "</div>"
      ],
      "text/plain": [
       "              Explained Variance  ALTERSKATEGORIE_GROB  ANREDE_KZ  \\\n",
       "Dimension 1               0.1716               -0.1349    -0.0012   \n",
       "Dimension 2               0.1388                0.2529     0.0894   \n",
       "Dimension 3               0.0957                0.0829    -0.3686   \n",
       "Dimension 4               0.0533               -0.0410     0.0392   \n",
       "Dimension 5               0.0379                0.0012     0.0073   \n",
       "Dimension 6               0.0318               -0.0060     0.0216   \n",
       "Dimension 7               0.0282                0.0221    -0.0583   \n",
       "Dimension 8               0.0246                0.1264    -0.0053   \n",
       "Dimension 9               0.0234               -0.0131     0.0946   \n",
       "Dimension 10              0.0216                0.0666     0.0203   \n",
       "Dimension 11              0.0207               -0.0818    -0.0145   \n",
       "Dimension 12              0.0191               -0.0418    -0.0010   \n",
       "Dimension 13              0.0183                0.0770    -0.0070   \n",
       "Dimension 14              0.0169                0.0077    -0.0082   \n",
       "Dimension 15              0.0161               -0.0715     0.0446   \n",
       "Dimension 16              0.0156               -0.0078     0.0021   \n",
       "Dimension 17              0.0149               -0.1387     0.0458   \n",
       "Dimension 18              0.0143               -0.0693     0.0268   \n",
       "Dimension 19              0.0130                0.0292    -0.0164   \n",
       "Dimension 20              0.0129                0.0085    -0.0057   \n",
       "Dimension 21              0.0124                0.0713    -0.0420   \n",
       "Dimension 22              0.0119               -0.0326     0.0210   \n",
       "Dimension 23              0.0116               -0.0557     0.0363   \n",
       "Dimension 24              0.0109                0.0907    -0.0403   \n",
       "Dimension 25              0.0106               -0.0288     0.0276   \n",
       "Dimension 26              0.0086               -0.0476     0.0334   \n",
       "Dimension 27              0.0078                0.0188    -0.1037   \n",
       "Dimension 28              0.0075                0.0260     0.0126   \n",
       "Dimension 29              0.0073                0.0302    -0.0124   \n",
       "Dimension 30              0.0072                0.0715    -0.0337   \n",
       "\n",
       "              FINANZ_MINIMALIST  FINANZ_SPARER  FINANZ_VORSORGER  \\\n",
       "Dimension 1             -0.2209         0.1545           -0.1240   \n",
       "Dimension 2              0.0531        -0.2271            0.2222   \n",
       "Dimension 3              0.1575        -0.1024            0.0993   \n",
       "Dimension 4              0.0612        -0.0008           -0.0168   \n",
       "Dimension 5              0.0856        -0.0036           -0.0604   \n",
       "Dimension 6             -0.0327         0.0014           -0.0290   \n",
       "Dimension 7              0.0529         0.0594           -0.0132   \n",
       "Dimension 8             -0.0657         0.0879           -0.1329   \n",
       "Dimension 9              0.0652        -0.1259            0.0924   \n",
       "Dimension 10            -0.0526         0.0273            0.0820   \n",
       "Dimension 11             0.1776        -0.1652            0.1570   \n",
       "Dimension 12            -0.0015        -0.0212            0.0383   \n",
       "Dimension 13             0.1396         0.0028           -0.0998   \n",
       "Dimension 14            -0.0292        -0.0094           -0.0239   \n",
       "Dimension 15            -0.0206         0.0126            0.0110   \n",
       "Dimension 16             0.0023        -0.0040            0.0022   \n",
       "Dimension 17            -0.0351        -0.0599            0.0921   \n",
       "Dimension 18             0.0922        -0.1698            0.2254   \n",
       "Dimension 19             0.0635         0.0455           -0.1196   \n",
       "Dimension 20             0.0203         0.0221           -0.0424   \n",
       "Dimension 21             0.0994         0.0122           -0.1568   \n",
       "Dimension 22             0.0075        -0.0362            0.0666   \n",
       "Dimension 23             0.0170        -0.0056            0.0344   \n",
       "Dimension 24             0.0676         0.0030           -0.0812   \n",
       "Dimension 25            -0.0473         0.0728           -0.1200   \n",
       "Dimension 26            -0.2384         0.0634            0.0639   \n",
       "Dimension 27             0.0115         0.0355            0.0116   \n",
       "Dimension 28            -0.0935        -0.0009            0.0301   \n",
       "Dimension 29            -0.0782         0.0256            0.0312   \n",
       "Dimension 30            -0.1299        -0.0099            0.0483   \n",
       "\n",
       "              FINANZ_ANLEGER  FINANZ_UNAUFFAELLIGER  FINANZ_HAUSBAUER  \\\n",
       "Dimension 1           0.0736                 0.0850            0.1532   \n",
       "Dimension 2          -0.2010                -0.2208            0.1245   \n",
       "Dimension 3          -0.1884                -0.0933           -0.0462   \n",
       "Dimension 4          -0.1277                 0.0903           -0.1053   \n",
       "Dimension 5           0.0427                -0.0474           -0.0854   \n",
       "Dimension 6           0.0206                -0.0366            0.0494   \n",
       "Dimension 7           0.0752                 0.0455           -0.1935   \n",
       "Dimension 8           0.1519                 0.0050            0.0476   \n",
       "Dimension 9          -0.0377                -0.1309            0.0540   \n",
       "Dimension 10         -0.0524                 0.1382           -0.0226   \n",
       "Dimension 11         -0.1457                -0.2408           -0.1592   \n",
       "Dimension 12          0.0166                -0.0425            0.0398   \n",
       "Dimension 13          0.0330                 0.0159           -0.2354   \n",
       "Dimension 14          0.0042                -0.0399            0.0597   \n",
       "Dimension 15          0.1018                 0.0287            0.0331   \n",
       "Dimension 16          0.0026                -0.0031            0.0090   \n",
       "Dimension 17          0.0551                -0.1095            0.3168   \n",
       "Dimension 18         -0.1075                -0.1697            0.0685   \n",
       "Dimension 19          0.0159                 0.1466           -0.2010   \n",
       "Dimension 20         -0.0149                 0.0194            0.0101   \n",
       "Dimension 21          0.0689                -0.1165           -0.1142   \n",
       "Dimension 22         -0.0297                 0.0337           -0.0269   \n",
       "Dimension 23         -0.0036                -0.0019            0.0242   \n",
       "Dimension 24         -0.0719                 0.0475           -0.0489   \n",
       "Dimension 25          0.1024                 0.0658           -0.0716   \n",
       "Dimension 26          0.0922                 0.1492            0.3617   \n",
       "Dimension 27          0.0330                 0.0048           -0.0223   \n",
       "Dimension 28          0.0068                -0.0594            0.1037   \n",
       "Dimension 29         -0.0115                 0.0874            0.0864   \n",
       "Dimension 30         -0.0770                 0.0636            0.1859   \n",
       "\n",
       "              GREEN_AVANTGARDE     ...      PLZ8_ANTG4  PLZ8_HHZ  PLZ8_GBZ  \\\n",
       "Dimension 1            -0.1115     ...          0.2139    0.0405   -0.1638   \n",
       "Dimension 2            -0.0230     ...          0.1007    0.0155   -0.0803   \n",
       "Dimension 3             0.0496     ...          0.0441    0.0059   -0.0359   \n",
       "Dimension 4             0.3967     ...          0.0840    0.1412    0.0353   \n",
       "Dimension 5             0.0620     ...          0.0192   -0.4901   -0.4041   \n",
       "Dimension 6             0.0080     ...          0.0878   -0.0324   -0.0830   \n",
       "Dimension 7            -0.0271     ...          0.0501    0.1999    0.1147   \n",
       "Dimension 8             0.0414     ...          0.1102    0.1221    0.0028   \n",
       "Dimension 9             0.0005     ...          0.0334    0.1659    0.0974   \n",
       "Dimension 10            0.0000     ...         -0.0506   -0.2436   -0.1485   \n",
       "Dimension 11           -0.1634     ...          0.0574   -0.0183   -0.0561   \n",
       "Dimension 12            0.0315     ...         -0.0765    0.0175    0.0623   \n",
       "Dimension 13           -0.0424     ...          0.1207    0.0655   -0.0581   \n",
       "Dimension 14           -0.1794     ...         -0.0079   -0.0162   -0.0276   \n",
       "Dimension 15            0.3395     ...          0.1247   -0.0349   -0.1142   \n",
       "Dimension 16           -0.0008     ...          0.0118    0.0036   -0.0071   \n",
       "Dimension 17           -0.0161     ...          0.0534    0.0355   -0.0367   \n",
       "Dimension 18            0.0682     ...          0.1096    0.0037   -0.0771   \n",
       "Dimension 19           -0.1838     ...          0.1651    0.0158   -0.1246   \n",
       "Dimension 20           -0.1602     ...          0.0590    0.0428    0.0151   \n",
       "Dimension 21            0.1647     ...          0.0013    0.0193   -0.0006   \n",
       "Dimension 22           -0.0363     ...         -0.0739   -0.0216    0.0670   \n",
       "Dimension 23           -0.0939     ...          0.0731    0.0474   -0.0281   \n",
       "Dimension 24           -0.0371     ...         -0.0285    0.0016    0.0306   \n",
       "Dimension 25            0.0628     ...         -0.0119    0.0066    0.0162   \n",
       "Dimension 26           -0.0178     ...         -0.0679   -0.0237    0.0302   \n",
       "Dimension 27            0.0390     ...         -0.0438   -0.0159    0.0044   \n",
       "Dimension 28            0.0949     ...         -0.2800   -0.0941    0.0857   \n",
       "Dimension 29           -0.0049     ...          0.2960    0.1083   -0.1246   \n",
       "Dimension 30            0.0503     ...          0.2747    0.0677   -0.0798   \n",
       "\n",
       "              ARBEIT  ORTSGR_KLS9  RELAT_AB  DECADE  MOVEMENT  WEALTH  \\\n",
       "Dimension 1   0.1400       0.1909    0.1300  0.1151   -0.1113  0.2026   \n",
       "Dimension 2   0.0738       0.0993    0.0704 -0.2411   -0.0207  0.0841   \n",
       "Dimension 3   0.0314       0.0460    0.0301 -0.1083    0.0502  0.0244   \n",
       "Dimension 4   0.0477       0.2495    0.0933  0.0384    0.3960 -0.1246   \n",
       "Dimension 5   0.2181       0.0953    0.1484  0.0255    0.0607 -0.0099   \n",
       "Dimension 6  -0.1727      -0.0789   -0.2129  0.0062    0.0107 -0.0720   \n",
       "Dimension 7  -0.0097       0.1075    0.0138  0.1006   -0.0277  0.0203   \n",
       "Dimension 8   0.0742      -0.1007   -0.0074  0.1003    0.0410  0.0746   \n",
       "Dimension 9   0.1546       0.0723    0.0719 -0.1443    0.0010  0.0160   \n",
       "Dimension 10 -0.3889      -0.0592   -0.1489  0.0216    0.0005  0.0608   \n",
       "Dimension 11 -0.1122      -0.0712   -0.0755 -0.1064   -0.1653  0.0385   \n",
       "Dimension 12  0.1772      -0.0160    0.2085 -0.0277    0.0315  0.0345   \n",
       "Dimension 13 -0.0680      -0.0589   -0.0568  0.0398   -0.0430  0.1159   \n",
       "Dimension 14 -0.1952       0.0948   -0.4193 -0.0107   -0.1812 -0.2098   \n",
       "Dimension 15 -0.2297      -0.0966   -0.2645 -0.0198    0.3408  0.0192   \n",
       "Dimension 16 -0.0083      -0.0041   -0.0144 -0.0041   -0.0009 -0.0046   \n",
       "Dimension 17 -0.0161      -0.0349   -0.1465 -0.0943   -0.0159 -0.0195   \n",
       "Dimension 18 -0.0830      -0.0649   -0.0168 -0.1296    0.0668  0.0162   \n",
       "Dimension 19 -0.0881      -0.0582    0.0330  0.0649   -0.1848 -0.1944   \n",
       "Dimension 20  0.0241       0.0205    0.0171  0.0203   -0.1618  0.0386   \n",
       "Dimension 21  0.0200      -0.0170   -0.1690  0.0486    0.1625  0.0451   \n",
       "Dimension 22  0.0866       0.0093    0.2798 -0.0317   -0.0365 -0.1289   \n",
       "Dimension 23 -0.0502       0.0326   -0.0552 -0.0216   -0.0974  0.0878   \n",
       "Dimension 24  0.0526      -0.0174    0.0195  0.0127   -0.0356  0.0070   \n",
       "Dimension 25 -0.0132      -0.0757   -0.0100  0.0775    0.0646  0.0400   \n",
       "Dimension 26  0.0078      -0.0730    0.0708 -0.0207   -0.0175 -0.0813   \n",
       "Dimension 27  0.0277       0.0082   -0.0440  0.0342    0.0417  0.0392   \n",
       "Dimension 28  0.0519      -0.0015   -0.1081 -0.0417    0.0968  0.2291   \n",
       "Dimension 29 -0.0530       0.0238    0.1239 -0.0101   -0.0063 -0.1600   \n",
       "Dimension 30 -0.1260       0.1121   -0.0190 -0.0469    0.0503  0.0137   \n",
       "\n",
       "              LIFE_STAGE  \n",
       "Dimension 1      -0.1241  \n",
       "Dimension 2      -0.0070  \n",
       "Dimension 3      -0.0082  \n",
       "Dimension 4       0.0591  \n",
       "Dimension 5       0.0274  \n",
       "Dimension 6       0.0560  \n",
       "Dimension 7      -0.0758  \n",
       "Dimension 8      -0.0226  \n",
       "Dimension 9       0.0408  \n",
       "Dimension 10     -0.1591  \n",
       "Dimension 11     -0.1040  \n",
       "Dimension 12      0.0902  \n",
       "Dimension 13     -0.3349  \n",
       "Dimension 14      0.2381  \n",
       "Dimension 15     -0.0806  \n",
       "Dimension 16      0.0062  \n",
       "Dimension 17      0.1247  \n",
       "Dimension 18      0.0771  \n",
       "Dimension 19      0.5854  \n",
       "Dimension 20     -0.2143  \n",
       "Dimension 21      0.0438  \n",
       "Dimension 22      0.1560  \n",
       "Dimension 23     -0.3786  \n",
       "Dimension 24     -0.0786  \n",
       "Dimension 25      0.0353  \n",
       "Dimension 26     -0.0480  \n",
       "Dimension 27      0.0564  \n",
       "Dimension 28      0.1276  \n",
       "Dimension 29     -0.0118  \n",
       "Dimension 30      0.1079  \n",
       "\n",
       "[30 rows x 65 columns]"
      ]
     },
     "execution_count": 87,
     "metadata": {},
     "output_type": "execute_result"
    }
   ],
   "source": [
    "pca_results(azdias_mixed_features_dopped, pca_30)"
   ]
  },
  {
   "cell_type": "code",
   "execution_count": 88,
   "metadata": {},
   "outputs": [
    {
     "data": {
      "image/png": "[encoded data removed]",
      "text/plain": [
       "<matplotlib.figure.Figure at 0x7f0a9df52ba8>"
      ]
     },
     "metadata": {
      "needs_background": "light"
     },
     "output_type": "display_data"
    }
   ],
   "source": [
    "# Map weights for the first principal component to corresponding feature names\n",
    "# and then print the linked values, sorted by weight.\n",
    "# HINT: Try defining a function here or in a new cell that you can reuse in the\n",
    "# other cells.\n",
    "\n",
    "show_pca(azdias_mixed_features_dopped, pca_30, 1)"
   ]
  },
  {
   "cell_type": "code",
   "execution_count": 89,
   "metadata": {},
   "outputs": [
    {
     "data": {
      "image/png": "[encoded data removed]",
      "text/plain": [
       "<matplotlib.figure.Figure at 0x7f0a9a3e5cf8>"
      ]
     },
     "metadata": {
      "needs_background": "light"
     },
     "output_type": "display_data"
    }
   ],
   "source": [
    "# Map weights for the second principal component to corresponding feature names\n",
    "# and then print the linked values, sorted by weight.\n",
    "\n",
    "show_pca(azdias_mixed_features_dopped, pca_30, 2)"
   ]
  },
  {
   "cell_type": "code",
   "execution_count": 90,
   "metadata": {},
   "outputs": [
    {
     "data": {
      "image/png": "[encoded data removed]",
      "text/plain": [
       "<matplotlib.figure.Figure at 0x7f0a9b282278>"
      ]
     },
     "metadata": {
      "needs_background": "light"
     },
     "output_type": "display_data"
    }
   ],
   "source": [
    "# Map weights for the third principal component to corresponding feature names\n",
    "# and then print the linked values, sorted by weight.\n",
    "\n",
    "show_pca(azdias_mixed_features_dopped, pca_30, 3)"
   ]
  },
  {
   "cell_type": "markdown",
   "metadata": {},
   "source": [
    "### Discussion 2.3: Interpret Principal Components"
   ]
  },
  {
   "cell_type": "markdown",
   "metadata": {},
   "source": [
    "###### Component 1\n",
    "\n",
    "Top positive:\n",
    " 1. PLZ8_ANTG3: Number of 6-10 family houses in the PLZ8 region (no to high)\n",
    " 2. PLZ8_ANTG4: Number of 10+ family houses in the PLZ8 region (no to high)\n",
    " 3. WEALTH: Wealthy Households to Poorer Households\n",
    " 4. HH_EINKOMMEN_SCORE: Estimated household net income (hight to low)\n",
    " \n",
    "Top negative:\n",
    " 1. PLZ8_ANTG1: Number of 1-2 family houses in the PLZ8 region (no to high)\n",
    " 2. FINANZ_MINIMALIST: Financial typology (high financial interest to low)\n",
    " 3. KBA05_ANTG1: Number of 1-2 family houses in the microcell (no to high)\n",
    " 4. MOBI_REGIO: Movement patterns (hight to low)\n",
    " \n",
    "Component 1 seems to reflect people with a low income who live in larger residential buildings, move frequently and have little financial interest."
   ]
  },
  {
   "cell_type": "markdown",
   "metadata": {},
   "source": [
    "##### Component 2\n",
    "\n",
    "Top positive:\n",
    " 1. ALTERSKATEGORIE_GROB: Estimated age based on given name analysis (low to high)\n",
    " 2. SEMIO_ERL: Personality typology (high event-oriented to low)\n",
    " 3. FINANZ_VORSORGER: Financial typology (be high prepared to low)\n",
    " 4. SEMIO_LUST: Personality typology (hight sensual-minded to low)\n",
    " \n",
    "Top negative:\n",
    " 1. FINANZ_SPARER: Financial typology (hight money-saver to low)\n",
    " 2. SEMIO_PFLICHT: Personality typology (high dutiful to low)\n",
    " 3. DECADE: Dominating movement of person's youth (40s to 90s)\n",
    " 4. SEMIO_REL: Personality typology (high relgious to low)\n",
    " \n",
    "Component 2 seems to depict people with a higher age, whose formative decade was rather earlier. They are more religious, dutiful and less event-oriented and financially precautionary."
   ]
  },
  {
   "cell_type": "markdown",
   "metadata": {},
   "source": [
    "##### Component 3\n",
    "\n",
    "Top positive:\n",
    " 1. SEMIO_VERT: Personality typology (high dreamful to low)\n",
    " 2. SEMIO_SOZ: Personality typology (high socially-minded to low)\n",
    " 3. SEMIO_FAM: Personality typology (high family-minded to low)\n",
    " 4. SEMIO_KULT: Personality typology (hight cultural-minded to low)\n",
    " \n",
    "Top negative:\n",
    " 1. SEMIO_KRIT: Personality typology (high critical-minded to low)\n",
    " 2. SEMIO_DOM: Personality typology (high dominant-minded to low)\n",
    " 3. SEMIO_KAEM: Personality typology (high combative attitude to low)\n",
    " 4. ANREDE_KZ: Gender (male to female)\n",
    " \n",
    "Component 3 seems to depict men who have more dreams, are socially, family and cultural minded. But they show less dominant, combative and ciritcal-minded behaviour"
   ]
  },
  {
   "cell_type": "markdown",
   "metadata": {},
   "source": [
    "## Step 3: Clustering\n",
    "\n",
    "### Step 3.1: Apply Clustering to General Population\n",
    "\n",
    "You've assessed and cleaned the demographics data, then scaled and transformed them. Now, it's time to see how the data clusters in the principal components space. In this substep, you will apply k-means clustering to the dataset and use the average within-cluster distances from each point to their assigned cluster's centroid to decide on a number of clusters to keep.\n",
    "\n",
    "- Use sklearn's [KMeans](http://scikit-learn.org/stable/modules/generated/sklearn.cluster.KMeans.html#sklearn.cluster.KMeans) class to perform k-means clustering on the PCA-transformed data.\n",
    "- Then, compute the average difference from each point to its assigned cluster's center. **Hint**: The KMeans object's `.score()` method might be useful here, but note that in sklearn, scores tend to be defined so that larger is better. Try applying it to a small, toy dataset, or use an internet search to help your understanding.\n",
    "- Perform the above two steps for a number of different cluster counts. You can then see how the average distance decreases with an increasing number of clusters. However, each additional cluster provides a smaller net benefit. Use this fact to select a final number of clusters in which to group the data. **Warning**: because of the large size of the dataset, it can take a long time for the algorithm to resolve. The more clusters to fit, the longer the algorithm will take. You should test for cluster counts through at least 10 clusters to get the full picture, but you shouldn't need to test for a number of clusters above about 30.\n",
    "- Once you've selected a final number of clusters to use, re-fit a KMeans instance to perform the clustering operation. Make sure that you also obtain the cluster assignments for the general demographics data, since you'll be using them in the final Step 3.3."
   ]
  },
  {
   "cell_type": "code",
   "execution_count": 91,
   "metadata": {},
   "outputs": [],
   "source": [
    "def get_kmeans_score(data, center):\n",
    "    '''\n",
    "    returns the kmeans score regarding SSE for points to centers\n",
    "    INPUT:\n",
    "        data - the dataset you want to fit kmeans to\n",
    "        center - the number of centers you want (the k value)\n",
    "    OUTPUT:\n",
    "        score - the SSE score for the kmeans model fit to the data\n",
    "    '''\n",
    "    #instantiate kmeans\n",
    "    kmeans = KMeans(n_clusters=center)\n",
    "\n",
    "    # Then fit the model to your data using the fit method\n",
    "    model = kmeans.fit(data)\n",
    "    \n",
    "    # Obtain a score related to the model fit\n",
    "    score = np.abs(model.score(data))\n",
    "    \n",
    "    return score"
   ]
  },
  {
   "cell_type": "code",
   "execution_count": 92,
   "metadata": {},
   "outputs": [],
   "source": [
    "# Over a number of different cluster counts...\n",
    "# run k-means clustering on the data and...\n",
    "# compute the average within-cluster distances.\n",
    "\n",
    "scores = []\n",
    "centers = list(range(1,11))\n",
    "\n",
    "for center in centers:\n",
    "    scores.append(get_kmeans_score(azdias_pca_30, center))"
   ]
  },
  {
   "cell_type": "code",
   "execution_count": 93,
   "metadata": {},
   "outputs": [
    {
     "data": {
      "image/png": "[encoded data removed]",
      "text/plain": [
       "<matplotlib.figure.Figure at 0x7f0a9b222fd0>"
      ]
     },
     "metadata": {
      "needs_background": "light"
     },
     "output_type": "display_data"
    }
   ],
   "source": [
    "# Investigate the change in within-cluster distance across number of clusters.\n",
    "# HINT: Use matplotlib's plot function to visualize this relationship.\n",
    "\n",
    "plt.plot(centers, scores, linestyle='--', marker='o', color='b');\n",
    "plt.xlabel('K');\n",
    "plt.ylabel('SSE');\n",
    "plt.title('SSE vs. K');"
   ]
  },
  {
   "cell_type": "code",
   "execution_count": 94,
   "metadata": {},
   "outputs": [],
   "source": [
    "# Re-fit the k-means model with the selected number of clusters and obtain\n",
    "# cluster predictions for the general population demographics data.\n",
    "\n",
    "k_means = KMeans(n_clusters = 10)\n",
    "azdias_model_10 = k_means.fit(azdias_pca_30)"
   ]
  },
  {
   "cell_type": "code",
   "execution_count": 95,
   "metadata": {},
   "outputs": [],
   "source": [
    "azdias_model_10_pred = azdias_model_10.predict(azdias_pca_30)"
   ]
  },
  {
   "cell_type": "markdown",
   "metadata": {},
   "source": [
    "### Discussion 3.1: Apply Clustering to General Population"
   ]
  },
  {
   "cell_type": "markdown",
   "metadata": {},
   "source": [
    "There is no clear elbow in the diagram. The score decresing to the end. That is why I decided to use 10 clusters."
   ]
  },
  {
   "cell_type": "markdown",
   "metadata": {},
   "source": [
    "### Step 3.2: Apply All Steps to the Customer Data\n",
    "\n",
    "Now that you have clusters and cluster centers for the general population, it's time to see how the customer data maps on to those clusters. Take care to not confuse this for re-fitting all of the models to the customer data. Instead, you're going to use the fits from the general population to clean, transform, and cluster the customer data. In the last step of the project, you will interpret how the general population fits apply to the customer data.\n",
    "\n",
    "- Don't forget when loading in the customers data, that it is semicolon (`;`) delimited.\n",
    "- Apply the same feature wrangling, selection, and engineering steps to the customer demographics using the `clean_data()` function you created earlier. (You can assume that the customer demographics data has similar meaning behind missing data patterns as the general demographics data.)\n",
    "- Use the sklearn objects from the general demographics data, and apply their transformations to the customers data. That is, you should not be using a `.fit()` or `.fit_transform()` method to re-fit the old objects, nor should you be creating new sklearn objects! Carry the data through the feature scaling, PCA, and clustering steps, obtaining cluster assignments for all of the data in the customer demographics data."
   ]
  },
  {
   "cell_type": "code",
   "execution_count": 96,
   "metadata": {},
   "outputs": [],
   "source": [
    "# Load in the customer demographics data.\n",
    "customers = pd.read_csv('Udacity_CUSTOMERS_Subset.csv', delimiter = ';')"
   ]
  },
  {
   "cell_type": "code",
   "execution_count": 97,
   "metadata": {},
   "outputs": [
    {
     "name": "stdout",
     "output_type": "stream",
     "text": [
      "<class 'pandas.core.frame.DataFrame'>\n",
      "RangeIndex: 191652 entries, 0 to 191651\n",
      "Data columns (total 85 columns):\n",
      "AGER_TYP                 191652 non-null int64\n",
      "ALTERSKATEGORIE_GROB     191652 non-null int64\n",
      "ANREDE_KZ                191652 non-null int64\n",
      "CJT_GESAMTTYP            188439 non-null float64\n",
      "FINANZ_MINIMALIST        191652 non-null int64\n",
      "FINANZ_SPARER            191652 non-null int64\n",
      "FINANZ_VORSORGER         191652 non-null int64\n",
      "FINANZ_ANLEGER           191652 non-null int64\n",
      "FINANZ_UNAUFFAELLIGER    191652 non-null int64\n",
      "FINANZ_HAUSBAUER         191652 non-null int64\n",
      "FINANZTYP                191652 non-null int64\n",
      "GEBURTSJAHR              191652 non-null int64\n",
      "GFK_URLAUBERTYP          188439 non-null float64\n",
      "GREEN_AVANTGARDE         191652 non-null int64\n",
      "HEALTH_TYP               191652 non-null int64\n",
      "LP_LEBENSPHASE_FEIN      188439 non-null float64\n",
      "LP_LEBENSPHASE_GROB      188439 non-null float64\n",
      "LP_FAMILIE_FEIN          188439 non-null float64\n",
      "LP_FAMILIE_GROB          188439 non-null float64\n",
      "LP_STATUS_FEIN           188439 non-null float64\n",
      "LP_STATUS_GROB           188439 non-null float64\n",
      "NATIONALITAET_KZ         191652 non-null int64\n",
      "PRAEGENDE_JUGENDJAHRE    191652 non-null int64\n",
      "RETOURTYP_BK_S           188439 non-null float64\n",
      "SEMIO_SOZ                191652 non-null int64\n",
      "SEMIO_FAM                191652 non-null int64\n",
      "SEMIO_REL                191652 non-null int64\n",
      "SEMIO_MAT                191652 non-null int64\n",
      "SEMIO_VERT               191652 non-null int64\n",
      "SEMIO_LUST               191652 non-null int64\n",
      "SEMIO_ERL                191652 non-null int64\n",
      "SEMIO_KULT               191652 non-null int64\n",
      "SEMIO_RAT                191652 non-null int64\n",
      "SEMIO_KRIT               191652 non-null int64\n",
      "SEMIO_DOM                191652 non-null int64\n",
      "SEMIO_KAEM               191652 non-null int64\n",
      "SEMIO_PFLICHT            191652 non-null int64\n",
      "SEMIO_TRADV              191652 non-null int64\n",
      "SHOPPER_TYP              191652 non-null int64\n",
      "SOHO_KZ                  145056 non-null float64\n",
      "TITEL_KZ                 145056 non-null float64\n",
      "VERS_TYP                 191652 non-null int64\n",
      "ZABEOTYP                 191652 non-null int64\n",
      "ALTER_HH                 145056 non-null float64\n",
      "ANZ_PERSONEN             145056 non-null float64\n",
      "ANZ_TITEL                145056 non-null float64\n",
      "HH_EINKOMMEN_SCORE       188684 non-null float64\n",
      "KK_KUNDENTYP             79715 non-null float64\n",
      "W_KEIT_KIND_HH           137910 non-null float64\n",
      "WOHNDAUER_2008           145056 non-null float64\n",
      "ANZ_HAUSHALTE_AKTIV      141725 non-null float64\n",
      "ANZ_HH_TITEL             139542 non-null float64\n",
      "GEBAEUDETYP              141725 non-null float64\n",
      "KONSUMNAEHE              145001 non-null float64\n",
      "MIN_GEBAEUDEJAHR         141725 non-null float64\n",
      "OST_WEST_KZ              141725 non-null object\n",
      "WOHNLAGE                 141725 non-null float64\n",
      "CAMEO_DEUG_2015          141224 non-null object\n",
      "CAMEO_DEU_2015           141224 non-null object\n",
      "CAMEO_INTL_2015          141224 non-null object\n",
      "KBA05_ANTG1              135672 non-null float64\n",
      "KBA05_ANTG2              135672 non-null float64\n",
      "KBA05_ANTG3              135672 non-null float64\n",
      "KBA05_ANTG4              135672 non-null float64\n",
      "KBA05_BAUMAX             135672 non-null float64\n",
      "KBA05_GBZ                135672 non-null float64\n",
      "BALLRAUM                 141693 non-null float64\n",
      "EWDICHTE                 141693 non-null float64\n",
      "INNENSTADT               141693 non-null float64\n",
      "GEBAEUDETYP_RASTER       141725 non-null float64\n",
      "KKK                      137392 non-null float64\n",
      "MOBI_REGIO               135672 non-null float64\n",
      "ONLINE_AFFINITAET        188439 non-null float64\n",
      "REGIOTYP                 137392 non-null float64\n",
      "KBA13_ANZAHL_PKW         140371 non-null float64\n",
      "PLZ8_ANTG1               138888 non-null float64\n",
      "PLZ8_ANTG2               138888 non-null float64\n",
      "PLZ8_ANTG3               138888 non-null float64\n",
      "PLZ8_ANTG4               138888 non-null float64\n",
      "PLZ8_BAUMAX              138888 non-null float64\n",
      "PLZ8_HHZ                 138888 non-null float64\n",
      "PLZ8_GBZ                 138888 non-null float64\n",
      "ARBEIT                   141176 non-null float64\n",
      "ORTSGR_KLS9              141176 non-null float64\n",
      "RELAT_AB                 141176 non-null float64\n",
      "dtypes: float64(49), int64(32), object(4)\n",
      "memory usage: 124.3+ MB\n"
     ]
    }
   ],
   "source": [
    "customers.info()"
   ]
  },
  {
   "cell_type": "code",
   "execution_count": 98,
   "metadata": {},
   "outputs": [
    {
     "name": "stdout",
     "output_type": "stream",
     "text": [
      "Numpy NaN values before parsing: 2252274\n",
      "Numpy NaN values after parsing: 3112918\n",
      "860644 new NaN values\n",
      "6 Columns dropped\n",
      "13 Columns dropped.\n",
      "6 Columns dropped.\n"
     ]
    }
   ],
   "source": [
    "# Apply preprocessing, feature transformation, and clustering from the general\n",
    "# demographics onto the customer data, obtaining cluster predictions for the\n",
    "# customer demographics data.\n",
    "\n",
    "customers_clean = clean_data(customers)"
   ]
  },
  {
   "cell_type": "code",
   "execution_count": 99,
   "metadata": {},
   "outputs": [
    {
     "name": "stdout",
     "output_type": "stream",
     "text": [
      "General Population Columns: 64\n",
      "Customer Columns: 64\n"
     ]
    }
   ],
   "source": [
    "print(\"General Population Columns: {}\".format(azdias_mixed_features_dopped.shape[1]))\n",
    "print(\"Customer Columns: {}\".format(customers_clean.shape[1]))"
   ]
  },
  {
   "cell_type": "code",
   "execution_count": 100,
   "metadata": {},
   "outputs": [],
   "source": [
    "customers_imputed = imputer.transform(customers_clean)\n",
    "customers_scaled = scaler.transform(customers_imputed)"
   ]
  },
  {
   "cell_type": "code",
   "execution_count": 101,
   "metadata": {},
   "outputs": [],
   "source": [
    "customers_pca_transformed = pca_30.transform(customers_scaled)"
   ]
  },
  {
   "cell_type": "code",
   "execution_count": 102,
   "metadata": {},
   "outputs": [],
   "source": [
    "customers_model_10_pred = azdias_model_10.predict(customers_pca_transformed)"
   ]
  },
  {
   "cell_type": "markdown",
   "metadata": {},
   "source": [
    "### Step 3.3: Compare Customer Data to Demographics Data\n",
    "\n",
    "At this point, you have clustered data based on demographics of the general population of Germany, and seen how the customer data for a mail-order sales company maps onto those demographic clusters. In this final substep, you will compare the two cluster distributions to see where the strongest customer base for the company is.\n",
    "\n",
    "Consider the proportion of persons in each cluster for the general population, and the proportions for the customers. If we think the company's customer base to be universal, then the cluster assignment proportions should be fairly similar between the two. If there are only particular segments of the population that are interested in the company's products, then we should see a mismatch from one to the other. If there is a higher proportion of persons in a cluster for the customer data compared to the general population (e.g. 5% of persons are assigned to a cluster for the general population, but 15% of the customer data is closest to that cluster's centroid) then that suggests the people in that cluster to be a target audience for the company. On the other hand, the proportion of the data in a cluster being larger in the general population than the customer data (e.g. only 2% of customers closest to a population centroid that captures 6% of the data) suggests that group of persons to be outside of the target demographics.\n",
    "\n",
    "Take a look at the following points in this step:\n",
    "\n",
    "- Compute the proportion of data points in each cluster for the general population and the customer data. Visualizations will be useful here: both for the individual dataset proportions, but also to visualize the ratios in cluster representation between groups. Seaborn's [`countplot()`](https://seaborn.pydata.org/generated/seaborn.countplot.html) or [`barplot()`](https://seaborn.pydata.org/generated/seaborn.barplot.html) function could be handy.\n",
    "  - Recall the analysis you performed in step 1.1.3 of the project, where you separated out certain data points from the dataset if they had more than a specified threshold of missing values. If you found that this group was qualitatively different from the main bulk of the data, you should treat this as an additional data cluster in this analysis. Make sure that you account for the number of data points in this subset, for both the general population and customer datasets, when making your computations!\n",
    "- Which cluster or clusters are overrepresented in the customer dataset compared to the general population? Select at least one such cluster and infer what kind of people might be represented by that cluster. Use the principal component interpretations from step 2.3 or look at additional components to help you make this inference. Alternatively, you can use the `.inverse_transform()` method of the PCA and StandardScaler objects to transform centroids back to the original data space and interpret the retrieved values directly.\n",
    "- Perform a similar investigation for the underrepresented clusters. Which cluster or clusters are underrepresented in the customer dataset compared to the general population, and what kinds of people are typified by these clusters?"
   ]
  },
  {
   "cell_type": "code",
   "execution_count": 103,
   "metadata": {},
   "outputs": [],
   "source": [
    "df_customers_pred = pd.DataFrame(customers_model_10_pred, columns=[\"Predictions\"])\n",
    "df_azidias_pred = pd.DataFrame(azdias_model_10_pred, columns=[\"Predictions\"])"
   ]
  },
  {
   "cell_type": "code",
   "execution_count": 104,
   "metadata": {},
   "outputs": [],
   "source": [
    "df_customers_pred_size = df_customers_pred.groupby('Predictions').size()\n",
    "df_azidias_pred_size = df_azidias_pred.groupby('Predictions').size()"
   ]
  },
  {
   "cell_type": "code",
   "execution_count": 105,
   "metadata": {},
   "outputs": [
    {
     "name": "stdout",
     "output_type": "stream",
     "text": [
      "Customer Proportions: \n",
      "       Proportions\n",
      "Index             \n",
      "0         0.013447\n",
      "1         0.502578\n",
      "2         0.009511\n",
      "3         0.122329\n",
      "4         0.122418\n",
      "5         0.083508\n",
      "6         0.024905\n",
      "7         0.091347\n",
      "8         0.008921\n",
      "9         0.021035\n",
      "\n",
      "General Proportions:        Proportions\n",
      "Index             \n",
      "0         0.095485\n",
      "1         0.169363\n",
      "2         0.088017\n",
      "3         0.138119\n",
      "4         0.075385\n",
      "5         0.111186\n",
      "6         0.088870\n",
      "7         0.132264\n",
      "8         0.097104\n",
      "9         0.004206\n"
     ]
    }
   ],
   "source": [
    "df_customers_pred_proportions = pd.DataFrame(df_customers_pred_size / df_customers_pred_size.sum(), columns=[\"Proportions\"])\n",
    "df_azidias_pred_proportions = pd.DataFrame(df_azidias_pred_size / df_azidias_pred_size.sum(), columns=[\"Proportions\"])\n",
    "\n",
    "df_customers_pred_proportions = df_customers_pred_proportions.rename_axis(\"Index\")\n",
    "df_azidias_pred_proportions = df_azidias_pred_proportions.rename_axis(\"Index\")\n",
    "\n",
    "print(\"Customer Proportions: \\n{}\\n\".format(df_customers_pred_proportions))\n",
    "print(\"General Proportions: {}\".format(df_azidias_pred_proportions))"
   ]
  },
  {
   "cell_type": "code",
   "execution_count": 106,
   "metadata": {},
   "outputs": [
    {
     "data": {
      "text/plain": [
       "Text(0.5,1,'General Population Clusters')"
      ]
     },
     "execution_count": 106,
     "metadata": {},
     "output_type": "execute_result"
    },
    {
     "data": {
      "image/png": "[encoded data removed]",
      "text/plain": [
       "<matplotlib.figure.Figure at 0x7f0a9dfa4208>"
      ]
     },
     "metadata": {},
     "output_type": "display_data"
    }
   ],
   "source": [
    "# Compare the proportion of data in each cluster for the customer data to the\n",
    "# proportion of data in each cluster for the general population.\n",
    "\n",
    "fig, axs = plt.subplots(1, 2, figsize=(15, 3), facecolor='w', edgecolor='k')\n",
    "fig.subplots_adjust(hspace = 2 , wspace = .2)\n",
    "axs = axs.ravel()\n",
    "\n",
    "sns.barplot(x=df_customers_pred_proportions.index, y=\"Proportions\", data=df_customers_pred_proportions, ax=axs[0])\n",
    "sns.barplot(x=df_customers_pred_proportions.index, y=\"Proportions\", data=df_azidias_pred_proportions, ax=axs[1])\n",
    "\n",
    "axs[0].set(ylim=(0, 0.6))\n",
    "axs[1].set(ylim=(0, 0.6))\n",
    "\n",
    "axs[0].set_title('Customer Clusters')\n",
    "axs[1].set_title('General Population Clusters')"
   ]
  },
  {
   "cell_type": "code",
   "execution_count": 107,
   "metadata": {},
   "outputs": [
    {
     "name": "stdout",
     "output_type": "stream",
     "text": [
      "Overrepresented: \n",
      "Index\n",
      "1    0.333215\n",
      "4    0.047033\n",
      "9    0.016829\n",
      "Name: Proportions, dtype: float64\n",
      "\n",
      "Underrepresented: \n",
      "Index\n",
      "2   -0.078506\n",
      "0   -0.082039\n",
      "8   -0.088183\n",
      "Name: Proportions, dtype: float64\n"
     ]
    }
   ],
   "source": [
    "diff_proportions = df_customers_pred_proportions[\"Proportions\"] - df_azidias_pred_proportions[\"Proportions\"]\n",
    "diff_proportions.sort_values(ascending=False, inplace=True)\n",
    "\n",
    "print(\"Overrepresented: \\n{}\\n\".format(diff_proportions.head(3)))\n",
    "print(\"Underrepresented: \\n{}\".format(diff_proportions.tail(3)))"
   ]
  },
  {
   "cell_type": "code",
   "execution_count": 108,
   "metadata": {},
   "outputs": [],
   "source": [
    "def get_cluster_values(cluster_number):\n",
    "    cluster_data = scaler.inverse_transform(pca_30.inverse_transform(azdias_model_10.cluster_centers_[cluster_number]))\n",
    "    \n",
    "    return pd.Series(cluster_data, index=customers_clean.columns)"
   ]
  },
  {
   "cell_type": "code",
   "execution_count": 115,
   "metadata": {},
   "outputs": [],
   "source": [
    "# What kinds of people are part of a cluster that is overrepresented in the\n",
    "# customer data compared to the general population?\n",
    "\n",
    "customers_overrepresented = get_cluster_values(1)"
   ]
  },
  {
   "cell_type": "code",
   "execution_count": 116,
   "metadata": {},
   "outputs": [
    {
     "data": {
      "text/plain": [
       "ALTERSKATEGORIE_GROB     3.355078\n",
       "ANREDE_KZ                1.074274\n",
       "FINANZ_MINIMALIST        4.704577\n",
       "FINANZ_SPARER            1.594615\n",
       "FINANZ_VORSORGER         4.291779\n",
       "FINANZ_ANLEGER           1.850238\n",
       "FINANZ_UNAUFFAELLIGER    1.863863\n",
       "FINANZ_HAUSBAUER         2.071398\n",
       "GREEN_AVANTGARDE         0.399563\n",
       "HEALTH_TYP               2.242735\n",
       "RETOURTYP_BK_S           3.875868\n",
       "SEMIO_SOZ                4.745067\n",
       "SEMIO_FAM                4.683509\n",
       "SEMIO_REL                3.649199\n",
       "SEMIO_MAT                3.550120\n",
       "SEMIO_VERT               5.934684\n",
       "SEMIO_LUST               5.059830\n",
       "SEMIO_ERL                4.286432\n",
       "SEMIO_KULT               4.853075\n",
       "SEMIO_RAT                2.608947\n",
       "SEMIO_KRIT               3.434051\n",
       "SEMIO_DOM                3.273021\n",
       "SEMIO_KAEM               2.595992\n",
       "SEMIO_PFLICHT            3.176134\n",
       "SEMIO_TRADV              2.971313\n",
       "SOHO_KZ                  0.008949\n",
       "VERS_TYP                 1.592960\n",
       "ANZ_PERSONEN             2.079003\n",
       "ANZ_TITEL               -0.000087\n",
       "HH_EINKOMMEN_SCORE       3.272188\n",
       "W_KEIT_KIND_HH           4.306290\n",
       "WOHNDAUER_2008           8.448180\n",
       "dtype: float64"
      ]
     },
     "execution_count": 116,
     "metadata": {},
     "output_type": "execute_result"
    }
   ],
   "source": [
    "customers_overrepresented.head(32)"
   ]
  },
  {
   "cell_type": "code",
   "execution_count": 117,
   "metadata": {},
   "outputs": [
    {
     "data": {
      "text/plain": [
       "ANZ_HAUSHALTE_AKTIV       2.093791\n",
       "ANZ_HH_TITEL              0.006246\n",
       "KONSUMNAEHE               3.759576\n",
       "MIN_GEBAEUDEJAHR       1992.977685\n",
       "OST_WEST_KZ               0.150857\n",
       "KBA05_ANTG1               2.605319\n",
       "KBA05_ANTG2               1.121161\n",
       "KBA05_ANTG3               0.107991\n",
       "KBA05_ANTG4               0.014970\n",
       "KBA05_GBZ                 4.115913\n",
       "BALLRAUM                  4.864383\n",
       "EWDICHTE                  3.016554\n",
       "INNENSTADT                5.416065\n",
       "GEBAEUDETYP_RASTER        4.030517\n",
       "KKK                       2.609633\n",
       "MOBI_REGIO                4.138656\n",
       "ONLINE_AFFINITAET         2.851182\n",
       "REGIOTYP                  4.112414\n",
       "KBA13_ANZAHL_PKW        678.945443\n",
       "PLZ8_ANTG1                2.910482\n",
       "PLZ8_ANTG2                2.336178\n",
       "PLZ8_ANTG3                0.926961\n",
       "PLZ8_ANTG4                0.246924\n",
       "PLZ8_HHZ                  3.463275\n",
       "PLZ8_GBZ                  3.880481\n",
       "ARBEIT                    2.784110\n",
       "ORTSGR_KLS9               4.074551\n",
       "RELAT_AB                  2.561514\n",
       "DECADE                    3.505657\n",
       "MOVEMENT                  0.401308\n",
       "WEALTH                    2.308720\n",
       "LIFE_STAGE                3.445360\n",
       "dtype: float64"
      ]
     },
     "execution_count": 117,
     "metadata": {},
     "output_type": "execute_result"
    }
   ],
   "source": [
    "customers_overrepresented.tail(32)"
   ]
  },
  {
   "cell_type": "code",
   "execution_count": 118,
   "metadata": {},
   "outputs": [],
   "source": [
    "# What kinds of people are part of a cluster that is underrepresented in the\n",
    "# customer data compared to the general population?\n",
    "\n",
    "customers_underrepresented = get_cluster_values(8)"
   ]
  },
  {
   "cell_type": "code",
   "execution_count": 119,
   "metadata": {},
   "outputs": [
    {
     "data": {
      "text/plain": [
       "ALTERSKATEGORIE_GROB     1.517466\n",
       "ANREDE_KZ                2.023030\n",
       "FINANZ_MINIMALIST        1.201924\n",
       "FINANZ_SPARER            4.215537\n",
       "FINANZ_VORSORGER         2.200322\n",
       "FINANZ_ANLEGER           4.104658\n",
       "FINANZ_UNAUFFAELLIGER    3.601279\n",
       "FINANZ_HAUSBAUER         4.161798\n",
       "GREEN_AVANTGARDE         0.035214\n",
       "HEALTH_TYP               2.182021\n",
       "RETOURTYP_BK_S           2.428417\n",
       "SEMIO_SOZ                3.197332\n",
       "SEMIO_FAM                3.899853\n",
       "SEMIO_REL                5.335389\n",
       "SEMIO_MAT                5.144151\n",
       "SEMIO_VERT               2.232883\n",
       "SEMIO_LUST               2.564065\n",
       "SEMIO_ERL                4.063118\n",
       "SEMIO_KULT               4.206358\n",
       "SEMIO_RAT                6.388342\n",
       "SEMIO_KRIT               5.525340\n",
       "SEMIO_DOM                6.325700\n",
       "SEMIO_KAEM               6.211330\n",
       "SEMIO_PFLICHT            6.348020\n",
       "SEMIO_TRADV              6.004605\n",
       "SOHO_KZ                  0.007944\n",
       "VERS_TYP                 1.454194\n",
       "ANZ_PERSONEN             1.514642\n",
       "ANZ_TITEL               -0.000190\n",
       "HH_EINKOMMEN_SCORE       5.593125\n",
       "W_KEIT_KIND_HH           3.986364\n",
       "WOHNDAUER_2008           7.266615\n",
       "dtype: float64"
      ]
     },
     "execution_count": 119,
     "metadata": {},
     "output_type": "execute_result"
    }
   ],
   "source": [
    "customers_underrepresented.head(32)"
   ]
  },
  {
   "cell_type": "code",
   "execution_count": 120,
   "metadata": {},
   "outputs": [
    {
     "data": {
      "text/plain": [
       "ANZ_HAUSHALTE_AKTIV      14.413489\n",
       "ANZ_HH_TITEL              0.054840\n",
       "KONSUMNAEHE               2.105025\n",
       "MIN_GEBAEUDEJAHR       1992.381039\n",
       "OST_WEST_KZ               0.282142\n",
       "KBA05_ANTG1               0.381135\n",
       "KBA05_ANTG2               1.293345\n",
       "KBA05_ANTG3               1.190662\n",
       "KBA05_ANTG4               0.614706\n",
       "KBA05_GBZ                 2.139856\n",
       "BALLRAUM                  3.192923\n",
       "EWDICHTE                  5.162452\n",
       "INNENSTADT                3.374848\n",
       "GEBAEUDETYP_RASTER        3.412235\n",
       "KKK                       2.875753\n",
       "MOBI_REGIO                1.762717\n",
       "ONLINE_AFFINITAET         3.138634\n",
       "REGIOTYP                  4.985860\n",
       "KBA13_ANZAHL_PKW        520.954667\n",
       "PLZ8_ANTG1                1.470484\n",
       "PLZ8_ANTG2                3.301693\n",
       "PLZ8_ANTG3                2.415396\n",
       "PLZ8_ANTG4                1.283302\n",
       "PLZ8_HHZ                  3.758774\n",
       "PLZ8_GBZ                  2.708140\n",
       "ARBEIT                    3.680243\n",
       "ORTSGR_KLS9               6.965367\n",
       "RELAT_AB                  3.726998\n",
       "DECADE                    5.640117\n",
       "MOVEMENT                  0.036342\n",
       "WEALTH                    4.317255\n",
       "LIFE_STAGE                2.077948\n",
       "dtype: float64"
      ]
     },
     "execution_count": 120,
     "metadata": {},
     "output_type": "execute_result"
    }
   ],
   "source": [
    "customers_underrepresented.tail(32)"
   ]
  },
  {
   "cell_type": "markdown",
   "metadata": {},
   "source": [
    "### Discussion 3.3: Compare Customer Data to Demographics Data"
   ]
  },
  {
   "cell_type": "markdown",
   "metadata": {},
   "source": [
    "###### Cluster 1\n",
    "\n",
    "Cluster 5 is a segment which is overrepresented in the customer data in relation to the general demographic data.\n",
    "\n",
    "This segment seems to stand for men in higher middle age with a high income and a high online affinity. They have a high financial interest, often save and invest money and are financially inconspicuous.\n",
    "\n",
    "They are low socially, family and sensual minded and and are very low dreamful. The length of residence is 7-10 years. The life stage is between \"Families With School Age Children\" and \"Older Families & Mature Couples\"."
   ]
  },
  {
   "cell_type": "markdown",
   "metadata": {},
   "source": [
    "###### Cluster 8\n",
    "\n",
    "Cluster 3 is a segment wich is underrepresented in the customer data in relation to the general demographic data.\n",
    "\n",
    "This segment seems to stand for young women with a low to very low income and a high online affinity. They have low financial interest, are not money-saver or investors.\n",
    "\n",
    "They are high socially and sensual minded. Are dreamful, not religious, materialistic or tradional minded. The life stage is \"Young Couples With Children\" and they living in less affluent households. The share of unemployment in the community is high."
   ]
  },
  {
   "cell_type": "code",
   "execution_count": null,
   "metadata": {},
   "outputs": [],
   "source": []
  }
 ],
 "metadata": {
  "kernelspec": {
   "display_name": "Python 3",
   "language": "python",
   "name": "python3"
  },
  "language_info": {
   "codemirror_mode": {
    "name": "ipython",
    "version": 3
   },
   "file_extension": ".py",
   "mimetype": "text/x-python",
   "name": "python",
   "nbconvert_exporter": "python",
   "pygments_lexer": "ipython3",
   "version": "3.7.7"
  }
 },
 "nbformat": 4,
 "nbformat_minor": 2
}
